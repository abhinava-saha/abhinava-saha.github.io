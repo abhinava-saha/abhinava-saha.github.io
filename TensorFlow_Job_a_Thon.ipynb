{
  "nbformat": 4,
  "nbformat_minor": 0,
  "metadata": {
    "hide_input": false,
    "kernelspec": {
      "display_name": "Python 3",
      "language": "python",
      "name": "python3"
    },
    "language_info": {
      "codemirror_mode": {
        "name": "ipython",
        "version": 3
      },
      "file_extension": ".py",
      "mimetype": "text/x-python",
      "name": "python",
      "nbconvert_exporter": "python",
      "pygments_lexer": "ipython3",
      "version": "3.7.7"
    },
    "latex_envs": {
      "LaTeX_envs_menu_present": false,
      "autoclose": false,
      "autocomplete": false,
      "bibliofile": "biblio.bib",
      "cite_by": "apalike",
      "current_citInitial": 1,
      "eqLabelWithNumbers": false,
      "eqNumInitial": 1,
      "hotkeys": {
        "equation": "Ctrl-E",
        "itemize": "Ctrl-I"
      },
      "labels_anchors": false,
      "latex_user_defs": false,
      "report_style_numbering": false,
      "user_envs_cfg": false
    },
    "toc": {
      "base_numbering": 1,
      "nav_menu": {},
      "number_sections": true,
      "sideBar": true,
      "skip_h1_title": false,
      "title_cell": "Table of Contents",
      "title_sidebar": "Contents",
      "toc_cell": true,
      "toc_position": {
        "height": "calc(100% - 180px)",
        "left": "10px",
        "top": "150px",
        "width": "165px"
      },
      "toc_section_display": true,
      "toc_window_display": true
    },
    "varInspector": {
      "cols": {
        "lenName": 16,
        "lenType": 16,
        "lenVar": 40
      },
      "kernels_config": {
        "python": {
          "delete_cmd_postfix": "",
          "delete_cmd_prefix": "del ",
          "library": "var_list.py",
          "varRefreshCmd": "print(var_dic_list())"
        },
        "r": {
          "delete_cmd_postfix": ") ",
          "delete_cmd_prefix": "rm(",
          "library": "var_list.r",
          "varRefreshCmd": "cat(var_dic_list()) "
        }
      },
      "types_to_exclude": [
        "module",
        "function",
        "builtin_function_or_method",
        "instance",
        "_Feature"
      ],
      "window_display": false
    },
    "colab": {
      "name": "TensorFlow_Job-a-Thon.ipynb",
      "provenance": [],
      "collapsed_sections": [],
      "include_colab_link": true
    },
    "accelerator": "TPU"
  },
  "cells": [
    {
      "cell_type": "markdown",
      "metadata": {
        "id": "view-in-github",
        "colab_type": "text"
      },
      "source": [
        "<a href=\"https://colab.research.google.com/github/abhinava-saha/abhinava-saha.github.io/blob/master/TensorFlow_Job_a_Thon.ipynb\" target=\"_parent\"><img src=\"https://colab.research.google.com/assets/colab-badge.svg\" alt=\"Open In Colab\"/></a>"
      ]
    },
    {
      "cell_type": "markdown",
      "metadata": {
        "toc": true,
        "id": "f9mh6LrPCnfx"
      },
      "source": [
        "<h1>Table of Contents<span class=\"tocSkip\"></span></h1>\n",
        "<div class=\"toc\"><ul class=\"toc-item\"></ul></div>"
      ]
    },
    {
      "cell_type": "code",
      "metadata": {
        "ExecuteTime": {
          "end_time": "2021-05-28T16:45:08.676860Z",
          "start_time": "2021-05-28T16:45:00.556760Z"
        },
        "id": "mXPk7iTRCnf4"
      },
      "source": [
        "# Importing the libraries\n",
        "import numpy as np\n",
        "import matplotlib.pyplot as plt\n",
        "import pandas as pd\n",
        "import seaborn as sns # for making plots with seaborn\n",
        "color = sns.color_palette()\n",
        "import sklearn.metrics as metrics\n",
        "from sklearn.metrics import accuracy_score, roc_auc_score, roc_curve,\\\n",
        "                            classification_report, confusion_matrix, plot_confusion_matrix\n",
        "\n",
        "import warnings\n",
        "warnings.filterwarnings(\"ignore\")\n",
        "from IPython.core.interactiveshell import InteractiveShell\n",
        "InteractiveShell.ast_node_interactivity = 'all'  # ‘all’|’last’|’last_expr’|’none’\n",
        "\n",
        "from tensorflow import keras"
      ],
      "execution_count": null,
      "outputs": []
    },
    {
      "cell_type": "code",
      "metadata": {
        "colab": {
          "base_uri": "https://localhost:8080/"
        },
        "id": "nTKYKnLdDUy1",
        "outputId": "07f23f37-2a3a-4ec4-ec19-59339093aa62"
      },
      "source": [
        "from google.colab import drive\n",
        "drive.mount('/content/drive', force_remount=True)\n",
        "root_dir = \"/content/drive/My Drive/DLCP\"\n",
        "root_path = '/content/drive/My Drive/DLCP'\n",
        " \n",
        "#base_dir = root_dir + 'my-images/'"
      ],
      "execution_count": null,
      "outputs": [
        {
          "output_type": "stream",
          "text": [
            "Mounted at /content/drive\n"
          ],
          "name": "stdout"
        }
      ]
    },
    {
      "cell_type": "code",
      "metadata": {
        "id": "P5mHJfc7DUat"
      },
      "source": [
        "train = pd.read_csv('/content/drive/My Drive/DLCP/Hackathon/Train.csv')\n",
        "test = pd.read_csv('/content/drive/My Drive/DLCP/Hackathon/Test.csv')"
      ],
      "execution_count": null,
      "outputs": []
    },
    {
      "cell_type": "code",
      "metadata": {
        "colab": {
          "resources": {
            "http://localhost:8080/nbextensions/google.colab/files.js": {
              "data": "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",
              "ok": true,
              "headers": [
                [
                  "content-type",
                  "application/javascript"
                ]
              ],
              "status": 200,
              "status_text": ""
            }
          },
          "base_uri": "https://localhost:8080/",
          "height": 143
        },
        "id": "gP1z0kHeDzTK",
        "outputId": "97f8eb3d-e0ad-42ba-eb46-5caa05ee67e8"
      },
      "source": [
        "from google.colab import files \n",
        "uploaded = files.upload() # upload file here from local"
      ],
      "execution_count": 6,
      "outputs": [
        {
          "output_type": "display_data",
          "data": {
            "text/html": [
              "\n",
              "     <input type=\"file\" id=\"files-73c4ca71-0140-44fb-8b6f-3f71f015df87\" name=\"files[]\" multiple disabled\n",
              "        style=\"border:none\" />\n",
              "     <output id=\"result-73c4ca71-0140-44fb-8b6f-3f71f015df87\">\n",
              "      Upload widget is only available when the cell has been executed in the\n",
              "      current browser session. Please rerun this cell to enable.\n",
              "      </output>\n",
              "      <script src=\"/nbextensions/google.colab/files.js\"></script> "
            ],
            "text/plain": [
              "<IPython.core.display.HTML object>"
            ]
          },
          "metadata": {
            "tags": []
          }
        },
        {
          "output_type": "stream",
          "text": [
            "Saving submission_file_backup.csv to submission_file_backup (1).csv\n",
            "Saving test_normalized.csv to test_normalized (1).csv\n",
            "Saving train_normalized.csv to train_normalized.csv\n"
          ],
          "name": "stdout"
        }
      ]
    },
    {
      "cell_type": "code",
      "metadata": {
        "id": "E1CgyB_eDURh"
      },
      "source": [
        "import io\n",
        "df_train = pd.read_csv(io.BytesIO(uploaded['train_normalized.csv']))\n",
        "df_test = pd.read_csv(io.BytesIO(uploaded['test_normalized.csv']))\n",
        "test_submission = pd.read_csv(io.BytesIO(uploaded['submission_file_backup.csv']))"
      ],
      "execution_count": 7,
      "outputs": []
    },
    {
      "cell_type": "code",
      "metadata": {
        "ExecuteTime": {
          "end_time": "2021-05-28T16:47:21.453005Z",
          "start_time": "2021-05-28T16:47:20.351593Z"
        },
        "id": "WhcYCo9pCnf6"
      },
      "source": [
        "df_train = pd.read_csv('train_normalized.csv')\n",
        "df_test = pd.read_csv('test_normalized.csv')\n",
        "test_submission = pd.read_csv('submission_file_backup.csv')"
      ],
      "execution_count": null,
      "outputs": []
    },
    {
      "cell_type": "code",
      "metadata": {
        "ExecuteTime": {
          "end_time": "2021-05-28T16:47:38.378292Z",
          "start_time": "2021-05-28T16:47:38.187459Z"
        },
        "id": "7S4u8DRICnf8",
        "colab": {
          "base_uri": "https://localhost:8080/",
          "height": 571
        },
        "outputId": "2a2ec2b4-8b91-4403-b4c3-840e5dada364"
      },
      "source": [
        "df_train.head()\n",
        "df_test.head()\n",
        "test_submission.head()"
      ],
      "execution_count": 8,
      "outputs": [
        {
          "output_type": "execute_result",
          "data": {
            "text/html": [
              "<div>\n",
              "<style scoped>\n",
              "    .dataframe tbody tr th:only-of-type {\n",
              "        vertical-align: middle;\n",
              "    }\n",
              "\n",
              "    .dataframe tbody tr th {\n",
              "        vertical-align: top;\n",
              "    }\n",
              "\n",
              "    .dataframe thead th {\n",
              "        text-align: right;\n",
              "    }\n",
              "</style>\n",
              "<table border=\"1\" class=\"dataframe\">\n",
              "  <thead>\n",
              "    <tr style=\"text-align: right;\">\n",
              "      <th></th>\n",
              "      <th>Gender</th>\n",
              "      <th>Age</th>\n",
              "      <th>Region_Code</th>\n",
              "      <th>Occupation</th>\n",
              "      <th>Channel_Code</th>\n",
              "      <th>Vintage</th>\n",
              "      <th>Credit_Product</th>\n",
              "      <th>Avg_Account_Balance</th>\n",
              "      <th>Is_Active</th>\n",
              "      <th>Is_Lead</th>\n",
              "    </tr>\n",
              "  </thead>\n",
              "  <tbody>\n",
              "    <tr>\n",
              "      <th>0</th>\n",
              "      <td>0</td>\n",
              "      <td>0.806452</td>\n",
              "      <td>18</td>\n",
              "      <td>2</td>\n",
              "      <td>2</td>\n",
              "      <td>0.281250</td>\n",
              "      <td>0.0</td>\n",
              "      <td>6.919500</td>\n",
              "      <td>0</td>\n",
              "      <td>0</td>\n",
              "    </tr>\n",
              "    <tr>\n",
              "      <th>1</th>\n",
              "      <td>0</td>\n",
              "      <td>0.112903</td>\n",
              "      <td>27</td>\n",
              "      <td>1</td>\n",
              "      <td>0</td>\n",
              "      <td>0.195312</td>\n",
              "      <td>0.0</td>\n",
              "      <td>6.796826</td>\n",
              "      <td>0</td>\n",
              "      <td>0</td>\n",
              "    </tr>\n",
              "    <tr>\n",
              "      <th>2</th>\n",
              "      <td>0</td>\n",
              "      <td>0.532258</td>\n",
              "      <td>18</td>\n",
              "      <td>0</td>\n",
              "      <td>2</td>\n",
              "      <td>0.148438</td>\n",
              "      <td>0.0</td>\n",
              "      <td>6.988967</td>\n",
              "      <td>1</td>\n",
              "      <td>0</td>\n",
              "    </tr>\n",
              "    <tr>\n",
              "      <th>3</th>\n",
              "      <td>1</td>\n",
              "      <td>0.177419</td>\n",
              "      <td>20</td>\n",
              "      <td>1</td>\n",
              "      <td>0</td>\n",
              "      <td>0.093750</td>\n",
              "      <td>0.0</td>\n",
              "      <td>6.750197</td>\n",
              "      <td>0</td>\n",
              "      <td>0</td>\n",
              "    </tr>\n",
              "    <tr>\n",
              "      <th>4</th>\n",
              "      <td>0</td>\n",
              "      <td>0.112903</td>\n",
              "      <td>32</td>\n",
              "      <td>1</td>\n",
              "      <td>0</td>\n",
              "      <td>0.203125</td>\n",
              "      <td>0.0</td>\n",
              "      <td>6.885826</td>\n",
              "      <td>0</td>\n",
              "      <td>0</td>\n",
              "    </tr>\n",
              "  </tbody>\n",
              "</table>\n",
              "</div>"
            ],
            "text/plain": [
              "   Gender       Age  Region_Code  ...  Avg_Account_Balance  Is_Active  Is_Lead\n",
              "0       0  0.806452           18  ...             6.919500          0        0\n",
              "1       0  0.112903           27  ...             6.796826          0        0\n",
              "2       0  0.532258           18  ...             6.988967          1        0\n",
              "3       1  0.177419           20  ...             6.750197          0        0\n",
              "4       0  0.112903           32  ...             6.885826          0        0\n",
              "\n",
              "[5 rows x 10 columns]"
            ]
          },
          "metadata": {
            "tags": []
          },
          "execution_count": 8
        },
        {
          "output_type": "execute_result",
          "data": {
            "text/html": [
              "<div>\n",
              "<style scoped>\n",
              "    .dataframe tbody tr th:only-of-type {\n",
              "        vertical-align: middle;\n",
              "    }\n",
              "\n",
              "    .dataframe tbody tr th {\n",
              "        vertical-align: top;\n",
              "    }\n",
              "\n",
              "    .dataframe thead th {\n",
              "        text-align: right;\n",
              "    }\n",
              "</style>\n",
              "<table border=\"1\" class=\"dataframe\">\n",
              "  <thead>\n",
              "    <tr style=\"text-align: right;\">\n",
              "      <th></th>\n",
              "      <th>Gender</th>\n",
              "      <th>Age</th>\n",
              "      <th>Region_Code</th>\n",
              "      <th>Occupation</th>\n",
              "      <th>Channel_Code</th>\n",
              "      <th>Vintage</th>\n",
              "      <th>Credit_Product</th>\n",
              "      <th>Avg_Account_Balance</th>\n",
              "      <th>Is_Active</th>\n",
              "    </tr>\n",
              "  </thead>\n",
              "  <tbody>\n",
              "    <tr>\n",
              "      <th>0</th>\n",
              "      <td>1</td>\n",
              "      <td>0.096774</td>\n",
              "      <td>4</td>\n",
              "      <td>2</td>\n",
              "      <td>0</td>\n",
              "      <td>0.140625</td>\n",
              "      <td>1.0</td>\n",
              "      <td>6.848787</td>\n",
              "      <td>0</td>\n",
              "    </tr>\n",
              "    <tr>\n",
              "      <th>1</th>\n",
              "      <td>1</td>\n",
              "      <td>0.322581</td>\n",
              "      <td>18</td>\n",
              "      <td>2</td>\n",
              "      <td>1</td>\n",
              "      <td>0.328125</td>\n",
              "      <td>0.0</td>\n",
              "      <td>6.894625</td>\n",
              "      <td>0</td>\n",
              "    </tr>\n",
              "    <tr>\n",
              "      <th>2</th>\n",
              "      <td>1</td>\n",
              "      <td>0.129032</td>\n",
              "      <td>20</td>\n",
              "      <td>1</td>\n",
              "      <td>0</td>\n",
              "      <td>0.054688</td>\n",
              "      <td>0.0</td>\n",
              "      <td>6.569445</td>\n",
              "      <td>0</td>\n",
              "    </tr>\n",
              "    <tr>\n",
              "      <th>3</th>\n",
              "      <td>1</td>\n",
              "      <td>0.096774</td>\n",
              "      <td>22</td>\n",
              "      <td>2</td>\n",
              "      <td>0</td>\n",
              "      <td>0.203125</td>\n",
              "      <td>0.0</td>\n",
              "      <td>6.881422</td>\n",
              "      <td>0</td>\n",
              "    </tr>\n",
              "    <tr>\n",
              "      <th>4</th>\n",
              "      <td>0</td>\n",
              "      <td>0.096774</td>\n",
              "      <td>20</td>\n",
              "      <td>2</td>\n",
              "      <td>0</td>\n",
              "      <td>0.093750</td>\n",
              "      <td>0.0</td>\n",
              "      <td>6.822919</td>\n",
              "      <td>0</td>\n",
              "    </tr>\n",
              "  </tbody>\n",
              "</table>\n",
              "</div>"
            ],
            "text/plain": [
              "   Gender       Age  ...  Avg_Account_Balance  Is_Active\n",
              "0       1  0.096774  ...             6.848787          0\n",
              "1       1  0.322581  ...             6.894625          0\n",
              "2       1  0.129032  ...             6.569445          0\n",
              "3       1  0.096774  ...             6.881422          0\n",
              "4       0  0.096774  ...             6.822919          0\n",
              "\n",
              "[5 rows x 9 columns]"
            ]
          },
          "metadata": {
            "tags": []
          },
          "execution_count": 8
        },
        {
          "output_type": "execute_result",
          "data": {
            "text/html": [
              "<div>\n",
              "<style scoped>\n",
              "    .dataframe tbody tr th:only-of-type {\n",
              "        vertical-align: middle;\n",
              "    }\n",
              "\n",
              "    .dataframe tbody tr th {\n",
              "        vertical-align: top;\n",
              "    }\n",
              "\n",
              "    .dataframe thead th {\n",
              "        text-align: right;\n",
              "    }\n",
              "</style>\n",
              "<table border=\"1\" class=\"dataframe\">\n",
              "  <thead>\n",
              "    <tr style=\"text-align: right;\">\n",
              "      <th></th>\n",
              "      <th>ID</th>\n",
              "      <th>Is_Lead</th>\n",
              "    </tr>\n",
              "  </thead>\n",
              "  <tbody>\n",
              "    <tr>\n",
              "      <th>0</th>\n",
              "      <td>VBENBARO</td>\n",
              "      <td>0.035603</td>\n",
              "    </tr>\n",
              "    <tr>\n",
              "      <th>1</th>\n",
              "      <td>CCMEWNKY</td>\n",
              "      <td>0.264289</td>\n",
              "    </tr>\n",
              "    <tr>\n",
              "      <th>2</th>\n",
              "      <td>VK3KGA9M</td>\n",
              "      <td>0.067893</td>\n",
              "    </tr>\n",
              "    <tr>\n",
              "      <th>3</th>\n",
              "      <td>TT8RPZVC</td>\n",
              "      <td>0.034360</td>\n",
              "    </tr>\n",
              "    <tr>\n",
              "      <th>4</th>\n",
              "      <td>SHQZEYTZ</td>\n",
              "      <td>0.032349</td>\n",
              "    </tr>\n",
              "  </tbody>\n",
              "</table>\n",
              "</div>"
            ],
            "text/plain": [
              "         ID   Is_Lead\n",
              "0  VBENBARO  0.035603\n",
              "1  CCMEWNKY  0.264289\n",
              "2  VK3KGA9M  0.067893\n",
              "3  TT8RPZVC  0.034360\n",
              "4  SHQZEYTZ  0.032349"
            ]
          },
          "metadata": {
            "tags": []
          },
          "execution_count": 8
        }
      ]
    },
    {
      "cell_type": "code",
      "metadata": {
        "ExecuteTime": {
          "end_time": "2021-05-28T16:48:06.545121Z",
          "start_time": "2021-05-28T16:48:06.508898Z"
        },
        "id": "hbq-hvklCnf-"
      },
      "source": [
        "X = df_train.drop(['Is_Lead'],axis=1)\n",
        "y = df_train[['Is_Lead']]"
      ],
      "execution_count": 9,
      "outputs": []
    },
    {
      "cell_type": "code",
      "metadata": {
        "ExecuteTime": {
          "end_time": "2021-05-28T16:48:53.779773Z",
          "start_time": "2021-05-28T16:48:53.311097Z"
        },
        "id": "r-vmn014CngC",
        "colab": {
          "base_uri": "https://localhost:8080/"
        },
        "outputId": "f70ccf00-067a-4fff-f018-be683b51268c"
      },
      "source": [
        "from sklearn.model_selection import train_test_split\n",
        "X_train, X_test, y_train, y_test = train_test_split(X,y,test_size=0.30,random_state=51,stratify=df_train['Is_Lead'])\n",
        "\n",
        "\n",
        "print(f'\\033[1mSpliting the Company dataset in Ratio 70:30. \\nShape of ---> \\033[0m\\n\\033[34mX_Train:{X_train.shape}, \\ny_train:{y_train.shape},\\\n",
        "      \\nX_Test:{X_test.shape}, \\ny_test:{y_test.shape}\\033[0m')\n"
      ],
      "execution_count": 46,
      "outputs": [
        {
          "output_type": "stream",
          "text": [
            "\u001b[1mSpliting the Company dataset in Ratio 70:30. \n",
            "Shape of ---> \u001b[0m\n",
            "\u001b[34mX_Train:(172007, 9), \n",
            "y_train:(172007, 1),      \n",
            "X_Test:(73718, 9), \n",
            "y_test:(73718, 1)\u001b[0m\n"
          ],
          "name": "stdout"
        }
      ]
    },
    {
      "cell_type": "code",
      "metadata": {
        "id": "rhaKHJsEJBK3"
      },
      "source": [
        "import tensorflow as tf\n",
        "from tensorflow import keras"
      ],
      "execution_count": 47,
      "outputs": []
    },
    {
      "cell_type": "code",
      "metadata": {
        "ExecuteTime": {
          "end_time": "2021-05-28T17:17:34.749271Z",
          "start_time": "2021-05-28T17:17:34.734758Z"
        },
        "id": "z5uQ-MEHCngD"
      },
      "source": [
        "class myCallback(tf.keras.callbacks.Callback):\n",
        "    def on_epoch_end(self, epoch, logs={}):\n",
        "        DESIRED_ACCURACY = 0.90\n",
        "        if(logs.get('auc') is not None and logs.get('auc') > DESIRED_ACCURACY):\n",
        "            print(\"Reached 99.9% accuracy so cancelling training!\")\n",
        "            self.model.stop_training = True\n",
        "\n",
        "callbacks = myCallback()"
      ],
      "execution_count": 50,
      "outputs": []
    },
    {
      "cell_type": "code",
      "metadata": {
        "id": "QOhJoa-xQbt6"
      },
      "source": [
        "METRICS = [\n",
        "      tf.keras.metrics.TruePositives(name='tp'),\n",
        "      tf.keras.metrics.FalsePositives(name='fp'),\n",
        "      tf.keras.metrics.TrueNegatives(name='tn'),\n",
        "      tf.keras.metrics.FalseNegatives(name='fn'), \n",
        "      tf.keras.metrics.BinaryAccuracy(name='accuracy'),\n",
        "      tf.keras.metrics.Precision(name='precision'),\n",
        "      tf.keras.metrics.Recall(name='recall'),\n",
        "      tf.keras.metrics.AUC(name='auc'),\n",
        "      tf.keras.metrics.AUC(name='prc', curve='PR'), # precision-recall curve\n",
        "]"
      ],
      "execution_count": 51,
      "outputs": []
    },
    {
      "cell_type": "code",
      "metadata": {
        "id": "nnH86vbNIgZO"
      },
      "source": [
        "model = tf.keras.Sequential([\n",
        "    tf.keras.layers.Dense(units=15,activation='relu', input_shape=(X_train.shape[-1],)),\n",
        "    tf.keras.layers.Dropout(0.5),\n",
        "    tf.keras.layers.Dense(1, activation='sigmoid')\n",
        "                            ])"
      ],
      "execution_count": 52,
      "outputs": []
    },
    {
      "cell_type": "code",
      "metadata": {
        "ExecuteTime": {
          "end_time": "2021-05-28T17:08:11.983054Z",
          "start_time": "2021-05-28T17:08:11.973055Z"
        },
        "id": "Jo26uoKzCngG",
        "colab": {
          "base_uri": "https://localhost:8080/"
        },
        "outputId": "aa04f9ba-4e6e-4759-9ed0-85b29b5d753a"
      },
      "source": [
        "model.summary()"
      ],
      "execution_count": 53,
      "outputs": [
        {
          "output_type": "stream",
          "text": [
            "Model: \"sequential_3\"\n",
            "_________________________________________________________________\n",
            "Layer (type)                 Output Shape              Param #   \n",
            "=================================================================\n",
            "dense_8 (Dense)              (None, 15)                150       \n",
            "_________________________________________________________________\n",
            "dropout_1 (Dropout)          (None, 15)                0         \n",
            "_________________________________________________________________\n",
            "dense_9 (Dense)              (None, 1)                 16        \n",
            "=================================================================\n",
            "Total params: 166\n",
            "Trainable params: 166\n",
            "Non-trainable params: 0\n",
            "_________________________________________________________________\n"
          ],
          "name": "stdout"
        }
      ]
    },
    {
      "cell_type": "code",
      "metadata": {
        "ExecuteTime": {
          "end_time": "2021-05-28T17:20:49.370384Z",
          "start_time": "2021-05-28T17:20:49.115649Z"
        },
        "id": "lNUZfY6GCngH"
      },
      "source": [
        "from tensorflow.keras.optimizers import RMSprop\n",
        "\n",
        "model.compile(loss='binary_crossentropy',\n",
        "              optimizer=keras.optimizers.Adam(lr=1e-3),\n",
        "              metrics=[METRICS])"
      ],
      "execution_count": 54,
      "outputs": []
    },
    {
      "cell_type": "code",
      "metadata": {
        "colab": {
          "base_uri": "https://localhost:8080/"
        },
        "id": "FBLCFKTCJ1ge",
        "outputId": "330c68f2-2d43-404d-d8fb-9ebb61e18c0b"
      },
      "source": [
        "history = model.fit(\n",
        "        x=X_train, y=y_train,\n",
        "#      steps_per_epoch=8,  \n",
        "        epochs=200,\n",
        "        callbacks=[callbacks],\n",
        "        verbose=1,\n",
        "#        class_weight={0:0.3, 1:0.7},\n",
        "        validation_data = (X_test, y_test),\n",
        "        validation_steps=3)"
      ],
      "execution_count": null,
      "outputs": [
        {
          "output_type": "stream",
          "text": [
            "Epoch 1/200\n",
            "5376/5376 [==============================] - 20s 3ms/step - loss: 0.5993 - tp: 1432.0000 - fp: 4558.0000 - tn: 126648.0000 - fn: 39369.0000 - accuracy: 0.7446 - precision: 0.2391 - recall: 0.0351 - auc: 0.6245 - prc: 0.2949 - val_loss: 0.4937 - val_tp: 0.0000e+00 - val_fp: 0.0000e+00 - val_tn: 56231.0000 - val_fn: 17487.0000 - val_accuracy: 0.7628 - val_precision: 0.0000e+00 - val_recall: 0.0000e+00 - val_auc: 0.7087 - val_prc: 0.3748\n",
            "Epoch 2/200\n",
            "5376/5376 [==============================] - 16s 3ms/step - loss: 0.5025 - tp: 292.0000 - fp: 299.0000 - tn: 130907.0000 - fn: 40509.0000 - accuracy: 0.7628 - precision: 0.4941 - recall: 0.0072 - auc: 0.6887 - prc: 0.3635 - val_loss: 0.4899 - val_tp: 0.0000e+00 - val_fp: 0.0000e+00 - val_tn: 56231.0000 - val_fn: 17487.0000 - val_accuracy: 0.7628 - val_precision: 0.0000e+00 - val_recall: 0.0000e+00 - val_auc: 0.7193 - val_prc: 0.3918\n",
            "Epoch 3/200\n",
            "5376/5376 [==============================] - 15s 3ms/step - loss: 0.4992 - tp: 708.0000 - fp: 711.0000 - tn: 130495.0000 - fn: 40093.0000 - accuracy: 0.7628 - precision: 0.4989 - recall: 0.0174 - auc: 0.6972 - prc: 0.3750 - val_loss: 0.4868 - val_tp: 0.0000e+00 - val_fp: 0.0000e+00 - val_tn: 56231.0000 - val_fn: 17487.0000 - val_accuracy: 0.7628 - val_precision: 0.0000e+00 - val_recall: 0.0000e+00 - val_auc: 0.7267 - val_prc: 0.4015\n",
            "Epoch 4/200\n",
            "5376/5376 [==============================] - 15s 3ms/step - loss: 0.4974 - tp: 867.0000 - fp: 944.0000 - tn: 130262.0000 - fn: 39934.0000 - accuracy: 0.7623 - precision: 0.4787 - recall: 0.0212 - auc: 0.7005 - prc: 0.3780 - val_loss: 0.4879 - val_tp: 0.0000e+00 - val_fp: 0.0000e+00 - val_tn: 56231.0000 - val_fn: 17487.0000 - val_accuracy: 0.7628 - val_precision: 0.0000e+00 - val_recall: 0.0000e+00 - val_auc: 0.7304 - val_prc: 0.4066\n",
            "Epoch 5/200\n",
            "5376/5376 [==============================] - 16s 3ms/step - loss: 0.4980 - tp: 930.0000 - fp: 1048.0000 - tn: 130158.0000 - fn: 39871.0000 - accuracy: 0.7621 - precision: 0.4702 - recall: 0.0228 - auc: 0.7013 - prc: 0.3788 - val_loss: 0.4853 - val_tp: 0.0000e+00 - val_fp: 0.0000e+00 - val_tn: 56231.0000 - val_fn: 17487.0000 - val_accuracy: 0.7628 - val_precision: 0.0000e+00 - val_recall: 0.0000e+00 - val_auc: 0.7298 - val_prc: 0.4068\n",
            "Epoch 6/200\n",
            "5376/5376 [==============================] - 16s 3ms/step - loss: 0.4964 - tp: 1282.0000 - fp: 1447.0000 - tn: 129759.0000 - fn: 39519.0000 - accuracy: 0.7618 - precision: 0.4698 - recall: 0.0314 - auc: 0.7050 - prc: 0.3842 - val_loss: 0.4855 - val_tp: 0.0000e+00 - val_fp: 0.0000e+00 - val_tn: 56231.0000 - val_fn: 17487.0000 - val_accuracy: 0.7628 - val_precision: 0.0000e+00 - val_recall: 0.0000e+00 - val_auc: 0.7319 - val_prc: 0.4103\n",
            "Epoch 7/200\n",
            "5376/5376 [==============================] - 15s 3ms/step - loss: 0.4964 - tp: 1074.0000 - fp: 1167.0000 - tn: 130039.0000 - fn: 39727.0000 - accuracy: 0.7623 - precision: 0.4793 - recall: 0.0263 - auc: 0.7047 - prc: 0.3823 - val_loss: 0.4848 - val_tp: 0.0000e+00 - val_fp: 0.0000e+00 - val_tn: 56231.0000 - val_fn: 17487.0000 - val_accuracy: 0.7628 - val_precision: 0.0000e+00 - val_recall: 0.0000e+00 - val_auc: 0.7319 - val_prc: 0.4098\n",
            "Epoch 8/200\n",
            "5376/5376 [==============================] - 16s 3ms/step - loss: 0.4967 - tp: 1062.0000 - fp: 1140.0000 - tn: 130066.0000 - fn: 39739.0000 - accuracy: 0.7623 - precision: 0.4823 - recall: 0.0260 - auc: 0.7038 - prc: 0.3816 - val_loss: 0.4854 - val_tp: 0.0000e+00 - val_fp: 0.0000e+00 - val_tn: 56231.0000 - val_fn: 17487.0000 - val_accuracy: 0.7628 - val_precision: 0.0000e+00 - val_recall: 0.0000e+00 - val_auc: 0.7330 - val_prc: 0.4104\n",
            "Epoch 9/200\n",
            "5376/5376 [==============================] - 16s 3ms/step - loss: 0.4958 - tp: 1317.0000 - fp: 1448.0000 - tn: 129758.0000 - fn: 39484.0000 - accuracy: 0.7620 - precision: 0.4763 - recall: 0.0323 - auc: 0.7067 - prc: 0.3852 - val_loss: 0.4859 - val_tp: 0.0000e+00 - val_fp: 0.0000e+00 - val_tn: 56231.0000 - val_fn: 17487.0000 - val_accuracy: 0.7628 - val_precision: 0.0000e+00 - val_recall: 0.0000e+00 - val_auc: 0.7330 - val_prc: 0.4106\n",
            "Epoch 10/200\n",
            "5376/5376 [==============================] - 16s 3ms/step - loss: 0.4942 - tp: 1342.0000 - fp: 1488.0000 - tn: 129718.0000 - fn: 39459.0000 - accuracy: 0.7619 - precision: 0.4742 - recall: 0.0329 - auc: 0.7112 - prc: 0.3893 - val_loss: 0.4846 - val_tp: 0.0000e+00 - val_fp: 0.0000e+00 - val_tn: 56231.0000 - val_fn: 17487.0000 - val_accuracy: 0.7628 - val_precision: 0.0000e+00 - val_recall: 0.0000e+00 - val_auc: 0.7333 - val_prc: 0.4109\n",
            "Epoch 11/200\n",
            "5376/5376 [==============================] - 17s 3ms/step - loss: 0.4949 - tp: 1266.0000 - fp: 1392.0000 - tn: 129814.0000 - fn: 39535.0000 - accuracy: 0.7621 - precision: 0.4763 - recall: 0.0310 - auc: 0.7095 - prc: 0.3868 - val_loss: 0.4879 - val_tp: 0.0000e+00 - val_fp: 0.0000e+00 - val_tn: 56231.0000 - val_fn: 17487.0000 - val_accuracy: 0.7628 - val_precision: 0.0000e+00 - val_recall: 0.0000e+00 - val_auc: 0.7284 - val_prc: 0.4041\n",
            "Epoch 12/200\n",
            "5376/5376 [==============================] - 16s 3ms/step - loss: 0.4955 - tp: 971.0000 - fp: 1048.0000 - tn: 130158.0000 - fn: 39830.0000 - accuracy: 0.7623 - precision: 0.4809 - recall: 0.0238 - auc: 0.7095 - prc: 0.3862 - val_loss: 0.4842 - val_tp: 0.0000e+00 - val_fp: 0.0000e+00 - val_tn: 56231.0000 - val_fn: 17487.0000 - val_accuracy: 0.7628 - val_precision: 0.0000e+00 - val_recall: 0.0000e+00 - val_auc: 0.7327 - val_prc: 0.4112\n",
            "Epoch 13/200\n",
            " 277/5376 [>.............................] - ETA: 14s - loss: 0.4985 - tp: 89.0000 - fp: 84.0000 - tn: 6682.0000 - fn: 2009.0000 - accuracy: 0.7639 - precision: 0.5145 - recall: 0.0424 - auc: 0.7090 - prc: 0.3977"
          ],
          "name": "stdout"
        }
      ]
    },
    {
      "cell_type": "code",
      "metadata": {
        "ExecuteTime": {
          "end_time": "2021-05-28T17:21:53.463468Z",
          "start_time": "2021-05-28T17:21:09.242406Z"
        },
        "id": "0-560NkDCngM"
      },
      "source": [
        "classes = model.predict(X_test)"
      ],
      "execution_count": null,
      "outputs": []
    },
    {
      "cell_type": "code",
      "metadata": {
        "id": "3CkcnTnuCngM"
      },
      "source": [
        ""
      ],
      "execution_count": null,
      "outputs": []
    },
    {
      "cell_type": "code",
      "metadata": {
        "id": "55G20n9kCngN"
      },
      "source": [
        ""
      ],
      "execution_count": null,
      "outputs": []
    }
  ]
}