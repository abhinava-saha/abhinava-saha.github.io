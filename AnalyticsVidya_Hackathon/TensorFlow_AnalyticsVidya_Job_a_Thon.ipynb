{
  "nbformat": 4,
  "nbformat_minor": 0,
  "metadata": {
    "hide_input": false,
    "kernelspec": {
      "display_name": "Python 3",
      "language": "python",
      "name": "python3"
    },
    "language_info": {
      "codemirror_mode": {
        "name": "ipython",
        "version": 3
      },
      "file_extension": ".py",
      "mimetype": "text/x-python",
      "name": "python",
      "nbconvert_exporter": "python",
      "pygments_lexer": "ipython3",
      "version": "3.7.7"
    },
    "latex_envs": {
      "LaTeX_envs_menu_present": false,
      "autoclose": false,
      "autocomplete": false,
      "bibliofile": "biblio.bib",
      "cite_by": "apalike",
      "current_citInitial": 1,
      "eqLabelWithNumbers": false,
      "eqNumInitial": 1,
      "hotkeys": {
        "equation": "Ctrl-E",
        "itemize": "Ctrl-I"
      },
      "labels_anchors": false,
      "latex_user_defs": false,
      "report_style_numbering": false,
      "user_envs_cfg": false
    },
    "toc": {
      "base_numbering": 1,
      "nav_menu": {},
      "number_sections": true,
      "sideBar": true,
      "skip_h1_title": false,
      "title_cell": "Table of Contents",
      "title_sidebar": "Contents",
      "toc_cell": true,
      "toc_position": {
        "height": "calc(100% - 180px)",
        "left": "10px",
        "top": "150px",
        "width": "165px"
      },
      "toc_section_display": true,
      "toc_window_display": true
    },
    "varInspector": {
      "cols": {
        "lenName": 16,
        "lenType": 16,
        "lenVar": 40
      },
      "kernels_config": {
        "python": {
          "delete_cmd_postfix": "",
          "delete_cmd_prefix": "del ",
          "library": "var_list.py",
          "varRefreshCmd": "print(var_dic_list())"
        },
        "r": {
          "delete_cmd_postfix": ") ",
          "delete_cmd_prefix": "rm(",
          "library": "var_list.r",
          "varRefreshCmd": "cat(var_dic_list()) "
        }
      },
      "types_to_exclude": [
        "module",
        "function",
        "builtin_function_or_method",
        "instance",
        "_Feature"
      ],
      "window_display": false
    },
    "colab": {
      "name": "TensorFlow_AnalyticsVidya_Job-a-Thon.ipynb",
      "provenance": [],
      "collapsed_sections": [],
      "include_colab_link": true
    },
    "accelerator": "TPU"
  },
  "cells": [
    {
      "cell_type": "markdown",
      "metadata": {
        "id": "view-in-github",
        "colab_type": "text"
      },
      "source": [
        "<a href=\"https://colab.research.google.com/github/abhinava-saha/abhinava-saha.github.io/blob/master/AnalyticsVidya_Hackathon/TensorFlow_AnalyticsVidya_Job_a_Thon.ipynb\" target=\"_parent\"><img src=\"https://colab.research.google.com/assets/colab-badge.svg\" alt=\"Open In Colab\"/></a>"
      ]
    },
    {
      "cell_type": "markdown",
      "metadata": {
        "toc": true,
        "id": "f9mh6LrPCnfx"
      },
      "source": [
        "<h1>Table of Contents<span class=\"tocSkip\"></span></h1>\n",
        "<div class=\"toc\"><ul class=\"toc-item\"></ul></div>"
      ]
    },
    {
      "cell_type": "code",
      "metadata": {
        "ExecuteTime": {
          "end_time": "2021-05-28T16:45:08.676860Z",
          "start_time": "2021-05-28T16:45:00.556760Z"
        },
        "id": "mXPk7iTRCnf4"
      },
      "source": [
        "# Importing the libraries\n",
        "import numpy as np\n",
        "import matplotlib.pyplot as plt\n",
        "import pandas as pd\n",
        "import seaborn as sns # for making plots with seaborn\n",
        "color = sns.color_palette()\n",
        "import sklearn.metrics as metrics\n",
        "from sklearn.metrics import accuracy_score, roc_auc_score, roc_curve,\\\n",
        "                            classification_report, confusion_matrix, plot_confusion_matrix\n",
        "\n",
        "import warnings\n",
        "warnings.filterwarnings(\"ignore\")\n",
        "from IPython.core.interactiveshell import InteractiveShell\n",
        "InteractiveShell.ast_node_interactivity = 'all'  # ‘all’|’last’|’last_expr’|’none’\n",
        "\n",
        "from tensorflow import keras"
      ],
      "execution_count": null,
      "outputs": []
    },
    {
      "cell_type": "code",
      "metadata": {
        "colab": {
          "base_uri": "https://localhost:8080/"
        },
        "id": "nTKYKnLdDUy1",
        "outputId": "07f23f37-2a3a-4ec4-ec19-59339093aa62"
      },
      "source": [
        "from google.colab import drive\n",
        "drive.mount('/content/drive', force_remount=True)\n",
        "root_dir = \"/content/drive/My Drive/DLCP\"\n",
        "root_path = '/content/drive/My Drive/DLCP'\n",
        " \n",
        "#base_dir = root_dir + 'my-images/'"
      ],
      "execution_count": null,
      "outputs": [
        {
          "output_type": "stream",
          "text": [
            "Mounted at /content/drive\n"
          ],
          "name": "stdout"
        }
      ]
    },
    {
      "cell_type": "code",
      "metadata": {
        "id": "P5mHJfc7DUat"
      },
      "source": [
        "train = pd.read_csv('/content/drive/My Drive/DLCP/Hackathon/Train.csv')\n",
        "test = pd.read_csv('/content/drive/My Drive/DLCP/Hackathon/Test.csv')"
      ],
      "execution_count": null,
      "outputs": []
    },
    {
      "cell_type": "code",
      "metadata": {
        "colab": {
          "resources": {
            "http://localhost:8080/nbextensions/google.colab/files.js": {
              "data": "Ly8gQ29weXJpZ2h0IDIwMTcgR29vZ2xlIExMQwovLwovLyBMaWNlbnNlZCB1bmRlciB0aGUgQXBhY2hlIExpY2Vuc2UsIFZlcnNpb24gMi4wICh0aGUgIkxpY2Vuc2UiKTsKLy8geW91IG1heSBub3QgdXNlIHRoaXMgZmlsZSBleGNlcHQgaW4gY29tcGxpYW5jZSB3aXRoIHRoZSBMaWNlbnNlLgovLyBZb3UgbWF5IG9idGFpbiBhIGNvcHkgb2YgdGhlIExpY2Vuc2UgYXQKLy8KLy8gICAgICBodHRwOi8vd3d3LmFwYWNoZS5vcmcvbGljZW5zZXMvTElDRU5TRS0yLjAKLy8KLy8gVW5sZXNzIHJlcXVpcmVkIGJ5IGFwcGxpY2FibGUgbGF3IG9yIGFncmVlZCB0byBpbiB3cml0aW5nLCBzb2Z0d2FyZQovLyBkaXN0cmlidXRlZCB1bmRlciB0aGUgTGljZW5zZSBpcyBkaXN0cmlidXRlZCBvbiBhbiAiQVMgSVMiIEJBU0lTLAovLyBXSVRIT1VUIFdBUlJBTlRJRVMgT1IgQ09ORElUSU9OUyBPRiBBTlkgS0lORCwgZWl0aGVyIGV4cHJlc3Mgb3IgaW1wbGllZC4KLy8gU2VlIHRoZSBMaWNlbnNlIGZvciB0aGUgc3BlY2lmaWMgbGFuZ3VhZ2UgZ292ZXJuaW5nIHBlcm1pc3Npb25zIGFuZAovLyBsaW1pdGF0aW9ucyB1bmRlciB0aGUgTGljZW5zZS4KCi8qKgogKiBAZmlsZW92ZXJ2aWV3IEhlbHBlcnMgZm9yIGdvb2dsZS5jb2xhYiBQeXRob24gbW9kdWxlLgogKi8KKGZ1bmN0aW9uKHNjb3BlKSB7CmZ1bmN0aW9uIHNwYW4odGV4dCwgc3R5bGVBdHRyaWJ1dGVzID0ge30pIHsKICBjb25zdCBlbGVtZW50ID0gZG9jdW1lbnQuY3JlYXRlRWxlbWVudCgnc3BhbicpOwogIGVsZW1lbnQudGV4dENvbnRlbnQgPSB0ZXh0OwogIGZvciAoY29uc3Qga2V5IG9mIE9iamVjdC5rZXlzKHN0eWxlQXR0cmlidXRlcykpIHsKICAgIGVsZW1lbnQuc3R5bGVba2V5XSA9IHN0eWxlQXR0cmlidXRlc1trZXldOwogIH0KICByZXR1cm4gZWxlbWVudDsKfQoKLy8gTWF4IG51bWJlciBvZiBieXRlcyB3aGljaCB3aWxsIGJlIHVwbG9hZGVkIGF0IGEgdGltZS4KY29uc3QgTUFYX1BBWUxPQURfU0laRSA9IDEwMCAqIDEwMjQ7CgpmdW5jdGlvbiBfdXBsb2FkRmlsZXMoaW5wdXRJZCwgb3V0cHV0SWQpIHsKICBjb25zdCBzdGVwcyA9IHVwbG9hZEZpbGVzU3RlcChpbnB1dElkLCBvdXRwdXRJZCk7CiAgY29uc3Qgb3V0cHV0RWxlbWVudCA9IGRvY3VtZW50LmdldEVsZW1lbnRCeUlkKG91dHB1dElkKTsKICAvLyBDYWNoZSBzdGVwcyBvbiB0aGUgb3V0cHV0RWxlbWVudCB0byBtYWtlIGl0IGF2YWlsYWJsZSBmb3IgdGhlIG5leHQgY2FsbAogIC8vIHRvIHVwbG9hZEZpbGVzQ29udGludWUgZnJvbSBQeXRob24uCiAgb3V0cHV0RWxlbWVudC5zdGVwcyA9IHN0ZXBzOwoKICByZXR1cm4gX3VwbG9hZEZpbGVzQ29udGludWUob3V0cHV0SWQpOwp9CgovLyBUaGlzIGlzIHJvdWdobHkgYW4gYXN5bmMgZ2VuZXJhdG9yIChub3Qgc3VwcG9ydGVkIGluIHRoZSBicm93c2VyIHlldCksCi8vIHdoZXJlIHRoZXJlIGFyZSBtdWx0aXBsZSBhc3luY2hyb25vdXMgc3RlcHMgYW5kIHRoZSBQeXRob24gc2lkZSBpcyBnb2luZwovLyB0byBwb2xsIGZvciBjb21wbGV0aW9uIG9mIGVhY2ggc3RlcC4KLy8gVGhpcyB1c2VzIGEgUHJvbWlzZSB0byBibG9jayB0aGUgcHl0aG9uIHNpZGUgb24gY29tcGxldGlvbiBvZiBlYWNoIHN0ZXAsCi8vIHRoZW4gcGFzc2VzIHRoZSByZXN1bHQgb2YgdGhlIHByZXZpb3VzIHN0ZXAgYXMgdGhlIGlucHV0IHRvIHRoZSBuZXh0IHN0ZXAuCmZ1bmN0aW9uIF91cGxvYWRGaWxlc0NvbnRpbnVlKG91dHB1dElkKSB7CiAgY29uc3Qgb3V0cHV0RWxlbWVudCA9IGRvY3VtZW50LmdldEVsZW1lbnRCeUlkKG91dHB1dElkKTsKICBjb25zdCBzdGVwcyA9IG91dHB1dEVsZW1lbnQuc3RlcHM7CgogIGNvbnN0IG5leHQgPSBzdGVwcy5uZXh0KG91dHB1dEVsZW1lbnQubGFzdFByb21pc2VWYWx1ZSk7CiAgcmV0dXJuIFByb21pc2UucmVzb2x2ZShuZXh0LnZhbHVlLnByb21pc2UpLnRoZW4oKHZhbHVlKSA9PiB7CiAgICAvLyBDYWNoZSB0aGUgbGFzdCBwcm9taXNlIHZhbHVlIHRvIG1ha2UgaXQgYXZhaWxhYmxlIHRvIHRoZSBuZXh0CiAgICAvLyBzdGVwIG9mIHRoZSBnZW5lcmF0b3IuCiAgICBvdXRwdXRFbGVtZW50Lmxhc3RQcm9taXNlVmFsdWUgPSB2YWx1ZTsKICAgIHJldHVybiBuZXh0LnZhbHVlLnJlc3BvbnNlOwogIH0pOwp9CgovKioKICogR2VuZXJhdG9yIGZ1bmN0aW9uIHdoaWNoIGlzIGNhbGxlZCBiZXR3ZWVuIGVhY2ggYXN5bmMgc3RlcCBvZiB0aGUgdXBsb2FkCiAqIHByb2Nlc3MuCiAqIEBwYXJhbSB7c3RyaW5nfSBpbnB1dElkIEVsZW1lbnQgSUQgb2YgdGhlIGlucHV0IGZpbGUgcGlja2VyIGVsZW1lbnQuCiAqIEBwYXJhbSB7c3RyaW5nfSBvdXRwdXRJZCBFbGVtZW50IElEIG9mIHRoZSBvdXRwdXQgZGlzcGxheS4KICogQHJldHVybiB7IUl0ZXJhYmxlPCFPYmplY3Q+fSBJdGVyYWJsZSBvZiBuZXh0IHN0ZXBzLgogKi8KZnVuY3Rpb24qIHVwbG9hZEZpbGVzU3RlcChpbnB1dElkLCBvdXRwdXRJZCkgewogIGNvbnN0IGlucHV0RWxlbWVudCA9IGRvY3VtZW50LmdldEVsZW1lbnRCeUlkKGlucHV0SWQpOwogIGlucHV0RWxlbWVudC5kaXNhYmxlZCA9IGZhbHNlOwoKICBjb25zdCBvdXRwdXRFbGVtZW50ID0gZG9jdW1lbnQuZ2V0RWxlbWVudEJ5SWQob3V0cHV0SWQpOwogIG91dHB1dEVsZW1lbnQuaW5uZXJIVE1MID0gJyc7CgogIGNvbnN0IHBpY2tlZFByb21pc2UgPSBuZXcgUHJvbWlzZSgocmVzb2x2ZSkgPT4gewogICAgaW5wdXRFbGVtZW50LmFkZEV2ZW50TGlzdGVuZXIoJ2NoYW5nZScsIChlKSA9PiB7CiAgICAgIHJlc29sdmUoZS50YXJnZXQuZmlsZXMpOwogICAgfSk7CiAgfSk7CgogIGNvbnN0IGNhbmNlbCA9IGRvY3VtZW50LmNyZWF0ZUVsZW1lbnQoJ2J1dHRvbicpOwogIGlucHV0RWxlbWVudC5wYXJlbnRFbGVtZW50LmFwcGVuZENoaWxkKGNhbmNlbCk7CiAgY2FuY2VsLnRleHRDb250ZW50ID0gJ0NhbmNlbCB1cGxvYWQnOwogIGNvbnN0IGNhbmNlbFByb21pc2UgPSBuZXcgUHJvbWlzZSgocmVzb2x2ZSkgPT4gewogICAgY2FuY2VsLm9uY2xpY2sgPSAoKSA9PiB7CiAgICAgIHJlc29sdmUobnVsbCk7CiAgICB9OwogIH0pOwoKICAvLyBXYWl0IGZvciB0aGUgdXNlciB0byBwaWNrIHRoZSBmaWxlcy4KICBjb25zdCBmaWxlcyA9IHlpZWxkIHsKICAgIHByb21pc2U6IFByb21pc2UucmFjZShbcGlja2VkUHJvbWlzZSwgY2FuY2VsUHJvbWlzZV0pLAogICAgcmVzcG9uc2U6IHsKICAgICAgYWN0aW9uOiAnc3RhcnRpbmcnLAogICAgfQogIH07CgogIGNhbmNlbC5yZW1vdmUoKTsKCiAgLy8gRGlzYWJsZSB0aGUgaW5wdXQgZWxlbWVudCBzaW5jZSBmdXJ0aGVyIHBpY2tzIGFyZSBub3QgYWxsb3dlZC4KICBpbnB1dEVsZW1lbnQuZGlzYWJsZWQgPSB0cnVlOwoKICBpZiAoIWZpbGVzKSB7CiAgICByZXR1cm4gewogICAgICByZXNwb25zZTogewogICAgICAgIGFjdGlvbjogJ2NvbXBsZXRlJywKICAgICAgfQogICAgfTsKICB9CgogIGZvciAoY29uc3QgZmlsZSBvZiBmaWxlcykgewogICAgY29uc3QgbGkgPSBkb2N1bWVudC5jcmVhdGVFbGVtZW50KCdsaScpOwogICAgbGkuYXBwZW5kKHNwYW4oZmlsZS5uYW1lLCB7Zm9udFdlaWdodDogJ2JvbGQnfSkpOwogICAgbGkuYXBwZW5kKHNwYW4oCiAgICAgICAgYCgke2ZpbGUudHlwZSB8fCAnbi9hJ30pIC0gJHtmaWxlLnNpemV9IGJ5dGVzLCBgICsKICAgICAgICBgbGFzdCBtb2RpZmllZDogJHsKICAgICAgICAgICAgZmlsZS5sYXN0TW9kaWZpZWREYXRlID8gZmlsZS5sYXN0TW9kaWZpZWREYXRlLnRvTG9jYWxlRGF0ZVN0cmluZygpIDoKICAgICAgICAgICAgICAgICAgICAgICAgICAgICAgICAgICAgJ24vYSd9IC0gYCkpOwogICAgY29uc3QgcGVyY2VudCA9IHNwYW4oJzAlIGRvbmUnKTsKICAgIGxpLmFwcGVuZENoaWxkKHBlcmNlbnQpOwoKICAgIG91dHB1dEVsZW1lbnQuYXBwZW5kQ2hpbGQobGkpOwoKICAgIGNvbnN0IGZpbGVEYXRhUHJvbWlzZSA9IG5ldyBQcm9taXNlKChyZXNvbHZlKSA9PiB7CiAgICAgIGNvbnN0IHJlYWRlciA9IG5ldyBGaWxlUmVhZGVyKCk7CiAgICAgIHJlYWRlci5vbmxvYWQgPSAoZSkgPT4gewogICAgICAgIHJlc29sdmUoZS50YXJnZXQucmVzdWx0KTsKICAgICAgfTsKICAgICAgcmVhZGVyLnJlYWRBc0FycmF5QnVmZmVyKGZpbGUpOwogICAgfSk7CiAgICAvLyBXYWl0IGZvciB0aGUgZGF0YSB0byBiZSByZWFkeS4KICAgIGxldCBmaWxlRGF0YSA9IHlpZWxkIHsKICAgICAgcHJvbWlzZTogZmlsZURhdGFQcm9taXNlLAogICAgICByZXNwb25zZTogewogICAgICAgIGFjdGlvbjogJ2NvbnRpbnVlJywKICAgICAgfQogICAgfTsKCiAgICAvLyBVc2UgYSBjaHVua2VkIHNlbmRpbmcgdG8gYXZvaWQgbWVzc2FnZSBzaXplIGxpbWl0cy4gU2VlIGIvNjIxMTU2NjAuCiAgICBsZXQgcG9zaXRpb24gPSAwOwogICAgd2hpbGUgKHBvc2l0aW9uIDwgZmlsZURhdGEuYnl0ZUxlbmd0aCkgewogICAgICBjb25zdCBsZW5ndGggPSBNYXRoLm1pbihmaWxlRGF0YS5ieXRlTGVuZ3RoIC0gcG9zaXRpb24sIE1BWF9QQVlMT0FEX1NJWkUpOwogICAgICBjb25zdCBjaHVuayA9IG5ldyBVaW50OEFycmF5KGZpbGVEYXRhLCBwb3NpdGlvbiwgbGVuZ3RoKTsKICAgICAgcG9zaXRpb24gKz0gbGVuZ3RoOwoKICAgICAgY29uc3QgYmFzZTY0ID0gYnRvYShTdHJpbmcuZnJvbUNoYXJDb2RlLmFwcGx5KG51bGwsIGNodW5rKSk7CiAgICAgIHlpZWxkIHsKICAgICAgICByZXNwb25zZTogewogICAgICAgICAgYWN0aW9uOiAnYXBwZW5kJywKICAgICAgICAgIGZpbGU6IGZpbGUubmFtZSwKICAgICAgICAgIGRhdGE6IGJhc2U2NCwKICAgICAgICB9LAogICAgICB9OwogICAgICBwZXJjZW50LnRleHRDb250ZW50ID0KICAgICAgICAgIGAke01hdGgucm91bmQoKHBvc2l0aW9uIC8gZmlsZURhdGEuYnl0ZUxlbmd0aCkgKiAxMDApfSUgZG9uZWA7CiAgICB9CiAgfQoKICAvLyBBbGwgZG9uZS4KICB5aWVsZCB7CiAgICByZXNwb25zZTogewogICAgICBhY3Rpb246ICdjb21wbGV0ZScsCiAgICB9CiAgfTsKfQoKc2NvcGUuZ29vZ2xlID0gc2NvcGUuZ29vZ2xlIHx8IHt9OwpzY29wZS5nb29nbGUuY29sYWIgPSBzY29wZS5nb29nbGUuY29sYWIgfHwge307CnNjb3BlLmdvb2dsZS5jb2xhYi5fZmlsZXMgPSB7CiAgX3VwbG9hZEZpbGVzLAogIF91cGxvYWRGaWxlc0NvbnRpbnVlLAp9Owp9KShzZWxmKTsK",
              "ok": true,
              "headers": [
                [
                  "content-type",
                  "application/javascript"
                ]
              ],
              "status": 200,
              "status_text": ""
            }
          },
          "base_uri": "https://localhost:8080/",
          "height": 143
        },
        "id": "gP1z0kHeDzTK",
        "outputId": "97f8eb3d-e0ad-42ba-eb46-5caa05ee67e8"
      },
      "source": [
        "from google.colab import files \n",
        "uploaded = files.upload() # upload file here from local"
      ],
      "execution_count": null,
      "outputs": [
        {
          "output_type": "display_data",
          "data": {
            "text/html": [
              "\n",
              "     <input type=\"file\" id=\"files-73c4ca71-0140-44fb-8b6f-3f71f015df87\" name=\"files[]\" multiple disabled\n",
              "        style=\"border:none\" />\n",
              "     <output id=\"result-73c4ca71-0140-44fb-8b6f-3f71f015df87\">\n",
              "      Upload widget is only available when the cell has been executed in the\n",
              "      current browser session. Please rerun this cell to enable.\n",
              "      </output>\n",
              "      <script src=\"/nbextensions/google.colab/files.js\"></script> "
            ],
            "text/plain": [
              "<IPython.core.display.HTML object>"
            ]
          },
          "metadata": {
            "tags": []
          }
        },
        {
          "output_type": "stream",
          "text": [
            "Saving submission_file_backup.csv to submission_file_backup (1).csv\n",
            "Saving test_normalized.csv to test_normalized (1).csv\n",
            "Saving train_normalized.csv to train_normalized.csv\n"
          ],
          "name": "stdout"
        }
      ]
    },
    {
      "cell_type": "code",
      "metadata": {
        "id": "E1CgyB_eDURh"
      },
      "source": [
        "import io\n",
        "df_train = pd.read_csv(io.BytesIO(uploaded['train_normalized.csv']))\n",
        "df_test = pd.read_csv(io.BytesIO(uploaded['test_normalized.csv']))\n",
        "test_submission = pd.read_csv(io.BytesIO(uploaded['submission_file_backup.csv']))"
      ],
      "execution_count": null,
      "outputs": []
    },
    {
      "cell_type": "code",
      "metadata": {
        "ExecuteTime": {
          "end_time": "2021-05-28T16:47:21.453005Z",
          "start_time": "2021-05-28T16:47:20.351593Z"
        },
        "id": "WhcYCo9pCnf6"
      },
      "source": [
        "df_train = pd.read_csv('train_normalized.csv')\n",
        "df_test = pd.read_csv('test_normalized.csv')\n",
        "test_submission = pd.read_csv('submission_file_backup.csv')"
      ],
      "execution_count": null,
      "outputs": []
    },
    {
      "cell_type": "code",
      "metadata": {
        "ExecuteTime": {
          "end_time": "2021-05-28T16:47:38.378292Z",
          "start_time": "2021-05-28T16:47:38.187459Z"
        },
        "id": "7S4u8DRICnf8",
        "colab": {
          "base_uri": "https://localhost:8080/",
          "height": 571
        },
        "outputId": "2a2ec2b4-8b91-4403-b4c3-840e5dada364"
      },
      "source": [
        "df_train.head()\n",
        "df_test.head()\n",
        "test_submission.head()"
      ],
      "execution_count": null,
      "outputs": [
        {
          "output_type": "execute_result",
          "data": {
            "text/html": [
              "<div>\n",
              "<style scoped>\n",
              "    .dataframe tbody tr th:only-of-type {\n",
              "        vertical-align: middle;\n",
              "    }\n",
              "\n",
              "    .dataframe tbody tr th {\n",
              "        vertical-align: top;\n",
              "    }\n",
              "\n",
              "    .dataframe thead th {\n",
              "        text-align: right;\n",
              "    }\n",
              "</style>\n",
              "<table border=\"1\" class=\"dataframe\">\n",
              "  <thead>\n",
              "    <tr style=\"text-align: right;\">\n",
              "      <th></th>\n",
              "      <th>Gender</th>\n",
              "      <th>Age</th>\n",
              "      <th>Region_Code</th>\n",
              "      <th>Occupation</th>\n",
              "      <th>Channel_Code</th>\n",
              "      <th>Vintage</th>\n",
              "      <th>Credit_Product</th>\n",
              "      <th>Avg_Account_Balance</th>\n",
              "      <th>Is_Active</th>\n",
              "      <th>Is_Lead</th>\n",
              "    </tr>\n",
              "  </thead>\n",
              "  <tbody>\n",
              "    <tr>\n",
              "      <th>0</th>\n",
              "      <td>0</td>\n",
              "      <td>0.806452</td>\n",
              "      <td>18</td>\n",
              "      <td>2</td>\n",
              "      <td>2</td>\n",
              "      <td>0.281250</td>\n",
              "      <td>0.0</td>\n",
              "      <td>6.919500</td>\n",
              "      <td>0</td>\n",
              "      <td>0</td>\n",
              "    </tr>\n",
              "    <tr>\n",
              "      <th>1</th>\n",
              "      <td>0</td>\n",
              "      <td>0.112903</td>\n",
              "      <td>27</td>\n",
              "      <td>1</td>\n",
              "      <td>0</td>\n",
              "      <td>0.195312</td>\n",
              "      <td>0.0</td>\n",
              "      <td>6.796826</td>\n",
              "      <td>0</td>\n",
              "      <td>0</td>\n",
              "    </tr>\n",
              "    <tr>\n",
              "      <th>2</th>\n",
              "      <td>0</td>\n",
              "      <td>0.532258</td>\n",
              "      <td>18</td>\n",
              "      <td>0</td>\n",
              "      <td>2</td>\n",
              "      <td>0.148438</td>\n",
              "      <td>0.0</td>\n",
              "      <td>6.988967</td>\n",
              "      <td>1</td>\n",
              "      <td>0</td>\n",
              "    </tr>\n",
              "    <tr>\n",
              "      <th>3</th>\n",
              "      <td>1</td>\n",
              "      <td>0.177419</td>\n",
              "      <td>20</td>\n",
              "      <td>1</td>\n",
              "      <td>0</td>\n",
              "      <td>0.093750</td>\n",
              "      <td>0.0</td>\n",
              "      <td>6.750197</td>\n",
              "      <td>0</td>\n",
              "      <td>0</td>\n",
              "    </tr>\n",
              "    <tr>\n",
              "      <th>4</th>\n",
              "      <td>0</td>\n",
              "      <td>0.112903</td>\n",
              "      <td>32</td>\n",
              "      <td>1</td>\n",
              "      <td>0</td>\n",
              "      <td>0.203125</td>\n",
              "      <td>0.0</td>\n",
              "      <td>6.885826</td>\n",
              "      <td>0</td>\n",
              "      <td>0</td>\n",
              "    </tr>\n",
              "  </tbody>\n",
              "</table>\n",
              "</div>"
            ],
            "text/plain": [
              "   Gender       Age  Region_Code  ...  Avg_Account_Balance  Is_Active  Is_Lead\n",
              "0       0  0.806452           18  ...             6.919500          0        0\n",
              "1       0  0.112903           27  ...             6.796826          0        0\n",
              "2       0  0.532258           18  ...             6.988967          1        0\n",
              "3       1  0.177419           20  ...             6.750197          0        0\n",
              "4       0  0.112903           32  ...             6.885826          0        0\n",
              "\n",
              "[5 rows x 10 columns]"
            ]
          },
          "metadata": {
            "tags": []
          },
          "execution_count": 8
        },
        {
          "output_type": "execute_result",
          "data": {
            "text/html": [
              "<div>\n",
              "<style scoped>\n",
              "    .dataframe tbody tr th:only-of-type {\n",
              "        vertical-align: middle;\n",
              "    }\n",
              "\n",
              "    .dataframe tbody tr th {\n",
              "        vertical-align: top;\n",
              "    }\n",
              "\n",
              "    .dataframe thead th {\n",
              "        text-align: right;\n",
              "    }\n",
              "</style>\n",
              "<table border=\"1\" class=\"dataframe\">\n",
              "  <thead>\n",
              "    <tr style=\"text-align: right;\">\n",
              "      <th></th>\n",
              "      <th>Gender</th>\n",
              "      <th>Age</th>\n",
              "      <th>Region_Code</th>\n",
              "      <th>Occupation</th>\n",
              "      <th>Channel_Code</th>\n",
              "      <th>Vintage</th>\n",
              "      <th>Credit_Product</th>\n",
              "      <th>Avg_Account_Balance</th>\n",
              "      <th>Is_Active</th>\n",
              "    </tr>\n",
              "  </thead>\n",
              "  <tbody>\n",
              "    <tr>\n",
              "      <th>0</th>\n",
              "      <td>1</td>\n",
              "      <td>0.096774</td>\n",
              "      <td>4</td>\n",
              "      <td>2</td>\n",
              "      <td>0</td>\n",
              "      <td>0.140625</td>\n",
              "      <td>1.0</td>\n",
              "      <td>6.848787</td>\n",
              "      <td>0</td>\n",
              "    </tr>\n",
              "    <tr>\n",
              "      <th>1</th>\n",
              "      <td>1</td>\n",
              "      <td>0.322581</td>\n",
              "      <td>18</td>\n",
              "      <td>2</td>\n",
              "      <td>1</td>\n",
              "      <td>0.328125</td>\n",
              "      <td>0.0</td>\n",
              "      <td>6.894625</td>\n",
              "      <td>0</td>\n",
              "    </tr>\n",
              "    <tr>\n",
              "      <th>2</th>\n",
              "      <td>1</td>\n",
              "      <td>0.129032</td>\n",
              "      <td>20</td>\n",
              "      <td>1</td>\n",
              "      <td>0</td>\n",
              "      <td>0.054688</td>\n",
              "      <td>0.0</td>\n",
              "      <td>6.569445</td>\n",
              "      <td>0</td>\n",
              "    </tr>\n",
              "    <tr>\n",
              "      <th>3</th>\n",
              "      <td>1</td>\n",
              "      <td>0.096774</td>\n",
              "      <td>22</td>\n",
              "      <td>2</td>\n",
              "      <td>0</td>\n",
              "      <td>0.203125</td>\n",
              "      <td>0.0</td>\n",
              "      <td>6.881422</td>\n",
              "      <td>0</td>\n",
              "    </tr>\n",
              "    <tr>\n",
              "      <th>4</th>\n",
              "      <td>0</td>\n",
              "      <td>0.096774</td>\n",
              "      <td>20</td>\n",
              "      <td>2</td>\n",
              "      <td>0</td>\n",
              "      <td>0.093750</td>\n",
              "      <td>0.0</td>\n",
              "      <td>6.822919</td>\n",
              "      <td>0</td>\n",
              "    </tr>\n",
              "  </tbody>\n",
              "</table>\n",
              "</div>"
            ],
            "text/plain": [
              "   Gender       Age  ...  Avg_Account_Balance  Is_Active\n",
              "0       1  0.096774  ...             6.848787          0\n",
              "1       1  0.322581  ...             6.894625          0\n",
              "2       1  0.129032  ...             6.569445          0\n",
              "3       1  0.096774  ...             6.881422          0\n",
              "4       0  0.096774  ...             6.822919          0\n",
              "\n",
              "[5 rows x 9 columns]"
            ]
          },
          "metadata": {
            "tags": []
          },
          "execution_count": 8
        },
        {
          "output_type": "execute_result",
          "data": {
            "text/html": [
              "<div>\n",
              "<style scoped>\n",
              "    .dataframe tbody tr th:only-of-type {\n",
              "        vertical-align: middle;\n",
              "    }\n",
              "\n",
              "    .dataframe tbody tr th {\n",
              "        vertical-align: top;\n",
              "    }\n",
              "\n",
              "    .dataframe thead th {\n",
              "        text-align: right;\n",
              "    }\n",
              "</style>\n",
              "<table border=\"1\" class=\"dataframe\">\n",
              "  <thead>\n",
              "    <tr style=\"text-align: right;\">\n",
              "      <th></th>\n",
              "      <th>ID</th>\n",
              "      <th>Is_Lead</th>\n",
              "    </tr>\n",
              "  </thead>\n",
              "  <tbody>\n",
              "    <tr>\n",
              "      <th>0</th>\n",
              "      <td>VBENBARO</td>\n",
              "      <td>0.035603</td>\n",
              "    </tr>\n",
              "    <tr>\n",
              "      <th>1</th>\n",
              "      <td>CCMEWNKY</td>\n",
              "      <td>0.264289</td>\n",
              "    </tr>\n",
              "    <tr>\n",
              "      <th>2</th>\n",
              "      <td>VK3KGA9M</td>\n",
              "      <td>0.067893</td>\n",
              "    </tr>\n",
              "    <tr>\n",
              "      <th>3</th>\n",
              "      <td>TT8RPZVC</td>\n",
              "      <td>0.034360</td>\n",
              "    </tr>\n",
              "    <tr>\n",
              "      <th>4</th>\n",
              "      <td>SHQZEYTZ</td>\n",
              "      <td>0.032349</td>\n",
              "    </tr>\n",
              "  </tbody>\n",
              "</table>\n",
              "</div>"
            ],
            "text/plain": [
              "         ID   Is_Lead\n",
              "0  VBENBARO  0.035603\n",
              "1  CCMEWNKY  0.264289\n",
              "2  VK3KGA9M  0.067893\n",
              "3  TT8RPZVC  0.034360\n",
              "4  SHQZEYTZ  0.032349"
            ]
          },
          "metadata": {
            "tags": []
          },
          "execution_count": 8
        }
      ]
    },
    {
      "cell_type": "code",
      "metadata": {
        "ExecuteTime": {
          "end_time": "2021-05-28T16:48:06.545121Z",
          "start_time": "2021-05-28T16:48:06.508898Z"
        },
        "id": "hbq-hvklCnf-"
      },
      "source": [
        "X = df_train.drop(['Is_Lead'],axis=1)\n",
        "y = df_train[['Is_Lead']]"
      ],
      "execution_count": null,
      "outputs": []
    },
    {
      "cell_type": "code",
      "metadata": {
        "ExecuteTime": {
          "end_time": "2021-05-28T16:48:53.779773Z",
          "start_time": "2021-05-28T16:48:53.311097Z"
        },
        "id": "r-vmn014CngC",
        "colab": {
          "base_uri": "https://localhost:8080/"
        },
        "outputId": "f70ccf00-067a-4fff-f018-be683b51268c"
      },
      "source": [
        "from sklearn.model_selection import train_test_split\n",
        "X_train, X_test, y_train, y_test = train_test_split(X,y,test_size=0.30,random_state=51,stratify=df_train['Is_Lead'])\n",
        "\n",
        "\n",
        "print(f'\\033[1mSpliting the Company dataset in Ratio 70:30. \\nShape of ---> \\033[0m\\n\\033[34mX_Train:{X_train.shape}, \\ny_train:{y_train.shape},\\\n",
        "      \\nX_Test:{X_test.shape}, \\ny_test:{y_test.shape}\\033[0m')\n"
      ],
      "execution_count": null,
      "outputs": [
        {
          "output_type": "stream",
          "text": [
            "\u001b[1mSpliting the Company dataset in Ratio 70:30. \n",
            "Shape of ---> \u001b[0m\n",
            "\u001b[34mX_Train:(172007, 9), \n",
            "y_train:(172007, 1),      \n",
            "X_Test:(73718, 9), \n",
            "y_test:(73718, 1)\u001b[0m\n"
          ],
          "name": "stdout"
        }
      ]
    },
    {
      "cell_type": "code",
      "metadata": {
        "id": "rhaKHJsEJBK3"
      },
      "source": [
        "import tensorflow as tf\n",
        "from tensorflow import keras"
      ],
      "execution_count": null,
      "outputs": []
    },
    {
      "cell_type": "code",
      "metadata": {
        "ExecuteTime": {
          "end_time": "2021-05-28T17:17:34.749271Z",
          "start_time": "2021-05-28T17:17:34.734758Z"
        },
        "id": "z5uQ-MEHCngD"
      },
      "source": [
        "class myCallback(tf.keras.callbacks.Callback):\n",
        "    def on_epoch_end(self, epoch, logs={}):\n",
        "        DESIRED_ACCURACY = 0.90\n",
        "        if(logs.get('auc') is not None and logs.get('auc') > DESIRED_ACCURACY):\n",
        "            print(\"Reached 99.9% accuracy so cancelling training!\")\n",
        "            self.model.stop_training = True\n",
        "\n",
        "callbacks = myCallback()"
      ],
      "execution_count": null,
      "outputs": []
    },
    {
      "cell_type": "code",
      "metadata": {
        "id": "QOhJoa-xQbt6"
      },
      "source": [
        "METRICS = [\n",
        "      tf.keras.metrics.TruePositives(name='tp'),\n",
        "      tf.keras.metrics.FalsePositives(name='fp'),\n",
        "      tf.keras.metrics.TrueNegatives(name='tn'),\n",
        "      tf.keras.metrics.FalseNegatives(name='fn'), \n",
        "      tf.keras.metrics.BinaryAccuracy(name='accuracy'),\n",
        "      tf.keras.metrics.Precision(name='precision'),\n",
        "      tf.keras.metrics.Recall(name='recall'),\n",
        "      tf.keras.metrics.AUC(name='auc'),\n",
        "      tf.keras.metrics.AUC(name='prc', curve='PR'), # precision-recall curve\n",
        "]"
      ],
      "execution_count": null,
      "outputs": []
    },
    {
      "cell_type": "code",
      "metadata": {
        "id": "nnH86vbNIgZO"
      },
      "source": [
        "model = tf.keras.Sequential([\n",
        "    tf.keras.layers.Dense(units=15,activation='relu', input_shape=(X_train.shape[-1],)),\n",
        "    tf.keras.layers.Dropout(0.5),\n",
        "    tf.keras.layers.Dense(1, activation='sigmoid')\n",
        "                            ])"
      ],
      "execution_count": null,
      "outputs": []
    },
    {
      "cell_type": "code",
      "metadata": {
        "ExecuteTime": {
          "end_time": "2021-05-28T17:08:11.983054Z",
          "start_time": "2021-05-28T17:08:11.973055Z"
        },
        "id": "Jo26uoKzCngG",
        "colab": {
          "base_uri": "https://localhost:8080/"
        },
        "outputId": "aa04f9ba-4e6e-4759-9ed0-85b29b5d753a"
      },
      "source": [
        "model.summary()"
      ],
      "execution_count": null,
      "outputs": [
        {
          "output_type": "stream",
          "text": [
            "Model: \"sequential_3\"\n",
            "_________________________________________________________________\n",
            "Layer (type)                 Output Shape              Param #   \n",
            "=================================================================\n",
            "dense_8 (Dense)              (None, 15)                150       \n",
            "_________________________________________________________________\n",
            "dropout_1 (Dropout)          (None, 15)                0         \n",
            "_________________________________________________________________\n",
            "dense_9 (Dense)              (None, 1)                 16        \n",
            "=================================================================\n",
            "Total params: 166\n",
            "Trainable params: 166\n",
            "Non-trainable params: 0\n",
            "_________________________________________________________________\n"
          ],
          "name": "stdout"
        }
      ]
    },
    {
      "cell_type": "code",
      "metadata": {
        "ExecuteTime": {
          "end_time": "2021-05-28T17:20:49.370384Z",
          "start_time": "2021-05-28T17:20:49.115649Z"
        },
        "id": "lNUZfY6GCngH"
      },
      "source": [
        "from tensorflow.keras.optimizers import RMSprop\n",
        "\n",
        "model.compile(loss='binary_crossentropy',\n",
        "              optimizer=keras.optimizers.Adam(lr=1e-3),\n",
        "              metrics=[METRICS])"
      ],
      "execution_count": null,
      "outputs": []
    },
    {
      "cell_type": "code",
      "metadata": {
        "colab": {
          "base_uri": "https://localhost:8080/"
        },
        "id": "FBLCFKTCJ1ge",
        "outputId": "8c708825-5c35-41d7-ef25-348e5d3d3edd"
      },
      "source": [
        "history = model.fit(\n",
        "        x=X_train, y=y_train,\n",
        "#      steps_per_epoch=8,  \n",
        "        epochs=200,\n",
        "        callbacks=[callbacks],\n",
        "        verbose=1,\n",
        "#        class_weight={0:0.3, 1:0.7},\n",
        "        validation_data = (X_test, y_test),\n",
        "        validation_steps=3)"
      ],
      "execution_count": 55,
      "outputs": [
        {
          "output_type": "stream",
          "text": [
            "Epoch 1/200\n",
            "5376/5376 [==============================] - 20s 3ms/step - loss: 0.5993 - tp: 1432.0000 - fp: 4558.0000 - tn: 126648.0000 - fn: 39369.0000 - accuracy: 0.7446 - precision: 0.2391 - recall: 0.0351 - auc: 0.6245 - prc: 0.2949 - val_loss: 0.4937 - val_tp: 0.0000e+00 - val_fp: 0.0000e+00 - val_tn: 56231.0000 - val_fn: 17487.0000 - val_accuracy: 0.7628 - val_precision: 0.0000e+00 - val_recall: 0.0000e+00 - val_auc: 0.7087 - val_prc: 0.3748\n",
            "Epoch 2/200\n",
            "5376/5376 [==============================] - 16s 3ms/step - loss: 0.5025 - tp: 292.0000 - fp: 299.0000 - tn: 130907.0000 - fn: 40509.0000 - accuracy: 0.7628 - precision: 0.4941 - recall: 0.0072 - auc: 0.6887 - prc: 0.3635 - val_loss: 0.4899 - val_tp: 0.0000e+00 - val_fp: 0.0000e+00 - val_tn: 56231.0000 - val_fn: 17487.0000 - val_accuracy: 0.7628 - val_precision: 0.0000e+00 - val_recall: 0.0000e+00 - val_auc: 0.7193 - val_prc: 0.3918\n",
            "Epoch 3/200\n",
            "5376/5376 [==============================] - 15s 3ms/step - loss: 0.4992 - tp: 708.0000 - fp: 711.0000 - tn: 130495.0000 - fn: 40093.0000 - accuracy: 0.7628 - precision: 0.4989 - recall: 0.0174 - auc: 0.6972 - prc: 0.3750 - val_loss: 0.4868 - val_tp: 0.0000e+00 - val_fp: 0.0000e+00 - val_tn: 56231.0000 - val_fn: 17487.0000 - val_accuracy: 0.7628 - val_precision: 0.0000e+00 - val_recall: 0.0000e+00 - val_auc: 0.7267 - val_prc: 0.4015\n",
            "Epoch 4/200\n",
            "5376/5376 [==============================] - 15s 3ms/step - loss: 0.4974 - tp: 867.0000 - fp: 944.0000 - tn: 130262.0000 - fn: 39934.0000 - accuracy: 0.7623 - precision: 0.4787 - recall: 0.0212 - auc: 0.7005 - prc: 0.3780 - val_loss: 0.4879 - val_tp: 0.0000e+00 - val_fp: 0.0000e+00 - val_tn: 56231.0000 - val_fn: 17487.0000 - val_accuracy: 0.7628 - val_precision: 0.0000e+00 - val_recall: 0.0000e+00 - val_auc: 0.7304 - val_prc: 0.4066\n",
            "Epoch 5/200\n",
            "5376/5376 [==============================] - 16s 3ms/step - loss: 0.4980 - tp: 930.0000 - fp: 1048.0000 - tn: 130158.0000 - fn: 39871.0000 - accuracy: 0.7621 - precision: 0.4702 - recall: 0.0228 - auc: 0.7013 - prc: 0.3788 - val_loss: 0.4853 - val_tp: 0.0000e+00 - val_fp: 0.0000e+00 - val_tn: 56231.0000 - val_fn: 17487.0000 - val_accuracy: 0.7628 - val_precision: 0.0000e+00 - val_recall: 0.0000e+00 - val_auc: 0.7298 - val_prc: 0.4068\n",
            "Epoch 6/200\n",
            "5376/5376 [==============================] - 16s 3ms/step - loss: 0.4964 - tp: 1282.0000 - fp: 1447.0000 - tn: 129759.0000 - fn: 39519.0000 - accuracy: 0.7618 - precision: 0.4698 - recall: 0.0314 - auc: 0.7050 - prc: 0.3842 - val_loss: 0.4855 - val_tp: 0.0000e+00 - val_fp: 0.0000e+00 - val_tn: 56231.0000 - val_fn: 17487.0000 - val_accuracy: 0.7628 - val_precision: 0.0000e+00 - val_recall: 0.0000e+00 - val_auc: 0.7319 - val_prc: 0.4103\n",
            "Epoch 7/200\n",
            "5376/5376 [==============================] - 15s 3ms/step - loss: 0.4964 - tp: 1074.0000 - fp: 1167.0000 - tn: 130039.0000 - fn: 39727.0000 - accuracy: 0.7623 - precision: 0.4793 - recall: 0.0263 - auc: 0.7047 - prc: 0.3823 - val_loss: 0.4848 - val_tp: 0.0000e+00 - val_fp: 0.0000e+00 - val_tn: 56231.0000 - val_fn: 17487.0000 - val_accuracy: 0.7628 - val_precision: 0.0000e+00 - val_recall: 0.0000e+00 - val_auc: 0.7319 - val_prc: 0.4098\n",
            "Epoch 8/200\n",
            "5376/5376 [==============================] - 16s 3ms/step - loss: 0.4967 - tp: 1062.0000 - fp: 1140.0000 - tn: 130066.0000 - fn: 39739.0000 - accuracy: 0.7623 - precision: 0.4823 - recall: 0.0260 - auc: 0.7038 - prc: 0.3816 - val_loss: 0.4854 - val_tp: 0.0000e+00 - val_fp: 0.0000e+00 - val_tn: 56231.0000 - val_fn: 17487.0000 - val_accuracy: 0.7628 - val_precision: 0.0000e+00 - val_recall: 0.0000e+00 - val_auc: 0.7330 - val_prc: 0.4104\n",
            "Epoch 9/200\n",
            "5376/5376 [==============================] - 16s 3ms/step - loss: 0.4958 - tp: 1317.0000 - fp: 1448.0000 - tn: 129758.0000 - fn: 39484.0000 - accuracy: 0.7620 - precision: 0.4763 - recall: 0.0323 - auc: 0.7067 - prc: 0.3852 - val_loss: 0.4859 - val_tp: 0.0000e+00 - val_fp: 0.0000e+00 - val_tn: 56231.0000 - val_fn: 17487.0000 - val_accuracy: 0.7628 - val_precision: 0.0000e+00 - val_recall: 0.0000e+00 - val_auc: 0.7330 - val_prc: 0.4106\n",
            "Epoch 10/200\n",
            "5376/5376 [==============================] - 16s 3ms/step - loss: 0.4942 - tp: 1342.0000 - fp: 1488.0000 - tn: 129718.0000 - fn: 39459.0000 - accuracy: 0.7619 - precision: 0.4742 - recall: 0.0329 - auc: 0.7112 - prc: 0.3893 - val_loss: 0.4846 - val_tp: 0.0000e+00 - val_fp: 0.0000e+00 - val_tn: 56231.0000 - val_fn: 17487.0000 - val_accuracy: 0.7628 - val_precision: 0.0000e+00 - val_recall: 0.0000e+00 - val_auc: 0.7333 - val_prc: 0.4109\n",
            "Epoch 11/200\n",
            "5376/5376 [==============================] - 17s 3ms/step - loss: 0.4949 - tp: 1266.0000 - fp: 1392.0000 - tn: 129814.0000 - fn: 39535.0000 - accuracy: 0.7621 - precision: 0.4763 - recall: 0.0310 - auc: 0.7095 - prc: 0.3868 - val_loss: 0.4879 - val_tp: 0.0000e+00 - val_fp: 0.0000e+00 - val_tn: 56231.0000 - val_fn: 17487.0000 - val_accuracy: 0.7628 - val_precision: 0.0000e+00 - val_recall: 0.0000e+00 - val_auc: 0.7284 - val_prc: 0.4041\n",
            "Epoch 12/200\n",
            "5376/5376 [==============================] - 16s 3ms/step - loss: 0.4955 - tp: 971.0000 - fp: 1048.0000 - tn: 130158.0000 - fn: 39830.0000 - accuracy: 0.7623 - precision: 0.4809 - recall: 0.0238 - auc: 0.7095 - prc: 0.3862 - val_loss: 0.4842 - val_tp: 0.0000e+00 - val_fp: 0.0000e+00 - val_tn: 56231.0000 - val_fn: 17487.0000 - val_accuracy: 0.7628 - val_precision: 0.0000e+00 - val_recall: 0.0000e+00 - val_auc: 0.7327 - val_prc: 0.4112\n",
            "Epoch 13/200\n",
            "5376/5376 [==============================] - 16s 3ms/step - loss: 0.4945 - tp: 1453.0000 - fp: 1584.0000 - tn: 129622.0000 - fn: 39348.0000 - accuracy: 0.7620 - precision: 0.4784 - recall: 0.0356 - auc: 0.7113 - prc: 0.3908 - val_loss: 0.4853 - val_tp: 0.0000e+00 - val_fp: 0.0000e+00 - val_tn: 56231.0000 - val_fn: 17487.0000 - val_accuracy: 0.7628 - val_precision: 0.0000e+00 - val_recall: 0.0000e+00 - val_auc: 0.7348 - val_prc: 0.4130\n",
            "Epoch 14/200\n",
            "5376/5376 [==============================] - 16s 3ms/step - loss: 0.4946 - tp: 1275.0000 - fp: 1374.0000 - tn: 129832.0000 - fn: 39526.0000 - accuracy: 0.7622 - precision: 0.4813 - recall: 0.0312 - auc: 0.7113 - prc: 0.3898 - val_loss: 0.4841 - val_tp: 0.0000e+00 - val_fp: 0.0000e+00 - val_tn: 56231.0000 - val_fn: 17487.0000 - val_accuracy: 0.7628 - val_precision: 0.0000e+00 - val_recall: 0.0000e+00 - val_auc: 0.7340 - val_prc: 0.4125\n",
            "Epoch 15/200\n",
            "5376/5376 [==============================] - 19s 4ms/step - loss: 0.4951 - tp: 1243.0000 - fp: 1360.0000 - tn: 129846.0000 - fn: 39558.0000 - accuracy: 0.7621 - precision: 0.4775 - recall: 0.0305 - auc: 0.7109 - prc: 0.3887 - val_loss: 0.4841 - val_tp: 0.0000e+00 - val_fp: 0.0000e+00 - val_tn: 56231.0000 - val_fn: 17487.0000 - val_accuracy: 0.7628 - val_precision: 0.0000e+00 - val_recall: 0.0000e+00 - val_auc: 0.7344 - val_prc: 0.4126\n",
            "Epoch 16/200\n",
            "5376/5376 [==============================] - 19s 4ms/step - loss: 0.4942 - tp: 1218.0000 - fp: 1274.0000 - tn: 129932.0000 - fn: 39583.0000 - accuracy: 0.7625 - precision: 0.4888 - recall: 0.0299 - auc: 0.7113 - prc: 0.3887 - val_loss: 0.4871 - val_tp: 0.0000e+00 - val_fp: 0.0000e+00 - val_tn: 56231.0000 - val_fn: 17487.0000 - val_accuracy: 0.7628 - val_precision: 0.0000e+00 - val_recall: 0.0000e+00 - val_auc: 0.7321 - val_prc: 0.4104\n",
            "Epoch 17/200\n",
            "5376/5376 [==============================] - 19s 4ms/step - loss: 0.4940 - tp: 1277.0000 - fp: 1336.0000 - tn: 129870.0000 - fn: 39524.0000 - accuracy: 0.7625 - precision: 0.4887 - recall: 0.0313 - auc: 0.7116 - prc: 0.3901 - val_loss: 0.4840 - val_tp: 0.0000e+00 - val_fp: 0.0000e+00 - val_tn: 56231.0000 - val_fn: 17487.0000 - val_accuracy: 0.7628 - val_precision: 0.0000e+00 - val_recall: 0.0000e+00 - val_auc: 0.7347 - val_prc: 0.4138\n",
            "Epoch 18/200\n",
            "5376/5376 [==============================] - 18s 3ms/step - loss: 0.4949 - tp: 1235.0000 - fp: 1313.0000 - tn: 129893.0000 - fn: 39566.0000 - accuracy: 0.7623 - precision: 0.4847 - recall: 0.0303 - auc: 0.7103 - prc: 0.3882 - val_loss: 0.4848 - val_tp: 0.0000e+00 - val_fp: 0.0000e+00 - val_tn: 56231.0000 - val_fn: 17487.0000 - val_accuracy: 0.7628 - val_precision: 0.0000e+00 - val_recall: 0.0000e+00 - val_auc: 0.7347 - val_prc: 0.4135\n",
            "Epoch 19/200\n",
            "5376/5376 [==============================] - 18s 3ms/step - loss: 0.4941 - tp: 1361.0000 - fp: 1423.0000 - tn: 129783.0000 - fn: 39440.0000 - accuracy: 0.7624 - precision: 0.4889 - recall: 0.0334 - auc: 0.7114 - prc: 0.3906 - val_loss: 0.4845 - val_tp: 0.0000e+00 - val_fp: 0.0000e+00 - val_tn: 56231.0000 - val_fn: 17487.0000 - val_accuracy: 0.7628 - val_precision: 0.0000e+00 - val_recall: 0.0000e+00 - val_auc: 0.7348 - val_prc: 0.4146\n",
            "Epoch 20/200\n",
            "5376/5376 [==============================] - 19s 3ms/step - loss: 0.4948 - tp: 1098.0000 - fp: 1184.0000 - tn: 130022.0000 - fn: 39703.0000 - accuracy: 0.7623 - precision: 0.4812 - recall: 0.0269 - auc: 0.7105 - prc: 0.3878 - val_loss: 0.4846 - val_tp: 0.0000e+00 - val_fp: 0.0000e+00 - val_tn: 56231.0000 - val_fn: 17487.0000 - val_accuracy: 0.7628 - val_precision: 0.0000e+00 - val_recall: 0.0000e+00 - val_auc: 0.7329 - val_prc: 0.4110\n",
            "Epoch 21/200\n",
            "5376/5376 [==============================] - 19s 3ms/step - loss: 0.4944 - tp: 1283.0000 - fp: 1382.0000 - tn: 129824.0000 - fn: 39518.0000 - accuracy: 0.7622 - precision: 0.4814 - recall: 0.0314 - auc: 0.7110 - prc: 0.3894 - val_loss: 0.4866 - val_tp: 0.0000e+00 - val_fp: 0.0000e+00 - val_tn: 56231.0000 - val_fn: 17487.0000 - val_accuracy: 0.7628 - val_precision: 0.0000e+00 - val_recall: 0.0000e+00 - val_auc: 0.7348 - val_prc: 0.4134\n",
            "Epoch 22/200\n",
            "5376/5376 [==============================] - 18s 3ms/step - loss: 0.4937 - tp: 1443.0000 - fp: 1430.0000 - tn: 129776.0000 - fn: 39358.0000 - accuracy: 0.7629 - precision: 0.5023 - recall: 0.0354 - auc: 0.7131 - prc: 0.3923 - val_loss: 0.4834 - val_tp: 32.0000 - val_fp: 14.0000 - val_tn: 56217.0000 - val_fn: 17455.0000 - val_accuracy: 0.7630 - val_precision: 0.6957 - val_recall: 0.0018 - val_auc: 0.7352 - val_prc: 0.4142\n",
            "Epoch 23/200\n",
            "5376/5376 [==============================] - 19s 3ms/step - loss: 0.4944 - tp: 1207.0000 - fp: 1298.0000 - tn: 129908.0000 - fn: 39594.0000 - accuracy: 0.7623 - precision: 0.4818 - recall: 0.0296 - auc: 0.7115 - prc: 0.3891 - val_loss: 0.4852 - val_tp: 0.0000e+00 - val_fp: 0.0000e+00 - val_tn: 56231.0000 - val_fn: 17487.0000 - val_accuracy: 0.7628 - val_precision: 0.0000e+00 - val_recall: 0.0000e+00 - val_auc: 0.7335 - val_prc: 0.4108\n",
            "Epoch 24/200\n",
            "5376/5376 [==============================] - 18s 3ms/step - loss: 0.4942 - tp: 1354.0000 - fp: 1421.0000 - tn: 129785.0000 - fn: 39447.0000 - accuracy: 0.7624 - precision: 0.4879 - recall: 0.0332 - auc: 0.7115 - prc: 0.3909 - val_loss: 0.4828 - val_tp: 10.0000 - val_fp: 1.0000 - val_tn: 56230.0000 - val_fn: 17477.0000 - val_accuracy: 0.7629 - val_precision: 0.9091 - val_recall: 5.7185e-04 - val_auc: 0.7340 - val_prc: 0.4138\n",
            "Epoch 25/200\n",
            "5376/5376 [==============================] - 17s 3ms/step - loss: 0.4942 - tp: 1471.0000 - fp: 1554.0000 - tn: 129652.0000 - fn: 39330.0000 - accuracy: 0.7623 - precision: 0.4863 - recall: 0.0361 - auc: 0.7123 - prc: 0.3917 - val_loss: 0.4842 - val_tp: 0.0000e+00 - val_fp: 0.0000e+00 - val_tn: 56231.0000 - val_fn: 17487.0000 - val_accuracy: 0.7628 - val_precision: 0.0000e+00 - val_recall: 0.0000e+00 - val_auc: 0.7359 - val_prc: 0.4148\n",
            "Epoch 26/200\n",
            "5376/5376 [==============================] - 19s 3ms/step - loss: 0.4949 - tp: 1251.0000 - fp: 1309.0000 - tn: 129897.0000 - fn: 39550.0000 - accuracy: 0.7625 - precision: 0.4887 - recall: 0.0307 - auc: 0.7101 - prc: 0.3878 - val_loss: 0.4847 - val_tp: 0.0000e+00 - val_fp: 0.0000e+00 - val_tn: 56231.0000 - val_fn: 17487.0000 - val_accuracy: 0.7628 - val_precision: 0.0000e+00 - val_recall: 0.0000e+00 - val_auc: 0.7351 - val_prc: 0.4146\n",
            "Epoch 27/200\n",
            "5376/5376 [==============================] - 20s 4ms/step - loss: 0.4943 - tp: 1279.0000 - fp: 1363.0000 - tn: 129843.0000 - fn: 39522.0000 - accuracy: 0.7623 - precision: 0.4841 - recall: 0.0313 - auc: 0.7116 - prc: 0.3897 - val_loss: 0.4839 - val_tp: 0.0000e+00 - val_fp: 0.0000e+00 - val_tn: 56231.0000 - val_fn: 17487.0000 - val_accuracy: 0.7628 - val_precision: 0.0000e+00 - val_recall: 0.0000e+00 - val_auc: 0.7327 - val_prc: 0.4120\n",
            "Epoch 28/200\n",
            "5376/5376 [==============================] - 20s 4ms/step - loss: 0.4939 - tp: 1450.0000 - fp: 1502.0000 - tn: 129704.0000 - fn: 39351.0000 - accuracy: 0.7625 - precision: 0.4912 - recall: 0.0355 - auc: 0.7120 - prc: 0.3917 - val_loss: 0.4838 - val_tp: 0.0000e+00 - val_fp: 0.0000e+00 - val_tn: 56231.0000 - val_fn: 17487.0000 - val_accuracy: 0.7628 - val_precision: 0.0000e+00 - val_recall: 0.0000e+00 - val_auc: 0.7352 - val_prc: 0.4146\n",
            "Epoch 29/200\n",
            "5376/5376 [==============================] - 19s 4ms/step - loss: 0.4944 - tp: 1281.0000 - fp: 1367.0000 - tn: 129839.0000 - fn: 39520.0000 - accuracy: 0.7623 - precision: 0.4838 - recall: 0.0314 - auc: 0.7113 - prc: 0.3893 - val_loss: 0.4835 - val_tp: 0.0000e+00 - val_fp: 0.0000e+00 - val_tn: 56231.0000 - val_fn: 17487.0000 - val_accuracy: 0.7628 - val_precision: 0.0000e+00 - val_recall: 0.0000e+00 - val_auc: 0.7350 - val_prc: 0.4142\n",
            "Epoch 30/200\n",
            "5376/5376 [==============================] - 19s 4ms/step - loss: 0.4943 - tp: 1212.0000 - fp: 1363.0000 - tn: 129843.0000 - fn: 39589.0000 - accuracy: 0.7619 - precision: 0.4707 - recall: 0.0297 - auc: 0.7116 - prc: 0.3887 - val_loss: 0.4834 - val_tp: 0.0000e+00 - val_fp: 0.0000e+00 - val_tn: 56231.0000 - val_fn: 17487.0000 - val_accuracy: 0.7628 - val_precision: 0.0000e+00 - val_recall: 0.0000e+00 - val_auc: 0.7356 - val_prc: 0.4140\n",
            "Epoch 31/200\n",
            "5376/5376 [==============================] - 19s 4ms/step - loss: 0.4945 - tp: 1227.0000 - fp: 1288.0000 - tn: 129918.0000 - fn: 39574.0000 - accuracy: 0.7624 - precision: 0.4879 - recall: 0.0301 - auc: 0.7112 - prc: 0.3887 - val_loss: 0.4860 - val_tp: 0.0000e+00 - val_fp: 0.0000e+00 - val_tn: 56231.0000 - val_fn: 17487.0000 - val_accuracy: 0.7628 - val_precision: 0.0000e+00 - val_recall: 0.0000e+00 - val_auc: 0.7335 - val_prc: 0.4103\n",
            "Epoch 32/200\n",
            "5376/5376 [==============================] - 19s 4ms/step - loss: 0.4943 - tp: 1231.0000 - fp: 1307.0000 - tn: 129899.0000 - fn: 39570.0000 - accuracy: 0.7624 - precision: 0.4850 - recall: 0.0302 - auc: 0.7124 - prc: 0.3901 - val_loss: 0.4830 - val_tp: 0.0000e+00 - val_fp: 0.0000e+00 - val_tn: 56231.0000 - val_fn: 17487.0000 - val_accuracy: 0.7628 - val_precision: 0.0000e+00 - val_recall: 0.0000e+00 - val_auc: 0.7352 - val_prc: 0.4136\n",
            "Epoch 33/200\n",
            "5376/5376 [==============================] - 19s 4ms/step - loss: 0.4940 - tp: 1267.0000 - fp: 1404.0000 - tn: 129802.0000 - fn: 39534.0000 - accuracy: 0.7620 - precision: 0.4744 - recall: 0.0311 - auc: 0.7121 - prc: 0.3899 - val_loss: 0.4843 - val_tp: 0.0000e+00 - val_fp: 0.0000e+00 - val_tn: 56231.0000 - val_fn: 17487.0000 - val_accuracy: 0.7628 - val_precision: 0.0000e+00 - val_recall: 0.0000e+00 - val_auc: 0.7353 - val_prc: 0.4132\n",
            "Epoch 34/200\n",
            "5376/5376 [==============================] - 20s 4ms/step - loss: 0.4936 - tp: 1444.0000 - fp: 1523.0000 - tn: 129683.0000 - fn: 39357.0000 - accuracy: 0.7623 - precision: 0.4867 - recall: 0.0354 - auc: 0.7128 - prc: 0.3917 - val_loss: 0.4844 - val_tp: 0.0000e+00 - val_fp: 0.0000e+00 - val_tn: 56231.0000 - val_fn: 17487.0000 - val_accuracy: 0.7628 - val_precision: 0.0000e+00 - val_recall: 0.0000e+00 - val_auc: 0.7362 - val_prc: 0.4150\n",
            "Epoch 35/200\n",
            "5376/5376 [==============================] - 19s 4ms/step - loss: 0.4942 - tp: 1423.0000 - fp: 1506.0000 - tn: 129700.0000 - fn: 39378.0000 - accuracy: 0.7623 - precision: 0.4858 - recall: 0.0349 - auc: 0.7118 - prc: 0.3912 - val_loss: 0.4830 - val_tp: 1.0000 - val_fp: 0.0000e+00 - val_tn: 56231.0000 - val_fn: 17486.0000 - val_accuracy: 0.7628 - val_precision: 1.0000 - val_recall: 5.7185e-05 - val_auc: 0.7343 - val_prc: 0.4136\n",
            "Epoch 36/200\n",
            "5376/5376 [==============================] - 19s 3ms/step - loss: 0.4942 - tp: 1322.0000 - fp: 1340.0000 - tn: 129866.0000 - fn: 39479.0000 - accuracy: 0.7627 - precision: 0.4966 - recall: 0.0324 - auc: 0.7120 - prc: 0.3908 - val_loss: 0.4837 - val_tp: 0.0000e+00 - val_fp: 0.0000e+00 - val_tn: 56231.0000 - val_fn: 17487.0000 - val_accuracy: 0.7628 - val_precision: 0.0000e+00 - val_recall: 0.0000e+00 - val_auc: 0.7348 - val_prc: 0.4135\n",
            "Epoch 37/200\n",
            "5376/5376 [==============================] - 19s 4ms/step - loss: 0.4945 - tp: 1311.0000 - fp: 1366.0000 - tn: 129840.0000 - fn: 39490.0000 - accuracy: 0.7625 - precision: 0.4897 - recall: 0.0321 - auc: 0.7109 - prc: 0.3900 - val_loss: 0.4835 - val_tp: 0.0000e+00 - val_fp: 0.0000e+00 - val_tn: 56231.0000 - val_fn: 17487.0000 - val_accuracy: 0.7628 - val_precision: 0.0000e+00 - val_recall: 0.0000e+00 - val_auc: 0.7354 - val_prc: 0.4145\n",
            "Epoch 38/200\n",
            "5376/5376 [==============================] - 18s 3ms/step - loss: 0.4942 - tp: 1352.0000 - fp: 1397.0000 - tn: 129809.0000 - fn: 39449.0000 - accuracy: 0.7625 - precision: 0.4918 - recall: 0.0331 - auc: 0.7120 - prc: 0.3909 - val_loss: 0.4841 - val_tp: 0.0000e+00 - val_fp: 0.0000e+00 - val_tn: 56231.0000 - val_fn: 17487.0000 - val_accuracy: 0.7628 - val_precision: 0.0000e+00 - val_recall: 0.0000e+00 - val_auc: 0.7350 - val_prc: 0.4127\n",
            "Epoch 39/200\n",
            "5376/5376 [==============================] - 19s 3ms/step - loss: 0.4941 - tp: 1339.0000 - fp: 1415.0000 - tn: 129791.0000 - fn: 39462.0000 - accuracy: 0.7624 - precision: 0.4862 - recall: 0.0328 - auc: 0.7121 - prc: 0.3916 - val_loss: 0.4843 - val_tp: 0.0000e+00 - val_fp: 0.0000e+00 - val_tn: 56231.0000 - val_fn: 17487.0000 - val_accuracy: 0.7628 - val_precision: 0.0000e+00 - val_recall: 0.0000e+00 - val_auc: 0.7344 - val_prc: 0.4127\n",
            "Epoch 40/200\n",
            "5376/5376 [==============================] - 19s 4ms/step - loss: 0.4940 - tp: 1301.0000 - fp: 1369.0000 - tn: 129837.0000 - fn: 39500.0000 - accuracy: 0.7624 - precision: 0.4873 - recall: 0.0319 - auc: 0.7116 - prc: 0.3895 - val_loss: 0.4831 - val_tp: 0.0000e+00 - val_fp: 0.0000e+00 - val_tn: 56231.0000 - val_fn: 17487.0000 - val_accuracy: 0.7628 - val_precision: 0.0000e+00 - val_recall: 0.0000e+00 - val_auc: 0.7357 - val_prc: 0.4149\n",
            "Epoch 41/200\n",
            "5376/5376 [==============================] - 17s 3ms/step - loss: 0.4940 - tp: 1434.0000 - fp: 1443.0000 - tn: 129763.0000 - fn: 39367.0000 - accuracy: 0.7627 - precision: 0.4984 - recall: 0.0351 - auc: 0.7120 - prc: 0.3914 - val_loss: 0.4848 - val_tp: 0.0000e+00 - val_fp: 0.0000e+00 - val_tn: 56231.0000 - val_fn: 17487.0000 - val_accuracy: 0.7628 - val_precision: 0.0000e+00 - val_recall: 0.0000e+00 - val_auc: 0.7324 - val_prc: 0.4107\n",
            "Epoch 42/200\n",
            "5376/5376 [==============================] - 16s 3ms/step - loss: 0.4942 - tp: 1484.0000 - fp: 1591.0000 - tn: 129615.0000 - fn: 39317.0000 - accuracy: 0.7622 - precision: 0.4826 - recall: 0.0364 - auc: 0.7119 - prc: 0.3921 - val_loss: 0.4837 - val_tp: 0.0000e+00 - val_fp: 0.0000e+00 - val_tn: 56231.0000 - val_fn: 17487.0000 - val_accuracy: 0.7628 - val_precision: 0.0000e+00 - val_recall: 0.0000e+00 - val_auc: 0.7349 - val_prc: 0.4132\n",
            "Epoch 43/200\n",
            "5376/5376 [==============================] - 17s 3ms/step - loss: 0.4945 - tp: 1350.0000 - fp: 1436.0000 - tn: 129770.0000 - fn: 39451.0000 - accuracy: 0.7623 - precision: 0.4846 - recall: 0.0331 - auc: 0.7110 - prc: 0.3897 - val_loss: 0.4839 - val_tp: 0.0000e+00 - val_fp: 0.0000e+00 - val_tn: 56231.0000 - val_fn: 17487.0000 - val_accuracy: 0.7628 - val_precision: 0.0000e+00 - val_recall: 0.0000e+00 - val_auc: 0.7351 - val_prc: 0.4142\n",
            "Epoch 44/200\n",
            "5376/5376 [==============================] - 17s 3ms/step - loss: 0.4944 - tp: 1272.0000 - fp: 1349.0000 - tn: 129857.0000 - fn: 39529.0000 - accuracy: 0.7623 - precision: 0.4853 - recall: 0.0312 - auc: 0.7113 - prc: 0.3887 - val_loss: 0.4853 - val_tp: 0.0000e+00 - val_fp: 0.0000e+00 - val_tn: 56231.0000 - val_fn: 17487.0000 - val_accuracy: 0.7628 - val_precision: 0.0000e+00 - val_recall: 0.0000e+00 - val_auc: 0.7357 - val_prc: 0.4128\n",
            "Epoch 45/200\n",
            "5376/5376 [==============================] - 18s 3ms/step - loss: 0.4947 - tp: 962.0000 - fp: 1064.0000 - tn: 130142.0000 - fn: 39839.0000 - accuracy: 0.7622 - precision: 0.4748 - recall: 0.0236 - auc: 0.7106 - prc: 0.3867 - val_loss: 0.4844 - val_tp: 0.0000e+00 - val_fp: 0.0000e+00 - val_tn: 56231.0000 - val_fn: 17487.0000 - val_accuracy: 0.7628 - val_precision: 0.0000e+00 - val_recall: 0.0000e+00 - val_auc: 0.7354 - val_prc: 0.4132\n",
            "Epoch 46/200\n",
            "5376/5376 [==============================] - 17s 3ms/step - loss: 0.4943 - tp: 1440.0000 - fp: 1550.0000 - tn: 129656.0000 - fn: 39361.0000 - accuracy: 0.7622 - precision: 0.4816 - recall: 0.0353 - auc: 0.7117 - prc: 0.3907 - val_loss: 0.4841 - val_tp: 0.0000e+00 - val_fp: 0.0000e+00 - val_tn: 56231.0000 - val_fn: 17487.0000 - val_accuracy: 0.7628 - val_precision: 0.0000e+00 - val_recall: 0.0000e+00 - val_auc: 0.7345 - val_prc: 0.4135\n",
            "Epoch 47/200\n",
            "5376/5376 [==============================] - 18s 3ms/step - loss: 0.4936 - tp: 1323.0000 - fp: 1393.0000 - tn: 129813.0000 - fn: 39478.0000 - accuracy: 0.7624 - precision: 0.4871 - recall: 0.0324 - auc: 0.7114 - prc: 0.3899 - val_loss: 0.4833 - val_tp: 0.0000e+00 - val_fp: 0.0000e+00 - val_tn: 56231.0000 - val_fn: 17487.0000 - val_accuracy: 0.7628 - val_precision: 0.0000e+00 - val_recall: 0.0000e+00 - val_auc: 0.7368 - val_prc: 0.4156\n",
            "Epoch 48/200\n",
            "5376/5376 [==============================] - 17s 3ms/step - loss: 0.4941 - tp: 1294.0000 - fp: 1346.0000 - tn: 129860.0000 - fn: 39507.0000 - accuracy: 0.7625 - precision: 0.4902 - recall: 0.0317 - auc: 0.7113 - prc: 0.3892 - val_loss: 0.4846 - val_tp: 0.0000e+00 - val_fp: 0.0000e+00 - val_tn: 56231.0000 - val_fn: 17487.0000 - val_accuracy: 0.7628 - val_precision: 0.0000e+00 - val_recall: 0.0000e+00 - val_auc: 0.7367 - val_prc: 0.4152\n",
            "Epoch 49/200\n",
            "5376/5376 [==============================] - 17s 3ms/step - loss: 0.4942 - tp: 1345.0000 - fp: 1442.0000 - tn: 129764.0000 - fn: 39456.0000 - accuracy: 0.7622 - precision: 0.4826 - recall: 0.0330 - auc: 0.7113 - prc: 0.3897 - val_loss: 0.4831 - val_tp: 0.0000e+00 - val_fp: 0.0000e+00 - val_tn: 56231.0000 - val_fn: 17487.0000 - val_accuracy: 0.7628 - val_precision: 0.0000e+00 - val_recall: 0.0000e+00 - val_auc: 0.7348 - val_prc: 0.4137\n",
            "Epoch 50/200\n",
            "5376/5376 [==============================] - 18s 3ms/step - loss: 0.4936 - tp: 1284.0000 - fp: 1371.0000 - tn: 129835.0000 - fn: 39517.0000 - accuracy: 0.7623 - precision: 0.4836 - recall: 0.0315 - auc: 0.7120 - prc: 0.3898 - val_loss: 0.4832 - val_tp: 0.0000e+00 - val_fp: 0.0000e+00 - val_tn: 56231.0000 - val_fn: 17487.0000 - val_accuracy: 0.7628 - val_precision: 0.0000e+00 - val_recall: 0.0000e+00 - val_auc: 0.7362 - val_prc: 0.4136\n",
            "Epoch 51/200\n",
            "5376/5376 [==============================] - 17s 3ms/step - loss: 0.4941 - tp: 1246.0000 - fp: 1309.0000 - tn: 129897.0000 - fn: 39555.0000 - accuracy: 0.7624 - precision: 0.4877 - recall: 0.0305 - auc: 0.7110 - prc: 0.3886 - val_loss: 0.4839 - val_tp: 0.0000e+00 - val_fp: 0.0000e+00 - val_tn: 56231.0000 - val_fn: 17487.0000 - val_accuracy: 0.7628 - val_precision: 0.0000e+00 - val_recall: 0.0000e+00 - val_auc: 0.7366 - val_prc: 0.4147\n",
            "Epoch 52/200\n",
            "5376/5376 [==============================] - 17s 3ms/step - loss: 0.4941 - tp: 1314.0000 - fp: 1390.0000 - tn: 129816.0000 - fn: 39487.0000 - accuracy: 0.7624 - precision: 0.4859 - recall: 0.0322 - auc: 0.7103 - prc: 0.3889 - val_loss: 0.4830 - val_tp: 0.0000e+00 - val_fp: 0.0000e+00 - val_tn: 56231.0000 - val_fn: 17487.0000 - val_accuracy: 0.7628 - val_precision: 0.0000e+00 - val_recall: 0.0000e+00 - val_auc: 0.7358 - val_prc: 0.4146\n",
            "Epoch 53/200\n",
            "5376/5376 [==============================] - 17s 3ms/step - loss: 0.4932 - tp: 1398.0000 - fp: 1436.0000 - tn: 129770.0000 - fn: 39403.0000 - accuracy: 0.7626 - precision: 0.4933 - recall: 0.0343 - auc: 0.7119 - prc: 0.3908 - val_loss: 0.4832 - val_tp: 0.0000e+00 - val_fp: 0.0000e+00 - val_tn: 56231.0000 - val_fn: 17487.0000 - val_accuracy: 0.7628 - val_precision: 0.0000e+00 - val_recall: 0.0000e+00 - val_auc: 0.7371 - val_prc: 0.4164\n",
            "Epoch 54/200\n",
            "5376/5376 [==============================] - 18s 3ms/step - loss: 0.4938 - tp: 1480.0000 - fp: 1510.0000 - tn: 129696.0000 - fn: 39321.0000 - accuracy: 0.7626 - precision: 0.4950 - recall: 0.0363 - auc: 0.7113 - prc: 0.3908 - val_loss: 0.4842 - val_tp: 0.0000e+00 - val_fp: 0.0000e+00 - val_tn: 56231.0000 - val_fn: 17487.0000 - val_accuracy: 0.7628 - val_precision: 0.0000e+00 - val_recall: 0.0000e+00 - val_auc: 0.7347 - val_prc: 0.4138\n",
            "Epoch 55/200\n",
            "5376/5376 [==============================] - 18s 3ms/step - loss: 0.4941 - tp: 1393.0000 - fp: 1377.0000 - tn: 129829.0000 - fn: 39408.0000 - accuracy: 0.7629 - precision: 0.5029 - recall: 0.0341 - auc: 0.7107 - prc: 0.3911 - val_loss: 0.4839 - val_tp: 0.0000e+00 - val_fp: 0.0000e+00 - val_tn: 56231.0000 - val_fn: 17487.0000 - val_accuracy: 0.7628 - val_precision: 0.0000e+00 - val_recall: 0.0000e+00 - val_auc: 0.7372 - val_prc: 0.4165\n",
            "Epoch 56/200\n",
            "5376/5376 [==============================] - 18s 3ms/step - loss: 0.4934 - tp: 1562.0000 - fp: 1581.0000 - tn: 129625.0000 - fn: 39239.0000 - accuracy: 0.7627 - precision: 0.4970 - recall: 0.0383 - auc: 0.7123 - prc: 0.3920 - val_loss: 0.4838 - val_tp: 0.0000e+00 - val_fp: 0.0000e+00 - val_tn: 56231.0000 - val_fn: 17487.0000 - val_accuracy: 0.7628 - val_precision: 0.0000e+00 - val_recall: 0.0000e+00 - val_auc: 0.7364 - val_prc: 0.4157\n",
            "Epoch 57/200\n",
            "5376/5376 [==============================] - 16s 3ms/step - loss: 0.4939 - tp: 1352.0000 - fp: 1447.0000 - tn: 129759.0000 - fn: 39449.0000 - accuracy: 0.7622 - precision: 0.4830 - recall: 0.0331 - auc: 0.7116 - prc: 0.3906 - val_loss: 0.4835 - val_tp: 0.0000e+00 - val_fp: 0.0000e+00 - val_tn: 56231.0000 - val_fn: 17487.0000 - val_accuracy: 0.7628 - val_precision: 0.0000e+00 - val_recall: 0.0000e+00 - val_auc: 0.7366 - val_prc: 0.4147\n",
            "Epoch 58/200\n",
            "5376/5376 [==============================] - 16s 3ms/step - loss: 0.4939 - tp: 1358.0000 - fp: 1433.0000 - tn: 129773.0000 - fn: 39443.0000 - accuracy: 0.7624 - precision: 0.4866 - recall: 0.0333 - auc: 0.7113 - prc: 0.3895 - val_loss: 0.4832 - val_tp: 0.0000e+00 - val_fp: 0.0000e+00 - val_tn: 56231.0000 - val_fn: 17487.0000 - val_accuracy: 0.7628 - val_precision: 0.0000e+00 - val_recall: 0.0000e+00 - val_auc: 0.7364 - val_prc: 0.4152\n",
            "Epoch 59/200\n",
            "5376/5376 [==============================] - 15s 3ms/step - loss: 0.4934 - tp: 1257.0000 - fp: 1312.0000 - tn: 129894.0000 - fn: 39544.0000 - accuracy: 0.7625 - precision: 0.4893 - recall: 0.0308 - auc: 0.7117 - prc: 0.3893 - val_loss: 0.4825 - val_tp: 0.0000e+00 - val_fp: 0.0000e+00 - val_tn: 56231.0000 - val_fn: 17487.0000 - val_accuracy: 0.7628 - val_precision: 0.0000e+00 - val_recall: 0.0000e+00 - val_auc: 0.7352 - val_prc: 0.4134\n",
            "Epoch 60/200\n",
            "5376/5376 [==============================] - 15s 3ms/step - loss: 0.4937 - tp: 1362.0000 - fp: 1466.0000 - tn: 129740.0000 - fn: 39439.0000 - accuracy: 0.7622 - precision: 0.4816 - recall: 0.0334 - auc: 0.7115 - prc: 0.3900 - val_loss: 0.4839 - val_tp: 0.0000e+00 - val_fp: 0.0000e+00 - val_tn: 56231.0000 - val_fn: 17487.0000 - val_accuracy: 0.7628 - val_precision: 0.0000e+00 - val_recall: 0.0000e+00 - val_auc: 0.7364 - val_prc: 0.4156\n",
            "Epoch 61/200\n",
            "5376/5376 [==============================] - 15s 3ms/step - loss: 0.4939 - tp: 1121.0000 - fp: 1137.0000 - tn: 130069.0000 - fn: 39680.0000 - accuracy: 0.7627 - precision: 0.4965 - recall: 0.0275 - auc: 0.7109 - prc: 0.3884 - val_loss: 0.4838 - val_tp: 0.0000e+00 - val_fp: 0.0000e+00 - val_tn: 56231.0000 - val_fn: 17487.0000 - val_accuracy: 0.7628 - val_precision: 0.0000e+00 - val_recall: 0.0000e+00 - val_auc: 0.7341 - val_prc: 0.4120\n",
            "Epoch 62/200\n",
            "5376/5376 [==============================] - 14s 3ms/step - loss: 0.4942 - tp: 1328.0000 - fp: 1323.0000 - tn: 129883.0000 - fn: 39473.0000 - accuracy: 0.7628 - precision: 0.5009 - recall: 0.0325 - auc: 0.7096 - prc: 0.3887 - val_loss: 0.4831 - val_tp: 0.0000e+00 - val_fp: 0.0000e+00 - val_tn: 56231.0000 - val_fn: 17487.0000 - val_accuracy: 0.7628 - val_precision: 0.0000e+00 - val_recall: 0.0000e+00 - val_auc: 0.7363 - val_prc: 0.4143\n",
            "Epoch 63/200\n",
            "5376/5376 [==============================] - 13s 2ms/step - loss: 0.4941 - tp: 1261.0000 - fp: 1347.0000 - tn: 129859.0000 - fn: 39540.0000 - accuracy: 0.7623 - precision: 0.4835 - recall: 0.0309 - auc: 0.7114 - prc: 0.3895 - val_loss: 0.4841 - val_tp: 0.0000e+00 - val_fp: 0.0000e+00 - val_tn: 56231.0000 - val_fn: 17487.0000 - val_accuracy: 0.7628 - val_precision: 0.0000e+00 - val_recall: 0.0000e+00 - val_auc: 0.7357 - val_prc: 0.4144\n",
            "Epoch 64/200\n",
            "5376/5376 [==============================] - 13s 2ms/step - loss: 0.4937 - tp: 1160.0000 - fp: 1201.0000 - tn: 130005.0000 - fn: 39641.0000 - accuracy: 0.7626 - precision: 0.4913 - recall: 0.0284 - auc: 0.7108 - prc: 0.3881 - val_loss: 0.4843 - val_tp: 0.0000e+00 - val_fp: 0.0000e+00 - val_tn: 56231.0000 - val_fn: 17487.0000 - val_accuracy: 0.7628 - val_precision: 0.0000e+00 - val_recall: 0.0000e+00 - val_auc: 0.7369 - val_prc: 0.4156\n",
            "Epoch 65/200\n",
            "5376/5376 [==============================] - 13s 2ms/step - loss: 0.4943 - tp: 1316.0000 - fp: 1347.0000 - tn: 129859.0000 - fn: 39485.0000 - accuracy: 0.7626 - precision: 0.4942 - recall: 0.0323 - auc: 0.7110 - prc: 0.3898 - val_loss: 0.4837 - val_tp: 0.0000e+00 - val_fp: 0.0000e+00 - val_tn: 56231.0000 - val_fn: 17487.0000 - val_accuracy: 0.7628 - val_precision: 0.0000e+00 - val_recall: 0.0000e+00 - val_auc: 0.7356 - val_prc: 0.4144\n",
            "Epoch 66/200\n",
            "5376/5376 [==============================] - 13s 2ms/step - loss: 0.4937 - tp: 1415.0000 - fp: 1477.0000 - tn: 129729.0000 - fn: 39386.0000 - accuracy: 0.7624 - precision: 0.4893 - recall: 0.0347 - auc: 0.7119 - prc: 0.3909 - val_loss: 0.4853 - val_tp: 0.0000e+00 - val_fp: 0.0000e+00 - val_tn: 56231.0000 - val_fn: 17487.0000 - val_accuracy: 0.7628 - val_precision: 0.0000e+00 - val_recall: 0.0000e+00 - val_auc: 0.7340 - val_prc: 0.4107\n",
            "Epoch 67/200\n",
            "5376/5376 [==============================] - 13s 2ms/step - loss: 0.4934 - tp: 1405.0000 - fp: 1520.0000 - tn: 129686.0000 - fn: 39396.0000 - accuracy: 0.7621 - precision: 0.4803 - recall: 0.0344 - auc: 0.7121 - prc: 0.3903 - val_loss: 0.4843 - val_tp: 0.0000e+00 - val_fp: 0.0000e+00 - val_tn: 56231.0000 - val_fn: 17487.0000 - val_accuracy: 0.7628 - val_precision: 0.0000e+00 - val_recall: 0.0000e+00 - val_auc: 0.7351 - val_prc: 0.4126\n",
            "Epoch 68/200\n",
            "5376/5376 [==============================] - 12s 2ms/step - loss: 0.4942 - tp: 1209.0000 - fp: 1226.0000 - tn: 129980.0000 - fn: 39592.0000 - accuracy: 0.7627 - precision: 0.4965 - recall: 0.0296 - auc: 0.7105 - prc: 0.3882 - val_loss: 0.4835 - val_tp: 0.0000e+00 - val_fp: 0.0000e+00 - val_tn: 56231.0000 - val_fn: 17487.0000 - val_accuracy: 0.7628 - val_precision: 0.0000e+00 - val_recall: 0.0000e+00 - val_auc: 0.7353 - val_prc: 0.4132\n",
            "Epoch 69/200\n",
            "5376/5376 [==============================] - 12s 2ms/step - loss: 0.4938 - tp: 1348.0000 - fp: 1464.0000 - tn: 129742.0000 - fn: 39453.0000 - accuracy: 0.7621 - precision: 0.4794 - recall: 0.0330 - auc: 0.7115 - prc: 0.3896 - val_loss: 0.4826 - val_tp: 0.0000e+00 - val_fp: 0.0000e+00 - val_tn: 56231.0000 - val_fn: 17487.0000 - val_accuracy: 0.7628 - val_precision: 0.0000e+00 - val_recall: 0.0000e+00 - val_auc: 0.7360 - val_prc: 0.4153\n",
            "Epoch 70/200\n",
            "5376/5376 [==============================] - 12s 2ms/step - loss: 0.4940 - tp: 1314.0000 - fp: 1394.0000 - tn: 129812.0000 - fn: 39487.0000 - accuracy: 0.7623 - precision: 0.4852 - recall: 0.0322 - auc: 0.7115 - prc: 0.3896 - val_loss: 0.4835 - val_tp: 0.0000e+00 - val_fp: 0.0000e+00 - val_tn: 56231.0000 - val_fn: 17487.0000 - val_accuracy: 0.7628 - val_precision: 0.0000e+00 - val_recall: 0.0000e+00 - val_auc: 0.7364 - val_prc: 0.4154\n",
            "Epoch 71/200\n",
            "5376/5376 [==============================] - 13s 2ms/step - loss: 0.4938 - tp: 1262.0000 - fp: 1246.0000 - tn: 129960.0000 - fn: 39539.0000 - accuracy: 0.7629 - precision: 0.5032 - recall: 0.0309 - auc: 0.7116 - prc: 0.3900 - val_loss: 0.4832 - val_tp: 0.0000e+00 - val_fp: 0.0000e+00 - val_tn: 56231.0000 - val_fn: 17487.0000 - val_accuracy: 0.7628 - val_precision: 0.0000e+00 - val_recall: 0.0000e+00 - val_auc: 0.7363 - val_prc: 0.4154\n",
            "Epoch 72/200\n",
            "5376/5376 [==============================] - 12s 2ms/step - loss: 0.4934 - tp: 1422.0000 - fp: 1429.0000 - tn: 129777.0000 - fn: 39379.0000 - accuracy: 0.7628 - precision: 0.4988 - recall: 0.0349 - auc: 0.7115 - prc: 0.3909 - val_loss: 0.4837 - val_tp: 0.0000e+00 - val_fp: 1.0000 - val_tn: 56230.0000 - val_fn: 17487.0000 - val_accuracy: 0.7628 - val_precision: 0.0000e+00 - val_recall: 0.0000e+00 - val_auc: 0.7362 - val_prc: 0.4143\n",
            "Epoch 73/200\n",
            "5376/5376 [==============================] - 12s 2ms/step - loss: 0.4942 - tp: 1397.0000 - fp: 1407.0000 - tn: 129799.0000 - fn: 39404.0000 - accuracy: 0.7627 - precision: 0.4982 - recall: 0.0342 - auc: 0.7105 - prc: 0.3906 - val_loss: 0.4839 - val_tp: 0.0000e+00 - val_fp: 0.0000e+00 - val_tn: 56231.0000 - val_fn: 17487.0000 - val_accuracy: 0.7628 - val_precision: 0.0000e+00 - val_recall: 0.0000e+00 - val_auc: 0.7345 - val_prc: 0.4136\n",
            "Epoch 74/200\n",
            "5376/5376 [==============================] - 12s 2ms/step - loss: 0.4939 - tp: 1383.0000 - fp: 1471.0000 - tn: 129735.0000 - fn: 39418.0000 - accuracy: 0.7623 - precision: 0.4846 - recall: 0.0339 - auc: 0.7114 - prc: 0.3901 - val_loss: 0.4836 - val_tp: 0.0000e+00 - val_fp: 0.0000e+00 - val_tn: 56231.0000 - val_fn: 17487.0000 - val_accuracy: 0.7628 - val_precision: 0.0000e+00 - val_recall: 0.0000e+00 - val_auc: 0.7365 - val_prc: 0.4155\n",
            "Epoch 75/200\n",
            "5376/5376 [==============================] - 12s 2ms/step - loss: 0.4940 - tp: 1452.0000 - fp: 1597.0000 - tn: 129609.0000 - fn: 39349.0000 - accuracy: 0.7620 - precision: 0.4762 - recall: 0.0356 - auc: 0.7113 - prc: 0.3902 - val_loss: 0.4834 - val_tp: 0.0000e+00 - val_fp: 0.0000e+00 - val_tn: 56231.0000 - val_fn: 17487.0000 - val_accuracy: 0.7628 - val_precision: 0.0000e+00 - val_recall: 0.0000e+00 - val_auc: 0.7360 - val_prc: 0.4149\n",
            "Epoch 76/200\n",
            "5376/5376 [==============================] - 13s 2ms/step - loss: 0.4935 - tp: 1498.0000 - fp: 1528.0000 - tn: 129678.0000 - fn: 39303.0000 - accuracy: 0.7626 - precision: 0.4950 - recall: 0.0367 - auc: 0.7113 - prc: 0.3908 - val_loss: 0.4853 - val_tp: 0.0000e+00 - val_fp: 0.0000e+00 - val_tn: 56231.0000 - val_fn: 17487.0000 - val_accuracy: 0.7628 - val_precision: 0.0000e+00 - val_recall: 0.0000e+00 - val_auc: 0.7339 - val_prc: 0.4120\n",
            "Epoch 77/200\n",
            "5376/5376 [==============================] - 13s 2ms/step - loss: 0.4936 - tp: 1200.0000 - fp: 1258.0000 - tn: 129948.0000 - fn: 39601.0000 - accuracy: 0.7625 - precision: 0.4882 - recall: 0.0294 - auc: 0.7117 - prc: 0.3894 - val_loss: 0.4837 - val_tp: 0.0000e+00 - val_fp: 0.0000e+00 - val_tn: 56231.0000 - val_fn: 17487.0000 - val_accuracy: 0.7628 - val_precision: 0.0000e+00 - val_recall: 0.0000e+00 - val_auc: 0.7363 - val_prc: 0.4142\n",
            "Epoch 78/200\n",
            "5376/5376 [==============================] - 12s 2ms/step - loss: 0.4936 - tp: 1525.0000 - fp: 1479.0000 - tn: 129727.0000 - fn: 39276.0000 - accuracy: 0.7631 - precision: 0.5077 - recall: 0.0374 - auc: 0.7113 - prc: 0.3923 - val_loss: 0.4837 - val_tp: 0.0000e+00 - val_fp: 0.0000e+00 - val_tn: 56231.0000 - val_fn: 17487.0000 - val_accuracy: 0.7628 - val_precision: 0.0000e+00 - val_recall: 0.0000e+00 - val_auc: 0.7368 - val_prc: 0.4156\n",
            "Epoch 79/200\n",
            "5376/5376 [==============================] - 12s 2ms/step - loss: 0.4938 - tp: 1539.0000 - fp: 1581.0000 - tn: 129625.0000 - fn: 39262.0000 - accuracy: 0.7626 - precision: 0.4933 - recall: 0.0377 - auc: 0.7119 - prc: 0.3920 - val_loss: 0.4845 - val_tp: 0.0000e+00 - val_fp: 0.0000e+00 - val_tn: 56231.0000 - val_fn: 17487.0000 - val_accuracy: 0.7628 - val_precision: 0.0000e+00 - val_recall: 0.0000e+00 - val_auc: 0.7355 - val_prc: 0.4133\n",
            "Epoch 80/200\n",
            "5376/5376 [==============================] - 12s 2ms/step - loss: 0.4945 - tp: 1284.0000 - fp: 1431.0000 - tn: 129775.0000 - fn: 39517.0000 - accuracy: 0.7619 - precision: 0.4729 - recall: 0.0315 - auc: 0.7105 - prc: 0.3887 - val_loss: 0.4830 - val_tp: 0.0000e+00 - val_fp: 0.0000e+00 - val_tn: 56231.0000 - val_fn: 17487.0000 - val_accuracy: 0.7628 - val_precision: 0.0000e+00 - val_recall: 0.0000e+00 - val_auc: 0.7362 - val_prc: 0.4137\n",
            "Epoch 81/200\n",
            "5376/5376 [==============================] - 12s 2ms/step - loss: 0.4927 - tp: 1844.0000 - fp: 1876.0000 - tn: 129330.0000 - fn: 38957.0000 - accuracy: 0.7626 - precision: 0.4957 - recall: 0.0452 - auc: 0.7136 - prc: 0.3946 - val_loss: 0.4833 - val_tp: 0.0000e+00 - val_fp: 0.0000e+00 - val_tn: 56231.0000 - val_fn: 17487.0000 - val_accuracy: 0.7628 - val_precision: 0.0000e+00 - val_recall: 0.0000e+00 - val_auc: 0.7363 - val_prc: 0.4148\n",
            "Epoch 82/200\n",
            "5376/5376 [==============================] - 12s 2ms/step - loss: 0.4942 - tp: 1156.0000 - fp: 1285.0000 - tn: 129921.0000 - fn: 39645.0000 - accuracy: 0.7620 - precision: 0.4736 - recall: 0.0283 - auc: 0.7101 - prc: 0.3871 - val_loss: 0.4833 - val_tp: 0.0000e+00 - val_fp: 1.0000 - val_tn: 56230.0000 - val_fn: 17487.0000 - val_accuracy: 0.7628 - val_precision: 0.0000e+00 - val_recall: 0.0000e+00 - val_auc: 0.7356 - val_prc: 0.4123\n",
            "Epoch 83/200\n",
            "5376/5376 [==============================] - 13s 2ms/step - loss: 0.4935 - tp: 1411.0000 - fp: 1510.0000 - tn: 129696.0000 - fn: 39390.0000 - accuracy: 0.7622 - precision: 0.4831 - recall: 0.0346 - auc: 0.7119 - prc: 0.3908 - val_loss: 0.4833 - val_tp: 0.0000e+00 - val_fp: 0.0000e+00 - val_tn: 56231.0000 - val_fn: 17487.0000 - val_accuracy: 0.7628 - val_precision: 0.0000e+00 - val_recall: 0.0000e+00 - val_auc: 0.7364 - val_prc: 0.4144\n",
            "Epoch 84/200\n",
            "5376/5376 [==============================] - 13s 2ms/step - loss: 0.4938 - tp: 1452.0000 - fp: 1564.0000 - tn: 129642.0000 - fn: 39349.0000 - accuracy: 0.7621 - precision: 0.4814 - recall: 0.0356 - auc: 0.7115 - prc: 0.3909 - val_loss: 0.4824 - val_tp: 1.0000 - val_fp: 0.0000e+00 - val_tn: 56231.0000 - val_fn: 17486.0000 - val_accuracy: 0.7628 - val_precision: 1.0000 - val_recall: 5.7185e-05 - val_auc: 0.7352 - val_prc: 0.4139\n",
            "Epoch 85/200\n",
            "5376/5376 [==============================] - 13s 2ms/step - loss: 0.4939 - tp: 1203.0000 - fp: 1298.0000 - tn: 129908.0000 - fn: 39598.0000 - accuracy: 0.7622 - precision: 0.4810 - recall: 0.0295 - auc: 0.7106 - prc: 0.3880 - val_loss: 0.4843 - val_tp: 0.0000e+00 - val_fp: 0.0000e+00 - val_tn: 56231.0000 - val_fn: 17487.0000 - val_accuracy: 0.7628 - val_precision: 0.0000e+00 - val_recall: 0.0000e+00 - val_auc: 0.7370 - val_prc: 0.4146\n",
            "Epoch 86/200\n",
            "5376/5376 [==============================] - 13s 2ms/step - loss: 0.4937 - tp: 1564.0000 - fp: 1659.0000 - tn: 129547.0000 - fn: 39237.0000 - accuracy: 0.7622 - precision: 0.4853 - recall: 0.0383 - auc: 0.7113 - prc: 0.3919 - val_loss: 0.4842 - val_tp: 0.0000e+00 - val_fp: 0.0000e+00 - val_tn: 56231.0000 - val_fn: 17487.0000 - val_accuracy: 0.7628 - val_precision: 0.0000e+00 - val_recall: 0.0000e+00 - val_auc: 0.7370 - val_prc: 0.4162\n",
            "Epoch 87/200\n",
            "5376/5376 [==============================] - 13s 2ms/step - loss: 0.4935 - tp: 1472.0000 - fp: 1546.0000 - tn: 129660.0000 - fn: 39329.0000 - accuracy: 0.7624 - precision: 0.4877 - recall: 0.0361 - auc: 0.7119 - prc: 0.3907 - val_loss: 0.4848 - val_tp: 0.0000e+00 - val_fp: 0.0000e+00 - val_tn: 56231.0000 - val_fn: 17487.0000 - val_accuracy: 0.7628 - val_precision: 0.0000e+00 - val_recall: 0.0000e+00 - val_auc: 0.7371 - val_prc: 0.4161\n",
            "Epoch 88/200\n",
            "5376/5376 [==============================] - 13s 2ms/step - loss: 0.4934 - tp: 1650.0000 - fp: 1744.0000 - tn: 129462.0000 - fn: 39151.0000 - accuracy: 0.7622 - precision: 0.4862 - recall: 0.0404 - auc: 0.7127 - prc: 0.3936 - val_loss: 0.4840 - val_tp: 0.0000e+00 - val_fp: 0.0000e+00 - val_tn: 56231.0000 - val_fn: 17487.0000 - val_accuracy: 0.7628 - val_precision: 0.0000e+00 - val_recall: 0.0000e+00 - val_auc: 0.7362 - val_prc: 0.4147\n",
            "Epoch 89/200\n",
            "5376/5376 [==============================] - 13s 2ms/step - loss: 0.4939 - tp: 1191.0000 - fp: 1306.0000 - tn: 129900.0000 - fn: 39610.0000 - accuracy: 0.7621 - precision: 0.4770 - recall: 0.0292 - auc: 0.7112 - prc: 0.3884 - val_loss: 0.4822 - val_tp: 3.0000 - val_fp: 0.0000e+00 - val_tn: 56231.0000 - val_fn: 17484.0000 - val_accuracy: 0.7628 - val_precision: 1.0000 - val_recall: 1.7156e-04 - val_auc: 0.7351 - val_prc: 0.4142\n",
            "Epoch 90/200\n",
            "5376/5376 [==============================] - 13s 2ms/step - loss: 0.4941 - tp: 1245.0000 - fp: 1307.0000 - tn: 129899.0000 - fn: 39556.0000 - accuracy: 0.7624 - precision: 0.4879 - recall: 0.0305 - auc: 0.7107 - prc: 0.3882 - val_loss: 0.4843 - val_tp: 0.0000e+00 - val_fp: 0.0000e+00 - val_tn: 56231.0000 - val_fn: 17487.0000 - val_accuracy: 0.7628 - val_precision: 0.0000e+00 - val_recall: 0.0000e+00 - val_auc: 0.7348 - val_prc: 0.4118\n",
            "Epoch 91/200\n",
            "5376/5376 [==============================] - 13s 2ms/step - loss: 0.4931 - tp: 1256.0000 - fp: 1288.0000 - tn: 129918.0000 - fn: 39545.0000 - accuracy: 0.7626 - precision: 0.4937 - recall: 0.0308 - auc: 0.7120 - prc: 0.3898 - val_loss: 0.4843 - val_tp: 0.0000e+00 - val_fp: 0.0000e+00 - val_tn: 56231.0000 - val_fn: 17487.0000 - val_accuracy: 0.7628 - val_precision: 0.0000e+00 - val_recall: 0.0000e+00 - val_auc: 0.7353 - val_prc: 0.4133\n",
            "Epoch 92/200\n",
            "5376/5376 [==============================] - 13s 2ms/step - loss: 0.4935 - tp: 1550.0000 - fp: 1576.0000 - tn: 129630.0000 - fn: 39251.0000 - accuracy: 0.7626 - precision: 0.4958 - recall: 0.0380 - auc: 0.7119 - prc: 0.3925 - val_loss: 0.4826 - val_tp: 1.0000 - val_fp: 0.0000e+00 - val_tn: 56231.0000 - val_fn: 17486.0000 - val_accuracy: 0.7628 - val_precision: 1.0000 - val_recall: 5.7185e-05 - val_auc: 0.7356 - val_prc: 0.4156\n",
            "Epoch 93/200\n",
            "5376/5376 [==============================] - 13s 2ms/step - loss: 0.4942 - tp: 1197.0000 - fp: 1206.0000 - tn: 130000.0000 - fn: 39604.0000 - accuracy: 0.7627 - precision: 0.4981 - recall: 0.0293 - auc: 0.7111 - prc: 0.3886 - val_loss: 0.4825 - val_tp: 0.0000e+00 - val_fp: 1.0000 - val_tn: 56230.0000 - val_fn: 17487.0000 - val_accuracy: 0.7628 - val_precision: 0.0000e+00 - val_recall: 0.0000e+00 - val_auc: 0.7365 - val_prc: 0.4141\n",
            "Epoch 94/200\n",
            "5376/5376 [==============================] - 13s 2ms/step - loss: 0.4939 - tp: 1311.0000 - fp: 1440.0000 - tn: 129766.0000 - fn: 39490.0000 - accuracy: 0.7620 - precision: 0.4766 - recall: 0.0321 - auc: 0.7109 - prc: 0.3888 - val_loss: 0.4844 - val_tp: 0.0000e+00 - val_fp: 1.0000 - val_tn: 56230.0000 - val_fn: 17487.0000 - val_accuracy: 0.7628 - val_precision: 0.0000e+00 - val_recall: 0.0000e+00 - val_auc: 0.7367 - val_prc: 0.4145\n",
            "Epoch 95/200\n",
            "5376/5376 [==============================] - 13s 2ms/step - loss: 0.4936 - tp: 1342.0000 - fp: 1366.0000 - tn: 129840.0000 - fn: 39459.0000 - accuracy: 0.7627 - precision: 0.4956 - recall: 0.0329 - auc: 0.7116 - prc: 0.3902 - val_loss: 0.4849 - val_tp: 0.0000e+00 - val_fp: 0.0000e+00 - val_tn: 56231.0000 - val_fn: 17487.0000 - val_accuracy: 0.7628 - val_precision: 0.0000e+00 - val_recall: 0.0000e+00 - val_auc: 0.7372 - val_prc: 0.4169\n",
            "Epoch 96/200\n",
            "5376/5376 [==============================] - 13s 2ms/step - loss: 0.4935 - tp: 1269.0000 - fp: 1303.0000 - tn: 129903.0000 - fn: 39532.0000 - accuracy: 0.7626 - precision: 0.4934 - recall: 0.0311 - auc: 0.7111 - prc: 0.3887 - val_loss: 0.4834 - val_tp: 0.0000e+00 - val_fp: 0.0000e+00 - val_tn: 56231.0000 - val_fn: 17487.0000 - val_accuracy: 0.7628 - val_precision: 0.0000e+00 - val_recall: 0.0000e+00 - val_auc: 0.7357 - val_prc: 0.4143\n",
            "Epoch 97/200\n",
            "5376/5376 [==============================] - 13s 2ms/step - loss: 0.4936 - tp: 1302.0000 - fp: 1312.0000 - tn: 129894.0000 - fn: 39499.0000 - accuracy: 0.7627 - precision: 0.4981 - recall: 0.0319 - auc: 0.7116 - prc: 0.3902 - val_loss: 0.4823 - val_tp: 3.0000 - val_fp: 1.0000 - val_tn: 56230.0000 - val_fn: 17484.0000 - val_accuracy: 0.7628 - val_precision: 0.7500 - val_recall: 1.7156e-04 - val_auc: 0.7354 - val_prc: 0.4145\n",
            "Epoch 98/200\n",
            "5376/5376 [==============================] - 13s 2ms/step - loss: 0.4941 - tp: 1199.0000 - fp: 1229.0000 - tn: 129977.0000 - fn: 39602.0000 - accuracy: 0.7626 - precision: 0.4938 - recall: 0.0294 - auc: 0.7100 - prc: 0.3878 - val_loss: 0.4838 - val_tp: 0.0000e+00 - val_fp: 1.0000 - val_tn: 56230.0000 - val_fn: 17487.0000 - val_accuracy: 0.7628 - val_precision: 0.0000e+00 - val_recall: 0.0000e+00 - val_auc: 0.7366 - val_prc: 0.4147\n",
            "Epoch 99/200\n",
            "5376/5376 [==============================] - 13s 2ms/step - loss: 0.4941 - tp: 1296.0000 - fp: 1366.0000 - tn: 129840.0000 - fn: 39505.0000 - accuracy: 0.7624 - precision: 0.4869 - recall: 0.0318 - auc: 0.7115 - prc: 0.3893 - val_loss: 0.4836 - val_tp: 0.0000e+00 - val_fp: 0.0000e+00 - val_tn: 56231.0000 - val_fn: 17487.0000 - val_accuracy: 0.7628 - val_precision: 0.0000e+00 - val_recall: 0.0000e+00 - val_auc: 0.7363 - val_prc: 0.4149\n",
            "Epoch 100/200\n",
            "5376/5376 [==============================] - 13s 2ms/step - loss: 0.4935 - tp: 1403.0000 - fp: 1449.0000 - tn: 129757.0000 - fn: 39398.0000 - accuracy: 0.7625 - precision: 0.4919 - recall: 0.0344 - auc: 0.7116 - prc: 0.3910 - val_loss: 0.4827 - val_tp: 0.0000e+00 - val_fp: 0.0000e+00 - val_tn: 56231.0000 - val_fn: 17487.0000 - val_accuracy: 0.7628 - val_precision: 0.0000e+00 - val_recall: 0.0000e+00 - val_auc: 0.7365 - val_prc: 0.4156\n",
            "Epoch 101/200\n",
            "5376/5376 [==============================] - 13s 2ms/step - loss: 0.4941 - tp: 1236.0000 - fp: 1333.0000 - tn: 129873.0000 - fn: 39565.0000 - accuracy: 0.7622 - precision: 0.4811 - recall: 0.0303 - auc: 0.7109 - prc: 0.3884 - val_loss: 0.4837 - val_tp: 0.0000e+00 - val_fp: 0.0000e+00 - val_tn: 56231.0000 - val_fn: 17487.0000 - val_accuracy: 0.7628 - val_precision: 0.0000e+00 - val_recall: 0.0000e+00 - val_auc: 0.7364 - val_prc: 0.4141\n",
            "Epoch 102/200\n",
            "5376/5376 [==============================] - 13s 2ms/step - loss: 0.4939 - tp: 1267.0000 - fp: 1340.0000 - tn: 129866.0000 - fn: 39534.0000 - accuracy: 0.7624 - precision: 0.4860 - recall: 0.0311 - auc: 0.7106 - prc: 0.3884 - val_loss: 0.4842 - val_tp: 0.0000e+00 - val_fp: 0.0000e+00 - val_tn: 56231.0000 - val_fn: 17487.0000 - val_accuracy: 0.7628 - val_precision: 0.0000e+00 - val_recall: 0.0000e+00 - val_auc: 0.7363 - val_prc: 0.4142\n",
            "Epoch 103/200\n",
            "5376/5376 [==============================] - 13s 2ms/step - loss: 0.4937 - tp: 1023.0000 - fp: 1053.0000 - tn: 130153.0000 - fn: 39778.0000 - accuracy: 0.7626 - precision: 0.4928 - recall: 0.0251 - auc: 0.7110 - prc: 0.3870 - val_loss: 0.4830 - val_tp: 0.0000e+00 - val_fp: 0.0000e+00 - val_tn: 56231.0000 - val_fn: 17487.0000 - val_accuracy: 0.7628 - val_precision: 0.0000e+00 - val_recall: 0.0000e+00 - val_auc: 0.7357 - val_prc: 0.4143\n",
            "Epoch 104/200\n",
            "5376/5376 [==============================] - 13s 2ms/step - loss: 0.4934 - tp: 1700.0000 - fp: 1746.0000 - tn: 129460.0000 - fn: 39101.0000 - accuracy: 0.7625 - precision: 0.4933 - recall: 0.0417 - auc: 0.7130 - prc: 0.3939 - val_loss: 0.4834 - val_tp: 0.0000e+00 - val_fp: 0.0000e+00 - val_tn: 56231.0000 - val_fn: 17487.0000 - val_accuracy: 0.7628 - val_precision: 0.0000e+00 - val_recall: 0.0000e+00 - val_auc: 0.7348 - val_prc: 0.4129\n",
            "Epoch 105/200\n",
            "5376/5376 [==============================] - 13s 2ms/step - loss: 0.4941 - tp: 1202.0000 - fp: 1321.0000 - tn: 129885.0000 - fn: 39599.0000 - accuracy: 0.7621 - precision: 0.4764 - recall: 0.0295 - auc: 0.7108 - prc: 0.3879 - val_loss: 0.4839 - val_tp: 0.0000e+00 - val_fp: 0.0000e+00 - val_tn: 56231.0000 - val_fn: 17487.0000 - val_accuracy: 0.7628 - val_precision: 0.0000e+00 - val_recall: 0.0000e+00 - val_auc: 0.7372 - val_prc: 0.4155\n",
            "Epoch 106/200\n",
            "5376/5376 [==============================] - 13s 2ms/step - loss: 0.4938 - tp: 1438.0000 - fp: 1476.0000 - tn: 129730.0000 - fn: 39363.0000 - accuracy: 0.7626 - precision: 0.4935 - recall: 0.0352 - auc: 0.7119 - prc: 0.3916 - val_loss: 0.4832 - val_tp: 0.0000e+00 - val_fp: 0.0000e+00 - val_tn: 56231.0000 - val_fn: 17487.0000 - val_accuracy: 0.7628 - val_precision: 0.0000e+00 - val_recall: 0.0000e+00 - val_auc: 0.7366 - val_prc: 0.4152\n",
            "Epoch 107/200\n",
            "5376/5376 [==============================] - 13s 2ms/step - loss: 0.4939 - tp: 1216.0000 - fp: 1271.0000 - tn: 129935.0000 - fn: 39585.0000 - accuracy: 0.7625 - precision: 0.4889 - recall: 0.0298 - auc: 0.7107 - prc: 0.3886 - val_loss: 0.4831 - val_tp: 0.0000e+00 - val_fp: 0.0000e+00 - val_tn: 56231.0000 - val_fn: 17487.0000 - val_accuracy: 0.7628 - val_precision: 0.0000e+00 - val_recall: 0.0000e+00 - val_auc: 0.7356 - val_prc: 0.4141\n",
            "Epoch 108/200\n",
            "5376/5376 [==============================] - 13s 2ms/step - loss: 0.4940 - tp: 1342.0000 - fp: 1392.0000 - tn: 129814.0000 - fn: 39459.0000 - accuracy: 0.7625 - precision: 0.4909 - recall: 0.0329 - auc: 0.7113 - prc: 0.3899 - val_loss: 0.4845 - val_tp: 0.0000e+00 - val_fp: 0.0000e+00 - val_tn: 56231.0000 - val_fn: 17487.0000 - val_accuracy: 0.7628 - val_precision: 0.0000e+00 - val_recall: 0.0000e+00 - val_auc: 0.7368 - val_prc: 0.4151\n",
            "Epoch 109/200\n",
            "5376/5376 [==============================] - 13s 2ms/step - loss: 0.4939 - tp: 1317.0000 - fp: 1347.0000 - tn: 129859.0000 - fn: 39484.0000 - accuracy: 0.7626 - precision: 0.4944 - recall: 0.0323 - auc: 0.7113 - prc: 0.3907 - val_loss: 0.4827 - val_tp: 2.0000 - val_fp: 0.0000e+00 - val_tn: 56231.0000 - val_fn: 17485.0000 - val_accuracy: 0.7628 - val_precision: 1.0000 - val_recall: 1.1437e-04 - val_auc: 0.7365 - val_prc: 0.4150\n",
            "Epoch 110/200\n",
            "5376/5376 [==============================] - 13s 2ms/step - loss: 0.4942 - tp: 1340.0000 - fp: 1344.0000 - tn: 129862.0000 - fn: 39461.0000 - accuracy: 0.7628 - precision: 0.4993 - recall: 0.0328 - auc: 0.7109 - prc: 0.3891 - val_loss: 0.4837 - val_tp: 0.0000e+00 - val_fp: 0.0000e+00 - val_tn: 56231.0000 - val_fn: 17487.0000 - val_accuracy: 0.7628 - val_precision: 0.0000e+00 - val_recall: 0.0000e+00 - val_auc: 0.7376 - val_prc: 0.4165\n",
            "Epoch 111/200\n",
            "5376/5376 [==============================] - 13s 2ms/step - loss: 0.4944 - tp: 1182.0000 - fp: 1240.0000 - tn: 129966.0000 - fn: 39619.0000 - accuracy: 0.7625 - precision: 0.4880 - recall: 0.0290 - auc: 0.7109 - prc: 0.3879 - val_loss: 0.4848 - val_tp: 0.0000e+00 - val_fp: 0.0000e+00 - val_tn: 56231.0000 - val_fn: 17487.0000 - val_accuracy: 0.7628 - val_precision: 0.0000e+00 - val_recall: 0.0000e+00 - val_auc: 0.7354 - val_prc: 0.4135\n",
            "Epoch 112/200\n",
            "5376/5376 [==============================] - 13s 2ms/step - loss: 0.4935 - tp: 1312.0000 - fp: 1384.0000 - tn: 129822.0000 - fn: 39489.0000 - accuracy: 0.7624 - precision: 0.4866 - recall: 0.0322 - auc: 0.7123 - prc: 0.3906 - val_loss: 0.4823 - val_tp: 3.0000 - val_fp: 0.0000e+00 - val_tn: 56231.0000 - val_fn: 17484.0000 - val_accuracy: 0.7628 - val_precision: 1.0000 - val_recall: 1.7156e-04 - val_auc: 0.7352 - val_prc: 0.4143\n",
            "Epoch 113/200\n",
            "5376/5376 [==============================] - 13s 2ms/step - loss: 0.4942 - tp: 1173.0000 - fp: 1244.0000 - tn: 129962.0000 - fn: 39628.0000 - accuracy: 0.7624 - precision: 0.4853 - recall: 0.0287 - auc: 0.7104 - prc: 0.3879 - val_loss: 0.4834 - val_tp: 0.0000e+00 - val_fp: 0.0000e+00 - val_tn: 56231.0000 - val_fn: 17487.0000 - val_accuracy: 0.7628 - val_precision: 0.0000e+00 - val_recall: 0.0000e+00 - val_auc: 0.7364 - val_prc: 0.4151\n",
            "Epoch 114/200\n",
            "5376/5376 [==============================] - 13s 2ms/step - loss: 0.4936 - tp: 1484.0000 - fp: 1569.0000 - tn: 129637.0000 - fn: 39317.0000 - accuracy: 0.7623 - precision: 0.4861 - recall: 0.0364 - auc: 0.7119 - prc: 0.3915 - val_loss: 0.4831 - val_tp: 0.0000e+00 - val_fp: 0.0000e+00 - val_tn: 56231.0000 - val_fn: 17487.0000 - val_accuracy: 0.7628 - val_precision: 0.0000e+00 - val_recall: 0.0000e+00 - val_auc: 0.7363 - val_prc: 0.4148\n",
            "Epoch 115/200\n",
            "5376/5376 [==============================] - 13s 2ms/step - loss: 0.4935 - tp: 1369.0000 - fp: 1428.0000 - tn: 129778.0000 - fn: 39432.0000 - accuracy: 0.7625 - precision: 0.4895 - recall: 0.0336 - auc: 0.7112 - prc: 0.3906 - val_loss: 0.4830 - val_tp: 0.0000e+00 - val_fp: 0.0000e+00 - val_tn: 56231.0000 - val_fn: 17487.0000 - val_accuracy: 0.7628 - val_precision: 0.0000e+00 - val_recall: 0.0000e+00 - val_auc: 0.7369 - val_prc: 0.4149\n",
            "Epoch 116/200\n",
            "5376/5376 [==============================] - 13s 2ms/step - loss: 0.4936 - tp: 1429.0000 - fp: 1490.0000 - tn: 129716.0000 - fn: 39372.0000 - accuracy: 0.7624 - precision: 0.4896 - recall: 0.0350 - auc: 0.7120 - prc: 0.3912 - val_loss: 0.4825 - val_tp: 0.0000e+00 - val_fp: 1.0000 - val_tn: 56230.0000 - val_fn: 17487.0000 - val_accuracy: 0.7628 - val_precision: 0.0000e+00 - val_recall: 0.0000e+00 - val_auc: 0.7364 - val_prc: 0.4156\n",
            "Epoch 117/200\n",
            "5376/5376 [==============================] - 13s 2ms/step - loss: 0.4934 - tp: 1370.0000 - fp: 1465.0000 - tn: 129741.0000 - fn: 39431.0000 - accuracy: 0.7622 - precision: 0.4832 - recall: 0.0336 - auc: 0.7123 - prc: 0.3908 - val_loss: 0.4820 - val_tp: 3.0000 - val_fp: 0.0000e+00 - val_tn: 56231.0000 - val_fn: 17484.0000 - val_accuracy: 0.7628 - val_precision: 1.0000 - val_recall: 1.7156e-04 - val_auc: 0.7365 - val_prc: 0.4153\n",
            "Epoch 118/200\n",
            "5376/5376 [==============================] - 13s 2ms/step - loss: 0.4936 - tp: 1394.0000 - fp: 1530.0000 - tn: 129676.0000 - fn: 39407.0000 - accuracy: 0.7620 - precision: 0.4767 - recall: 0.0342 - auc: 0.7118 - prc: 0.3892 - val_loss: 0.4831 - val_tp: 0.0000e+00 - val_fp: 0.0000e+00 - val_tn: 56231.0000 - val_fn: 17487.0000 - val_accuracy: 0.7628 - val_precision: 0.0000e+00 - val_recall: 0.0000e+00 - val_auc: 0.7351 - val_prc: 0.4129\n",
            "Epoch 119/200\n",
            "5376/5376 [==============================] - 13s 2ms/step - loss: 0.4937 - tp: 1308.0000 - fp: 1347.0000 - tn: 129859.0000 - fn: 39493.0000 - accuracy: 0.7626 - precision: 0.4927 - recall: 0.0321 - auc: 0.7124 - prc: 0.3903 - val_loss: 0.4827 - val_tp: 0.0000e+00 - val_fp: 0.0000e+00 - val_tn: 56231.0000 - val_fn: 17487.0000 - val_accuracy: 0.7628 - val_precision: 0.0000e+00 - val_recall: 0.0000e+00 - val_auc: 0.7368 - val_prc: 0.4151\n",
            "Epoch 120/200\n",
            "5376/5376 [==============================] - 13s 3ms/step - loss: 0.4939 - tp: 1157.0000 - fp: 1248.0000 - tn: 129958.0000 - fn: 39644.0000 - accuracy: 0.7623 - precision: 0.4811 - recall: 0.0284 - auc: 0.7104 - prc: 0.3872 - val_loss: 0.4838 - val_tp: 0.0000e+00 - val_fp: 0.0000e+00 - val_tn: 56231.0000 - val_fn: 17487.0000 - val_accuracy: 0.7628 - val_precision: 0.0000e+00 - val_recall: 0.0000e+00 - val_auc: 0.7355 - val_prc: 0.4136\n",
            "Epoch 121/200\n",
            "5376/5376 [==============================] - 13s 2ms/step - loss: 0.4934 - tp: 1450.0000 - fp: 1463.0000 - tn: 129743.0000 - fn: 39351.0000 - accuracy: 0.7627 - precision: 0.4978 - recall: 0.0355 - auc: 0.7118 - prc: 0.3906 - val_loss: 0.4853 - val_tp: 0.0000e+00 - val_fp: 0.0000e+00 - val_tn: 56231.0000 - val_fn: 17487.0000 - val_accuracy: 0.7628 - val_precision: 0.0000e+00 - val_recall: 0.0000e+00 - val_auc: 0.7369 - val_prc: 0.4151\n",
            "Epoch 122/200\n",
            "5376/5376 [==============================] - 14s 3ms/step - loss: 0.4941 - tp: 1309.0000 - fp: 1377.0000 - tn: 129829.0000 - fn: 39492.0000 - accuracy: 0.7624 - precision: 0.4873 - recall: 0.0321 - auc: 0.7111 - prc: 0.3896 - val_loss: 0.4836 - val_tp: 0.0000e+00 - val_fp: 0.0000e+00 - val_tn: 56231.0000 - val_fn: 17487.0000 - val_accuracy: 0.7628 - val_precision: 0.0000e+00 - val_recall: 0.0000e+00 - val_auc: 0.7360 - val_prc: 0.4149\n",
            "Epoch 123/200\n",
            "5376/5376 [==============================] - 14s 3ms/step - loss: 0.4940 - tp: 1281.0000 - fp: 1373.0000 - tn: 129833.0000 - fn: 39520.0000 - accuracy: 0.7623 - precision: 0.4827 - recall: 0.0314 - auc: 0.7117 - prc: 0.3899 - val_loss: 0.4824 - val_tp: 1.0000 - val_fp: 4.0000 - val_tn: 56227.0000 - val_fn: 17486.0000 - val_accuracy: 0.7627 - val_precision: 0.2000 - val_recall: 5.7185e-05 - val_auc: 0.7359 - val_prc: 0.4148\n",
            "Epoch 124/200\n",
            "5376/5376 [==============================] - 14s 3ms/step - loss: 0.4940 - tp: 1324.0000 - fp: 1370.0000 - tn: 129836.0000 - fn: 39477.0000 - accuracy: 0.7625 - precision: 0.4915 - recall: 0.0325 - auc: 0.7111 - prc: 0.3889 - val_loss: 0.4834 - val_tp: 0.0000e+00 - val_fp: 1.0000 - val_tn: 56230.0000 - val_fn: 17487.0000 - val_accuracy: 0.7628 - val_precision: 0.0000e+00 - val_recall: 0.0000e+00 - val_auc: 0.7364 - val_prc: 0.4143\n",
            "Epoch 125/200\n",
            "5376/5376 [==============================] - 14s 3ms/step - loss: 0.4933 - tp: 1231.0000 - fp: 1256.0000 - tn: 129950.0000 - fn: 39570.0000 - accuracy: 0.7626 - precision: 0.4950 - recall: 0.0302 - auc: 0.7116 - prc: 0.3892 - val_loss: 0.4819 - val_tp: 9.0000 - val_fp: 1.0000 - val_tn: 56230.0000 - val_fn: 17478.0000 - val_accuracy: 0.7629 - val_precision: 0.9000 - val_recall: 5.1467e-04 - val_auc: 0.7360 - val_prc: 0.4149\n",
            "Epoch 126/200\n",
            "5376/5376 [==============================] - 14s 3ms/step - loss: 0.4940 - tp: 1225.0000 - fp: 1240.0000 - tn: 129966.0000 - fn: 39576.0000 - accuracy: 0.7627 - precision: 0.4970 - recall: 0.0300 - auc: 0.7106 - prc: 0.3882 - val_loss: 0.4830 - val_tp: 0.0000e+00 - val_fp: 0.0000e+00 - val_tn: 56231.0000 - val_fn: 17487.0000 - val_accuracy: 0.7628 - val_precision: 0.0000e+00 - val_recall: 0.0000e+00 - val_auc: 0.7351 - val_prc: 0.4141\n",
            "Epoch 127/200\n",
            "5376/5376 [==============================] - 14s 3ms/step - loss: 0.4938 - tp: 1272.0000 - fp: 1343.0000 - tn: 129863.0000 - fn: 39529.0000 - accuracy: 0.7624 - precision: 0.4864 - recall: 0.0312 - auc: 0.7113 - prc: 0.3892 - val_loss: 0.4828 - val_tp: 0.0000e+00 - val_fp: 0.0000e+00 - val_tn: 56231.0000 - val_fn: 17487.0000 - val_accuracy: 0.7628 - val_precision: 0.0000e+00 - val_recall: 0.0000e+00 - val_auc: 0.7355 - val_prc: 0.4138\n",
            "Epoch 128/200\n",
            "5376/5376 [==============================] - 14s 3ms/step - loss: 0.4942 - tp: 1225.0000 - fp: 1360.0000 - tn: 129846.0000 - fn: 39576.0000 - accuracy: 0.7620 - precision: 0.4739 - recall: 0.0300 - auc: 0.7104 - prc: 0.3883 - val_loss: 0.4840 - val_tp: 0.0000e+00 - val_fp: 0.0000e+00 - val_tn: 56231.0000 - val_fn: 17487.0000 - val_accuracy: 0.7628 - val_precision: 0.0000e+00 - val_recall: 0.0000e+00 - val_auc: 0.7374 - val_prc: 0.4156\n",
            "Epoch 129/200\n",
            "5376/5376 [==============================] - 14s 3ms/step - loss: 0.4936 - tp: 1365.0000 - fp: 1365.0000 - tn: 129841.0000 - fn: 39436.0000 - accuracy: 0.7628 - precision: 0.5000 - recall: 0.0335 - auc: 0.7116 - prc: 0.3905 - val_loss: 0.4843 - val_tp: 0.0000e+00 - val_fp: 0.0000e+00 - val_tn: 56231.0000 - val_fn: 17487.0000 - val_accuracy: 0.7628 - val_precision: 0.0000e+00 - val_recall: 0.0000e+00 - val_auc: 0.7372 - val_prc: 0.4158\n",
            "Epoch 130/200\n",
            "5376/5376 [==============================] - 13s 2ms/step - loss: 0.4937 - tp: 1346.0000 - fp: 1440.0000 - tn: 129766.0000 - fn: 39455.0000 - accuracy: 0.7622 - precision: 0.4831 - recall: 0.0330 - auc: 0.7115 - prc: 0.3896 - val_loss: 0.4825 - val_tp: 0.0000e+00 - val_fp: 0.0000e+00 - val_tn: 56231.0000 - val_fn: 17487.0000 - val_accuracy: 0.7628 - val_precision: 0.0000e+00 - val_recall: 0.0000e+00 - val_auc: 0.7361 - val_prc: 0.4150\n",
            "Epoch 131/200\n",
            "5376/5376 [==============================] - 13s 3ms/step - loss: 0.4934 - tp: 1513.0000 - fp: 1618.0000 - tn: 129588.0000 - fn: 39288.0000 - accuracy: 0.7622 - precision: 0.4832 - recall: 0.0371 - auc: 0.7129 - prc: 0.3921 - val_loss: 0.4847 - val_tp: 0.0000e+00 - val_fp: 0.0000e+00 - val_tn: 56231.0000 - val_fn: 17487.0000 - val_accuracy: 0.7628 - val_precision: 0.0000e+00 - val_recall: 0.0000e+00 - val_auc: 0.7356 - val_prc: 0.4136\n",
            "Epoch 132/200\n",
            "5376/5376 [==============================] - 14s 3ms/step - loss: 0.4944 - tp: 1232.0000 - fp: 1323.0000 - tn: 129883.0000 - fn: 39569.0000 - accuracy: 0.7623 - precision: 0.4822 - recall: 0.0302 - auc: 0.7107 - prc: 0.3895 - val_loss: 0.4833 - val_tp: 0.0000e+00 - val_fp: 0.0000e+00 - val_tn: 56231.0000 - val_fn: 17487.0000 - val_accuracy: 0.7628 - val_precision: 0.0000e+00 - val_recall: 0.0000e+00 - val_auc: 0.7367 - val_prc: 0.4157\n",
            "Epoch 133/200\n",
            "5376/5376 [==============================] - 14s 3ms/step - loss: 0.4940 - tp: 1327.0000 - fp: 1411.0000 - tn: 129795.0000 - fn: 39474.0000 - accuracy: 0.7623 - precision: 0.4847 - recall: 0.0325 - auc: 0.7110 - prc: 0.3890 - val_loss: 0.4828 - val_tp: 0.0000e+00 - val_fp: 0.0000e+00 - val_tn: 56231.0000 - val_fn: 17487.0000 - val_accuracy: 0.7628 - val_precision: 0.0000e+00 - val_recall: 0.0000e+00 - val_auc: 0.7364 - val_prc: 0.4153\n",
            "Epoch 134/200\n",
            "5376/5376 [==============================] - 14s 3ms/step - loss: 0.4938 - tp: 1247.0000 - fp: 1289.0000 - tn: 129917.0000 - fn: 39554.0000 - accuracy: 0.7626 - precision: 0.4917 - recall: 0.0306 - auc: 0.7112 - prc: 0.3894 - val_loss: 0.4827 - val_tp: 4.0000 - val_fp: 0.0000e+00 - val_tn: 56231.0000 - val_fn: 17483.0000 - val_accuracy: 0.7628 - val_precision: 1.0000 - val_recall: 2.2874e-04 - val_auc: 0.7349 - val_prc: 0.4145\n",
            "Epoch 135/200\n",
            "5376/5376 [==============================] - 14s 3ms/step - loss: 0.4935 - tp: 1634.0000 - fp: 1733.0000 - tn: 129473.0000 - fn: 39167.0000 - accuracy: 0.7622 - precision: 0.4853 - recall: 0.0400 - auc: 0.7122 - prc: 0.3919 - val_loss: 0.4827 - val_tp: 0.0000e+00 - val_fp: 0.0000e+00 - val_tn: 56231.0000 - val_fn: 17487.0000 - val_accuracy: 0.7628 - val_precision: 0.0000e+00 - val_recall: 0.0000e+00 - val_auc: 0.7356 - val_prc: 0.4143\n",
            "Epoch 136/200\n",
            "5376/5376 [==============================] - 14s 3ms/step - loss: 0.4935 - tp: 1473.0000 - fp: 1499.0000 - tn: 129707.0000 - fn: 39328.0000 - accuracy: 0.7626 - precision: 0.4956 - recall: 0.0361 - auc: 0.7122 - prc: 0.3929 - val_loss: 0.4827 - val_tp: 1.0000 - val_fp: 0.0000e+00 - val_tn: 56231.0000 - val_fn: 17486.0000 - val_accuracy: 0.7628 - val_precision: 1.0000 - val_recall: 5.7185e-05 - val_auc: 0.7364 - val_prc: 0.4151\n",
            "Epoch 137/200\n",
            "5376/5376 [==============================] - 14s 3ms/step - loss: 0.4936 - tp: 1353.0000 - fp: 1439.0000 - tn: 129767.0000 - fn: 39448.0000 - accuracy: 0.7623 - precision: 0.4846 - recall: 0.0332 - auc: 0.7120 - prc: 0.3895 - val_loss: 0.4824 - val_tp: 2.0000 - val_fp: 0.0000e+00 - val_tn: 56231.0000 - val_fn: 17485.0000 - val_accuracy: 0.7628 - val_precision: 1.0000 - val_recall: 1.1437e-04 - val_auc: 0.7365 - val_prc: 0.4150\n",
            "Epoch 138/200\n",
            "5376/5376 [==============================] - 14s 3ms/step - loss: 0.4936 - tp: 1383.0000 - fp: 1502.0000 - tn: 129704.0000 - fn: 39418.0000 - accuracy: 0.7621 - precision: 0.4794 - recall: 0.0339 - auc: 0.7116 - prc: 0.3901 - val_loss: 0.4839 - val_tp: 0.0000e+00 - val_fp: 0.0000e+00 - val_tn: 56231.0000 - val_fn: 17487.0000 - val_accuracy: 0.7628 - val_precision: 0.0000e+00 - val_recall: 0.0000e+00 - val_auc: 0.7352 - val_prc: 0.4128\n",
            "Epoch 139/200\n",
            "5376/5376 [==============================] - 14s 3ms/step - loss: 0.4935 - tp: 1379.0000 - fp: 1511.0000 - tn: 129695.0000 - fn: 39422.0000 - accuracy: 0.7620 - precision: 0.4772 - recall: 0.0338 - auc: 0.7120 - prc: 0.3905 - val_loss: 0.4830 - val_tp: 0.0000e+00 - val_fp: 1.0000 - val_tn: 56230.0000 - val_fn: 17487.0000 - val_accuracy: 0.7628 - val_precision: 0.0000e+00 - val_recall: 0.0000e+00 - val_auc: 0.7355 - val_prc: 0.4135\n",
            "Epoch 140/200\n",
            "5376/5376 [==============================] - 14s 3ms/step - loss: 0.4936 - tp: 1332.0000 - fp: 1415.0000 - tn: 129791.0000 - fn: 39469.0000 - accuracy: 0.7623 - precision: 0.4849 - recall: 0.0326 - auc: 0.7108 - prc: 0.3890 - val_loss: 0.4841 - val_tp: 0.0000e+00 - val_fp: 0.0000e+00 - val_tn: 56231.0000 - val_fn: 17487.0000 - val_accuracy: 0.7628 - val_precision: 0.0000e+00 - val_recall: 0.0000e+00 - val_auc: 0.7361 - val_prc: 0.4141\n",
            "Epoch 141/200\n",
            "5376/5376 [==============================] - 14s 3ms/step - loss: 0.4937 - tp: 1280.0000 - fp: 1393.0000 - tn: 129813.0000 - fn: 39521.0000 - accuracy: 0.7621 - precision: 0.4789 - recall: 0.0314 - auc: 0.7121 - prc: 0.3896 - val_loss: 0.4824 - val_tp: 1.0000 - val_fp: 0.0000e+00 - val_tn: 56231.0000 - val_fn: 17486.0000 - val_accuracy: 0.7628 - val_precision: 1.0000 - val_recall: 5.7185e-05 - val_auc: 0.7353 - val_prc: 0.4143\n",
            "Epoch 142/200\n",
            "5376/5376 [==============================] - 14s 3ms/step - loss: 0.4933 - tp: 1422.0000 - fp: 1465.0000 - tn: 129741.0000 - fn: 39379.0000 - accuracy: 0.7625 - precision: 0.4926 - recall: 0.0349 - auc: 0.7120 - prc: 0.3910 - val_loss: 0.4831 - val_tp: 7.0000 - val_fp: 0.0000e+00 - val_tn: 56231.0000 - val_fn: 17480.0000 - val_accuracy: 0.7629 - val_precision: 1.0000 - val_recall: 4.0030e-04 - val_auc: 0.7369 - val_prc: 0.4153\n",
            "Epoch 143/200\n",
            "5376/5376 [==============================] - 14s 3ms/step - loss: 0.4943 - tp: 1101.0000 - fp: 1200.0000 - tn: 130006.0000 - fn: 39700.0000 - accuracy: 0.7622 - precision: 0.4785 - recall: 0.0270 - auc: 0.7109 - prc: 0.3874 - val_loss: 0.4835 - val_tp: 0.0000e+00 - val_fp: 0.0000e+00 - val_tn: 56231.0000 - val_fn: 17487.0000 - val_accuracy: 0.7628 - val_precision: 0.0000e+00 - val_recall: 0.0000e+00 - val_auc: 0.7350 - val_prc: 0.4134\n",
            "Epoch 144/200\n",
            "5376/5376 [==============================] - 14s 3ms/step - loss: 0.4939 - tp: 1282.0000 - fp: 1423.0000 - tn: 129783.0000 - fn: 39519.0000 - accuracy: 0.7620 - precision: 0.4739 - recall: 0.0314 - auc: 0.7109 - prc: 0.3890 - val_loss: 0.4845 - val_tp: 0.0000e+00 - val_fp: 1.0000 - val_tn: 56230.0000 - val_fn: 17487.0000 - val_accuracy: 0.7628 - val_precision: 0.0000e+00 - val_recall: 0.0000e+00 - val_auc: 0.7374 - val_prc: 0.4151\n",
            "Epoch 145/200\n",
            "5376/5376 [==============================] - 14s 3ms/step - loss: 0.4936 - tp: 1400.0000 - fp: 1429.0000 - tn: 129777.0000 - fn: 39401.0000 - accuracy: 0.7626 - precision: 0.4949 - recall: 0.0343 - auc: 0.7112 - prc: 0.3909 - val_loss: 0.4840 - val_tp: 0.0000e+00 - val_fp: 0.0000e+00 - val_tn: 56231.0000 - val_fn: 17487.0000 - val_accuracy: 0.7628 - val_precision: 0.0000e+00 - val_recall: 0.0000e+00 - val_auc: 0.7357 - val_prc: 0.4137\n",
            "Epoch 146/200\n",
            "5376/5376 [==============================] - 14s 3ms/step - loss: 0.4938 - tp: 1350.0000 - fp: 1373.0000 - tn: 129833.0000 - fn: 39451.0000 - accuracy: 0.7627 - precision: 0.4958 - recall: 0.0331 - auc: 0.7116 - prc: 0.3902 - val_loss: 0.4828 - val_tp: 0.0000e+00 - val_fp: 1.0000 - val_tn: 56230.0000 - val_fn: 17487.0000 - val_accuracy: 0.7628 - val_precision: 0.0000e+00 - val_recall: 0.0000e+00 - val_auc: 0.7371 - val_prc: 0.4155\n",
            "Epoch 147/200\n",
            "5376/5376 [==============================] - 14s 3ms/step - loss: 0.4937 - tp: 1274.0000 - fp: 1397.0000 - tn: 129809.0000 - fn: 39527.0000 - accuracy: 0.7621 - precision: 0.4770 - recall: 0.0312 - auc: 0.7108 - prc: 0.3889 - val_loss: 0.4826 - val_tp: 0.0000e+00 - val_fp: 0.0000e+00 - val_tn: 56231.0000 - val_fn: 17487.0000 - val_accuracy: 0.7628 - val_precision: 0.0000e+00 - val_recall: 0.0000e+00 - val_auc: 0.7360 - val_prc: 0.4148\n",
            "Epoch 148/200\n",
            "5376/5376 [==============================] - 14s 3ms/step - loss: 0.4947 - tp: 1212.0000 - fp: 1268.0000 - tn: 129938.0000 - fn: 39589.0000 - accuracy: 0.7625 - precision: 0.4887 - recall: 0.0297 - auc: 0.7095 - prc: 0.3878 - val_loss: 0.4830 - val_tp: 1.0000 - val_fp: 0.0000e+00 - val_tn: 56231.0000 - val_fn: 17486.0000 - val_accuracy: 0.7628 - val_precision: 1.0000 - val_recall: 5.7185e-05 - val_auc: 0.7374 - val_prc: 0.4161\n",
            "Epoch 149/200\n",
            "5376/5376 [==============================] - 14s 3ms/step - loss: 0.4948 - tp: 1367.0000 - fp: 1422.0000 - tn: 129784.0000 - fn: 39434.0000 - accuracy: 0.7625 - precision: 0.4901 - recall: 0.0335 - auc: 0.7104 - prc: 0.3894 - val_loss: 0.4834 - val_tp: 0.0000e+00 - val_fp: 0.0000e+00 - val_tn: 56231.0000 - val_fn: 17487.0000 - val_accuracy: 0.7628 - val_precision: 0.0000e+00 - val_recall: 0.0000e+00 - val_auc: 0.7359 - val_prc: 0.4143\n",
            "Epoch 150/200\n",
            "5376/5376 [==============================] - 14s 3ms/step - loss: 0.4938 - tp: 1316.0000 - fp: 1449.0000 - tn: 129757.0000 - fn: 39485.0000 - accuracy: 0.7620 - precision: 0.4759 - recall: 0.0323 - auc: 0.7114 - prc: 0.3894 - val_loss: 0.4836 - val_tp: 0.0000e+00 - val_fp: 0.0000e+00 - val_tn: 56231.0000 - val_fn: 17487.0000 - val_accuracy: 0.7628 - val_precision: 0.0000e+00 - val_recall: 0.0000e+00 - val_auc: 0.7363 - val_prc: 0.4145\n",
            "Epoch 151/200\n",
            "5376/5376 [==============================] - 14s 3ms/step - loss: 0.4937 - tp: 1306.0000 - fp: 1395.0000 - tn: 129811.0000 - fn: 39495.0000 - accuracy: 0.7623 - precision: 0.4835 - recall: 0.0320 - auc: 0.7124 - prc: 0.3899 - val_loss: 0.4834 - val_tp: 0.0000e+00 - val_fp: 0.0000e+00 - val_tn: 56231.0000 - val_fn: 17487.0000 - val_accuracy: 0.7628 - val_precision: 0.0000e+00 - val_recall: 0.0000e+00 - val_auc: 0.7347 - val_prc: 0.4135\n",
            "Epoch 152/200\n",
            "5376/5376 [==============================] - 14s 3ms/step - loss: 0.4938 - tp: 1382.0000 - fp: 1485.0000 - tn: 129721.0000 - fn: 39419.0000 - accuracy: 0.7622 - precision: 0.4820 - recall: 0.0339 - auc: 0.7110 - prc: 0.3896 - val_loss: 0.4828 - val_tp: 1.0000 - val_fp: 0.0000e+00 - val_tn: 56231.0000 - val_fn: 17486.0000 - val_accuracy: 0.7628 - val_precision: 1.0000 - val_recall: 5.7185e-05 - val_auc: 0.7366 - val_prc: 0.4158\n",
            "Epoch 153/200\n",
            "5376/5376 [==============================] - 14s 3ms/step - loss: 0.4938 - tp: 1316.0000 - fp: 1408.0000 - tn: 129798.0000 - fn: 39485.0000 - accuracy: 0.7623 - precision: 0.4831 - recall: 0.0323 - auc: 0.7113 - prc: 0.3894 - val_loss: 0.4832 - val_tp: 0.0000e+00 - val_fp: 0.0000e+00 - val_tn: 56231.0000 - val_fn: 17487.0000 - val_accuracy: 0.7628 - val_precision: 0.0000e+00 - val_recall: 0.0000e+00 - val_auc: 0.7371 - val_prc: 0.4159\n",
            "Epoch 154/200\n",
            "5376/5376 [==============================] - 14s 3ms/step - loss: 0.4942 - tp: 1299.0000 - fp: 1375.0000 - tn: 129831.0000 - fn: 39502.0000 - accuracy: 0.7624 - precision: 0.4858 - recall: 0.0318 - auc: 0.7103 - prc: 0.3881 - val_loss: 0.4830 - val_tp: 1.0000 - val_fp: 0.0000e+00 - val_tn: 56231.0000 - val_fn: 17486.0000 - val_accuracy: 0.7628 - val_precision: 1.0000 - val_recall: 5.7185e-05 - val_auc: 0.7374 - val_prc: 0.4164\n",
            "Epoch 155/200\n",
            "5376/5376 [==============================] - 14s 3ms/step - loss: 0.4935 - tp: 1357.0000 - fp: 1434.0000 - tn: 129772.0000 - fn: 39444.0000 - accuracy: 0.7623 - precision: 0.4862 - recall: 0.0333 - auc: 0.7113 - prc: 0.3892 - val_loss: 0.4826 - val_tp: 1.0000 - val_fp: 0.0000e+00 - val_tn: 56231.0000 - val_fn: 17486.0000 - val_accuracy: 0.7628 - val_precision: 1.0000 - val_recall: 5.7185e-05 - val_auc: 0.7358 - val_prc: 0.4154\n",
            "Epoch 156/200\n",
            "5376/5376 [==============================] - 14s 3ms/step - loss: 0.4935 - tp: 1494.0000 - fp: 1614.0000 - tn: 129592.0000 - fn: 39307.0000 - accuracy: 0.7621 - precision: 0.4807 - recall: 0.0366 - auc: 0.7126 - prc: 0.3916 - val_loss: 0.4848 - val_tp: 0.0000e+00 - val_fp: 0.0000e+00 - val_tn: 56231.0000 - val_fn: 17487.0000 - val_accuracy: 0.7628 - val_precision: 0.0000e+00 - val_recall: 0.0000e+00 - val_auc: 0.7363 - val_prc: 0.4153\n",
            "Epoch 157/200\n",
            "5376/5376 [==============================] - 14s 3ms/step - loss: 0.4945 - tp: 1181.0000 - fp: 1227.0000 - tn: 129979.0000 - fn: 39620.0000 - accuracy: 0.7625 - precision: 0.4904 - recall: 0.0289 - auc: 0.7100 - prc: 0.3873 - val_loss: 0.4842 - val_tp: 0.0000e+00 - val_fp: 0.0000e+00 - val_tn: 56231.0000 - val_fn: 17487.0000 - val_accuracy: 0.7628 - val_precision: 0.0000e+00 - val_recall: 0.0000e+00 - val_auc: 0.7370 - val_prc: 0.4151\n",
            "Epoch 158/200\n",
            "5376/5376 [==============================] - 14s 3ms/step - loss: 0.4943 - tp: 1226.0000 - fp: 1299.0000 - tn: 129907.0000 - fn: 39575.0000 - accuracy: 0.7624 - precision: 0.4855 - recall: 0.0300 - auc: 0.7106 - prc: 0.3884 - val_loss: 0.4837 - val_tp: 0.0000e+00 - val_fp: 0.0000e+00 - val_tn: 56231.0000 - val_fn: 17487.0000 - val_accuracy: 0.7628 - val_precision: 0.0000e+00 - val_recall: 0.0000e+00 - val_auc: 0.7358 - val_prc: 0.4139\n",
            "Epoch 159/200\n",
            "5376/5376 [==============================] - 14s 3ms/step - loss: 0.4939 - tp: 1301.0000 - fp: 1374.0000 - tn: 129832.0000 - fn: 39500.0000 - accuracy: 0.7624 - precision: 0.4864 - recall: 0.0319 - auc: 0.7110 - prc: 0.3890 - val_loss: 0.4825 - val_tp: 0.0000e+00 - val_fp: 0.0000e+00 - val_tn: 56231.0000 - val_fn: 17487.0000 - val_accuracy: 0.7628 - val_precision: 0.0000e+00 - val_recall: 0.0000e+00 - val_auc: 0.7356 - val_prc: 0.4141\n",
            "Epoch 160/200\n",
            "5376/5376 [==============================] - 14s 3ms/step - loss: 0.4937 - tp: 1348.0000 - fp: 1423.0000 - tn: 129783.0000 - fn: 39453.0000 - accuracy: 0.7624 - precision: 0.4865 - recall: 0.0330 - auc: 0.7115 - prc: 0.3899 - val_loss: 0.4826 - val_tp: 0.0000e+00 - val_fp: 0.0000e+00 - val_tn: 56231.0000 - val_fn: 17487.0000 - val_accuracy: 0.7628 - val_precision: 0.0000e+00 - val_recall: 0.0000e+00 - val_auc: 0.7359 - val_prc: 0.4148\n",
            "Epoch 161/200\n",
            "5376/5376 [==============================] - 14s 3ms/step - loss: 0.4931 - tp: 1276.0000 - fp: 1350.0000 - tn: 129856.0000 - fn: 39525.0000 - accuracy: 0.7624 - precision: 0.4859 - recall: 0.0313 - auc: 0.7118 - prc: 0.3895 - val_loss: 0.4830 - val_tp: 0.0000e+00 - val_fp: 1.0000 - val_tn: 56230.0000 - val_fn: 17487.0000 - val_accuracy: 0.7628 - val_precision: 0.0000e+00 - val_recall: 0.0000e+00 - val_auc: 0.7364 - val_prc: 0.4140\n",
            "Epoch 162/200\n",
            "5376/5376 [==============================] - 14s 3ms/step - loss: 0.4931 - tp: 1494.0000 - fp: 1541.0000 - tn: 129665.0000 - fn: 39307.0000 - accuracy: 0.7625 - precision: 0.4923 - recall: 0.0366 - auc: 0.7128 - prc: 0.3922 - val_loss: 0.4839 - val_tp: 0.0000e+00 - val_fp: 0.0000e+00 - val_tn: 56231.0000 - val_fn: 17487.0000 - val_accuracy: 0.7628 - val_precision: 0.0000e+00 - val_recall: 0.0000e+00 - val_auc: 0.7373 - val_prc: 0.4156\n",
            "Epoch 163/200\n",
            "5376/5376 [==============================] - 14s 3ms/step - loss: 0.4938 - tp: 1318.0000 - fp: 1419.0000 - tn: 129787.0000 - fn: 39483.0000 - accuracy: 0.7622 - precision: 0.4815 - recall: 0.0323 - auc: 0.7113 - prc: 0.3893 - val_loss: 0.4839 - val_tp: 0.0000e+00 - val_fp: 0.0000e+00 - val_tn: 56231.0000 - val_fn: 17487.0000 - val_accuracy: 0.7628 - val_precision: 0.0000e+00 - val_recall: 0.0000e+00 - val_auc: 0.7363 - val_prc: 0.4139\n",
            "Epoch 164/200\n",
            "5376/5376 [==============================] - 15s 3ms/step - loss: 0.4935 - tp: 1488.0000 - fp: 1537.0000 - tn: 129669.0000 - fn: 39313.0000 - accuracy: 0.7625 - precision: 0.4919 - recall: 0.0365 - auc: 0.7115 - prc: 0.3908 - val_loss: 0.4841 - val_tp: 0.0000e+00 - val_fp: 0.0000e+00 - val_tn: 56231.0000 - val_fn: 17487.0000 - val_accuracy: 0.7628 - val_precision: 0.0000e+00 - val_recall: 0.0000e+00 - val_auc: 0.7365 - val_prc: 0.4153\n",
            "Epoch 165/200\n",
            "5376/5376 [==============================] - 15s 3ms/step - loss: 0.4934 - tp: 1434.0000 - fp: 1541.0000 - tn: 129665.0000 - fn: 39367.0000 - accuracy: 0.7622 - precision: 0.4820 - recall: 0.0351 - auc: 0.7114 - prc: 0.3903 - val_loss: 0.4832 - val_tp: 0.0000e+00 - val_fp: 0.0000e+00 - val_tn: 56231.0000 - val_fn: 17487.0000 - val_accuracy: 0.7628 - val_precision: 0.0000e+00 - val_recall: 0.0000e+00 - val_auc: 0.7363 - val_prc: 0.4147\n",
            "Epoch 166/200\n",
            "5376/5376 [==============================] - 15s 3ms/step - loss: 0.4935 - tp: 1615.0000 - fp: 1672.0000 - tn: 129534.0000 - fn: 39186.0000 - accuracy: 0.7625 - precision: 0.4913 - recall: 0.0396 - auc: 0.7123 - prc: 0.3926 - val_loss: 0.4846 - val_tp: 0.0000e+00 - val_fp: 0.0000e+00 - val_tn: 56231.0000 - val_fn: 17487.0000 - val_accuracy: 0.7628 - val_precision: 0.0000e+00 - val_recall: 0.0000e+00 - val_auc: 0.7357 - val_prc: 0.4141\n",
            "Epoch 167/200\n",
            "5376/5376 [==============================] - 14s 3ms/step - loss: 0.4938 - tp: 1431.0000 - fp: 1588.0000 - tn: 129618.0000 - fn: 39370.0000 - accuracy: 0.7619 - precision: 0.4740 - recall: 0.0351 - auc: 0.7124 - prc: 0.3918 - val_loss: 0.4832 - val_tp: 0.0000e+00 - val_fp: 0.0000e+00 - val_tn: 56231.0000 - val_fn: 17487.0000 - val_accuracy: 0.7628 - val_precision: 0.0000e+00 - val_recall: 0.0000e+00 - val_auc: 0.7349 - val_prc: 0.4126\n",
            "Epoch 168/200\n",
            "5376/5376 [==============================] - 14s 3ms/step - loss: 0.4942 - tp: 1352.0000 - fp: 1395.0000 - tn: 129811.0000 - fn: 39449.0000 - accuracy: 0.7625 - precision: 0.4922 - recall: 0.0331 - auc: 0.7108 - prc: 0.3898 - val_loss: 0.4837 - val_tp: 0.0000e+00 - val_fp: 0.0000e+00 - val_tn: 56231.0000 - val_fn: 17487.0000 - val_accuracy: 0.7628 - val_precision: 0.0000e+00 - val_recall: 0.0000e+00 - val_auc: 0.7369 - val_prc: 0.4146\n",
            "Epoch 169/200\n",
            "5376/5376 [==============================] - 14s 3ms/step - loss: 0.4936 - tp: 1550.0000 - fp: 1581.0000 - tn: 129625.0000 - fn: 39251.0000 - accuracy: 0.7626 - precision: 0.4950 - recall: 0.0380 - auc: 0.7120 - prc: 0.3918 - val_loss: 0.4853 - val_tp: 0.0000e+00 - val_fp: 0.0000e+00 - val_tn: 56231.0000 - val_fn: 17487.0000 - val_accuracy: 0.7628 - val_precision: 0.0000e+00 - val_recall: 0.0000e+00 - val_auc: 0.7370 - val_prc: 0.4152\n",
            "Epoch 170/200\n",
            "5376/5376 [==============================] - 14s 3ms/step - loss: 0.4941 - tp: 1234.0000 - fp: 1263.0000 - tn: 129943.0000 - fn: 39567.0000 - accuracy: 0.7626 - precision: 0.4942 - recall: 0.0302 - auc: 0.7113 - prc: 0.3895 - val_loss: 0.4836 - val_tp: 0.0000e+00 - val_fp: 0.0000e+00 - val_tn: 56231.0000 - val_fn: 17487.0000 - val_accuracy: 0.7628 - val_precision: 0.0000e+00 - val_recall: 0.0000e+00 - val_auc: 0.7378 - val_prc: 0.4163\n",
            "Epoch 171/200\n",
            "5376/5376 [==============================] - 14s 3ms/step - loss: 0.4940 - tp: 1262.0000 - fp: 1428.0000 - tn: 129778.0000 - fn: 39539.0000 - accuracy: 0.7618 - precision: 0.4691 - recall: 0.0309 - auc: 0.7109 - prc: 0.3881 - val_loss: 0.4826 - val_tp: 0.0000e+00 - val_fp: 0.0000e+00 - val_tn: 56231.0000 - val_fn: 17487.0000 - val_accuracy: 0.7628 - val_precision: 0.0000e+00 - val_recall: 0.0000e+00 - val_auc: 0.7359 - val_prc: 0.4144\n",
            "Epoch 172/200\n",
            "5376/5376 [==============================] - 14s 3ms/step - loss: 0.4935 - tp: 1491.0000 - fp: 1532.0000 - tn: 129674.0000 - fn: 39310.0000 - accuracy: 0.7626 - precision: 0.4932 - recall: 0.0365 - auc: 0.7126 - prc: 0.3922 - val_loss: 0.4846 - val_tp: 0.0000e+00 - val_fp: 0.0000e+00 - val_tn: 56231.0000 - val_fn: 17487.0000 - val_accuracy: 0.7628 - val_precision: 0.0000e+00 - val_recall: 0.0000e+00 - val_auc: 0.7374 - val_prc: 0.4158\n",
            "Epoch 173/200\n",
            "5376/5376 [==============================] - 15s 3ms/step - loss: 0.4939 - tp: 1124.0000 - fp: 1248.0000 - tn: 129958.0000 - fn: 39677.0000 - accuracy: 0.7621 - precision: 0.4739 - recall: 0.0275 - auc: 0.7100 - prc: 0.3870 - val_loss: 0.4842 - val_tp: 0.0000e+00 - val_fp: 0.0000e+00 - val_tn: 56231.0000 - val_fn: 17487.0000 - val_accuracy: 0.7628 - val_precision: 0.0000e+00 - val_recall: 0.0000e+00 - val_auc: 0.7361 - val_prc: 0.4138\n",
            "Epoch 174/200\n",
            "5376/5376 [==============================] - 15s 3ms/step - loss: 0.4933 - tp: 1505.0000 - fp: 1533.0000 - tn: 129673.0000 - fn: 39296.0000 - accuracy: 0.7626 - precision: 0.4954 - recall: 0.0369 - auc: 0.7125 - prc: 0.3918 - val_loss: 0.4830 - val_tp: 0.0000e+00 - val_fp: 0.0000e+00 - val_tn: 56231.0000 - val_fn: 17487.0000 - val_accuracy: 0.7628 - val_precision: 0.0000e+00 - val_recall: 0.0000e+00 - val_auc: 0.7364 - val_prc: 0.4143\n",
            "Epoch 175/200\n",
            "5376/5376 [==============================] - 14s 3ms/step - loss: 0.4938 - tp: 1347.0000 - fp: 1433.0000 - tn: 129773.0000 - fn: 39454.0000 - accuracy: 0.7623 - precision: 0.4845 - recall: 0.0330 - auc: 0.7119 - prc: 0.3907 - val_loss: 0.4839 - val_tp: 0.0000e+00 - val_fp: 0.0000e+00 - val_tn: 56231.0000 - val_fn: 17487.0000 - val_accuracy: 0.7628 - val_precision: 0.0000e+00 - val_recall: 0.0000e+00 - val_auc: 0.7363 - val_prc: 0.4144\n",
            "Epoch 176/200\n",
            "5376/5376 [==============================] - 14s 3ms/step - loss: 0.4936 - tp: 1300.0000 - fp: 1368.0000 - tn: 129838.0000 - fn: 39501.0000 - accuracy: 0.7624 - precision: 0.4873 - recall: 0.0319 - auc: 0.7111 - prc: 0.3895 - val_loss: 0.4850 - val_tp: 0.0000e+00 - val_fp: 0.0000e+00 - val_tn: 56231.0000 - val_fn: 17487.0000 - val_accuracy: 0.7628 - val_precision: 0.0000e+00 - val_recall: 0.0000e+00 - val_auc: 0.7360 - val_prc: 0.4139\n",
            "Epoch 177/200\n",
            "5376/5376 [==============================] - 14s 3ms/step - loss: 0.4939 - tp: 1399.0000 - fp: 1418.0000 - tn: 129788.0000 - fn: 39402.0000 - accuracy: 0.7627 - precision: 0.4966 - recall: 0.0343 - auc: 0.7123 - prc: 0.3913 - val_loss: 0.4828 - val_tp: 1.0000 - val_fp: 0.0000e+00 - val_tn: 56231.0000 - val_fn: 17486.0000 - val_accuracy: 0.7628 - val_precision: 1.0000 - val_recall: 5.7185e-05 - val_auc: 0.7367 - val_prc: 0.4151\n",
            "Epoch 178/200\n",
            "5376/5376 [==============================] - 14s 3ms/step - loss: 0.4939 - tp: 1163.0000 - fp: 1235.0000 - tn: 129971.0000 - fn: 39638.0000 - accuracy: 0.7624 - precision: 0.4850 - recall: 0.0285 - auc: 0.7109 - prc: 0.3877 - val_loss: 0.4843 - val_tp: 0.0000e+00 - val_fp: 0.0000e+00 - val_tn: 56231.0000 - val_fn: 17487.0000 - val_accuracy: 0.7628 - val_precision: 0.0000e+00 - val_recall: 0.0000e+00 - val_auc: 0.7343 - val_prc: 0.4122\n",
            "Epoch 179/200\n",
            "5376/5376 [==============================] - 14s 3ms/step - loss: 0.4938 - tp: 1381.0000 - fp: 1424.0000 - tn: 129782.0000 - fn: 39420.0000 - accuracy: 0.7625 - precision: 0.4923 - recall: 0.0338 - auc: 0.7110 - prc: 0.3904 - val_loss: 0.4828 - val_tp: 0.0000e+00 - val_fp: 0.0000e+00 - val_tn: 56231.0000 - val_fn: 17487.0000 - val_accuracy: 0.7628 - val_precision: 0.0000e+00 - val_recall: 0.0000e+00 - val_auc: 0.7376 - val_prc: 0.4158\n",
            "Epoch 180/200\n",
            "5376/5376 [==============================] - 14s 3ms/step - loss: 0.4942 - tp: 1474.0000 - fp: 1564.0000 - tn: 129642.0000 - fn: 39327.0000 - accuracy: 0.7623 - precision: 0.4852 - recall: 0.0361 - auc: 0.7116 - prc: 0.3911 - val_loss: 0.4834 - val_tp: 0.0000e+00 - val_fp: 0.0000e+00 - val_tn: 56231.0000 - val_fn: 17487.0000 - val_accuracy: 0.7628 - val_precision: 0.0000e+00 - val_recall: 0.0000e+00 - val_auc: 0.7348 - val_prc: 0.4133\n",
            "Epoch 181/200\n",
            "5376/5376 [==============================] - 15s 3ms/step - loss: 0.4938 - tp: 1313.0000 - fp: 1329.0000 - tn: 129877.0000 - fn: 39488.0000 - accuracy: 0.7627 - precision: 0.4970 - recall: 0.0322 - auc: 0.7116 - prc: 0.3903 - val_loss: 0.4831 - val_tp: 3.0000 - val_fp: 0.0000e+00 - val_tn: 56231.0000 - val_fn: 17484.0000 - val_accuracy: 0.7628 - val_precision: 1.0000 - val_recall: 1.7156e-04 - val_auc: 0.7365 - val_prc: 0.4159\n",
            "Epoch 182/200\n",
            "5376/5376 [==============================] - 15s 3ms/step - loss: 0.4947 - tp: 1336.0000 - fp: 1416.0000 - tn: 129790.0000 - fn: 39465.0000 - accuracy: 0.7623 - precision: 0.4855 - recall: 0.0327 - auc: 0.7101 - prc: 0.3888 - val_loss: 0.4855 - val_tp: 0.0000e+00 - val_fp: 0.0000e+00 - val_tn: 56231.0000 - val_fn: 17487.0000 - val_accuracy: 0.7628 - val_precision: 0.0000e+00 - val_recall: 0.0000e+00 - val_auc: 0.7373 - val_prc: 0.4152\n",
            "Epoch 183/200\n",
            "5376/5376 [==============================] - 15s 3ms/step - loss: 0.4945 - tp: 1195.0000 - fp: 1305.0000 - tn: 129901.0000 - fn: 39606.0000 - accuracy: 0.7622 - precision: 0.4780 - recall: 0.0293 - auc: 0.7099 - prc: 0.3872 - val_loss: 0.4844 - val_tp: 0.0000e+00 - val_fp: 0.0000e+00 - val_tn: 56231.0000 - val_fn: 17487.0000 - val_accuracy: 0.7628 - val_precision: 0.0000e+00 - val_recall: 0.0000e+00 - val_auc: 0.7345 - val_prc: 0.4128\n",
            "Epoch 184/200\n",
            "5376/5376 [==============================] - 14s 3ms/step - loss: 0.4938 - tp: 1399.0000 - fp: 1412.0000 - tn: 129794.0000 - fn: 39402.0000 - accuracy: 0.7627 - precision: 0.4977 - recall: 0.0343 - auc: 0.7120 - prc: 0.3913 - val_loss: 0.4822 - val_tp: 4.0000 - val_fp: 1.0000 - val_tn: 56230.0000 - val_fn: 17483.0000 - val_accuracy: 0.7628 - val_precision: 0.8000 - val_recall: 2.2874e-04 - val_auc: 0.7366 - val_prc: 0.4152\n",
            "Epoch 185/200\n",
            "5376/5376 [==============================] - 14s 3ms/step - loss: 0.4931 - tp: 1483.0000 - fp: 1576.0000 - tn: 129630.0000 - fn: 39318.0000 - accuracy: 0.7623 - precision: 0.4848 - recall: 0.0363 - auc: 0.7123 - prc: 0.3907 - val_loss: 0.4829 - val_tp: 0.0000e+00 - val_fp: 0.0000e+00 - val_tn: 56231.0000 - val_fn: 17487.0000 - val_accuracy: 0.7628 - val_precision: 0.0000e+00 - val_recall: 0.0000e+00 - val_auc: 0.7359 - val_prc: 0.4149\n",
            "Epoch 186/200\n",
            "5376/5376 [==============================] - 15s 3ms/step - loss: 0.4930 - tp: 1490.0000 - fp: 1562.0000 - tn: 129644.0000 - fn: 39311.0000 - accuracy: 0.7624 - precision: 0.4882 - recall: 0.0365 - auc: 0.7125 - prc: 0.3923 - val_loss: 0.4832 - val_tp: 0.0000e+00 - val_fp: 0.0000e+00 - val_tn: 56231.0000 - val_fn: 17487.0000 - val_accuracy: 0.7628 - val_precision: 0.0000e+00 - val_recall: 0.0000e+00 - val_auc: 0.7371 - val_prc: 0.4159\n",
            "Epoch 187/200\n",
            "5376/5376 [==============================] - 14s 3ms/step - loss: 0.4939 - tp: 1289.0000 - fp: 1366.0000 - tn: 129840.0000 - fn: 39512.0000 - accuracy: 0.7623 - precision: 0.4855 - recall: 0.0316 - auc: 0.7112 - prc: 0.3892 - val_loss: 0.4824 - val_tp: 1.0000 - val_fp: 0.0000e+00 - val_tn: 56231.0000 - val_fn: 17486.0000 - val_accuracy: 0.7628 - val_precision: 1.0000 - val_recall: 5.7185e-05 - val_auc: 0.7369 - val_prc: 0.4155\n",
            "Epoch 188/200\n",
            "5376/5376 [==============================] - 14s 3ms/step - loss: 0.4936 - tp: 1550.0000 - fp: 1562.0000 - tn: 129644.0000 - fn: 39251.0000 - accuracy: 0.7627 - precision: 0.4981 - recall: 0.0380 - auc: 0.7113 - prc: 0.3917 - val_loss: 0.4845 - val_tp: 0.0000e+00 - val_fp: 1.0000 - val_tn: 56230.0000 - val_fn: 17487.0000 - val_accuracy: 0.7628 - val_precision: 0.0000e+00 - val_recall: 0.0000e+00 - val_auc: 0.7365 - val_prc: 0.4147\n",
            "Epoch 189/200\n",
            "5376/5376 [==============================] - 15s 3ms/step - loss: 0.4943 - tp: 1346.0000 - fp: 1457.0000 - tn: 129749.0000 - fn: 39455.0000 - accuracy: 0.7621 - precision: 0.4802 - recall: 0.0330 - auc: 0.7112 - prc: 0.3896 - val_loss: 0.4842 - val_tp: 0.0000e+00 - val_fp: 0.0000e+00 - val_tn: 56231.0000 - val_fn: 17487.0000 - val_accuracy: 0.7628 - val_precision: 0.0000e+00 - val_recall: 0.0000e+00 - val_auc: 0.7357 - val_prc: 0.4135\n",
            "Epoch 190/200\n",
            "5376/5376 [==============================] - 15s 3ms/step - loss: 0.4936 - tp: 1413.0000 - fp: 1508.0000 - tn: 129698.0000 - fn: 39388.0000 - accuracy: 0.7622 - precision: 0.4837 - recall: 0.0346 - auc: 0.7123 - prc: 0.3916 - val_loss: 0.4834 - val_tp: 0.0000e+00 - val_fp: 0.0000e+00 - val_tn: 56231.0000 - val_fn: 17487.0000 - val_accuracy: 0.7628 - val_precision: 0.0000e+00 - val_recall: 0.0000e+00 - val_auc: 0.7366 - val_prc: 0.4156\n",
            "Epoch 191/200\n",
            "5376/5376 [==============================] - 14s 3ms/step - loss: 0.4940 - tp: 1247.0000 - fp: 1311.0000 - tn: 129895.0000 - fn: 39554.0000 - accuracy: 0.7624 - precision: 0.4875 - recall: 0.0306 - auc: 0.7111 - prc: 0.3889 - val_loss: 0.4832 - val_tp: 0.0000e+00 - val_fp: 0.0000e+00 - val_tn: 56231.0000 - val_fn: 17487.0000 - val_accuracy: 0.7628 - val_precision: 0.0000e+00 - val_recall: 0.0000e+00 - val_auc: 0.7365 - val_prc: 0.4146\n",
            "Epoch 192/200\n",
            "5376/5376 [==============================] - 14s 3ms/step - loss: 0.4937 - tp: 1480.0000 - fp: 1482.0000 - tn: 129724.0000 - fn: 39321.0000 - accuracy: 0.7628 - precision: 0.4997 - recall: 0.0363 - auc: 0.7121 - prc: 0.3911 - val_loss: 0.4827 - val_tp: 0.0000e+00 - val_fp: 0.0000e+00 - val_tn: 56231.0000 - val_fn: 17487.0000 - val_accuracy: 0.7628 - val_precision: 0.0000e+00 - val_recall: 0.0000e+00 - val_auc: 0.7363 - val_prc: 0.4146\n",
            "Epoch 193/200\n",
            "5376/5376 [==============================] - 15s 3ms/step - loss: 0.4941 - tp: 1453.0000 - fp: 1479.0000 - tn: 129727.0000 - fn: 39348.0000 - accuracy: 0.7626 - precision: 0.4956 - recall: 0.0356 - auc: 0.7110 - prc: 0.3908 - val_loss: 0.4830 - val_tp: 0.0000e+00 - val_fp: 1.0000 - val_tn: 56230.0000 - val_fn: 17487.0000 - val_accuracy: 0.7628 - val_precision: 0.0000e+00 - val_recall: 0.0000e+00 - val_auc: 0.7368 - val_prc: 0.4154\n",
            "Epoch 194/200\n",
            "5376/5376 [==============================] - 15s 3ms/step - loss: 0.4935 - tp: 1368.0000 - fp: 1426.0000 - tn: 129780.0000 - fn: 39433.0000 - accuracy: 0.7625 - precision: 0.4896 - recall: 0.0335 - auc: 0.7117 - prc: 0.3903 - val_loss: 0.4827 - val_tp: 0.0000e+00 - val_fp: 0.0000e+00 - val_tn: 56231.0000 - val_fn: 17487.0000 - val_accuracy: 0.7628 - val_precision: 0.0000e+00 - val_recall: 0.0000e+00 - val_auc: 0.7365 - val_prc: 0.4150\n",
            "Epoch 195/200\n",
            "5376/5376 [==============================] - 15s 3ms/step - loss: 0.4937 - tp: 1535.0000 - fp: 1612.0000 - tn: 129594.0000 - fn: 39266.0000 - accuracy: 0.7623 - precision: 0.4878 - recall: 0.0376 - auc: 0.7121 - prc: 0.3917 - val_loss: 0.4826 - val_tp: 1.0000 - val_fp: 0.0000e+00 - val_tn: 56231.0000 - val_fn: 17486.0000 - val_accuracy: 0.7628 - val_precision: 1.0000 - val_recall: 5.7185e-05 - val_auc: 0.7366 - val_prc: 0.4148\n",
            "Epoch 196/200\n",
            "5376/5376 [==============================] - 15s 3ms/step - loss: 0.4938 - tp: 1310.0000 - fp: 1421.0000 - tn: 129785.0000 - fn: 39491.0000 - accuracy: 0.7621 - precision: 0.4797 - recall: 0.0321 - auc: 0.7111 - prc: 0.3890 - val_loss: 0.4840 - val_tp: 0.0000e+00 - val_fp: 0.0000e+00 - val_tn: 56231.0000 - val_fn: 17487.0000 - val_accuracy: 0.7628 - val_precision: 0.0000e+00 - val_recall: 0.0000e+00 - val_auc: 0.7364 - val_prc: 0.4137\n",
            "Epoch 197/200\n",
            "5376/5376 [==============================] - 15s 3ms/step - loss: 0.4930 - tp: 1460.0000 - fp: 1528.0000 - tn: 129678.0000 - fn: 39341.0000 - accuracy: 0.7624 - precision: 0.4886 - recall: 0.0358 - auc: 0.7128 - prc: 0.3924 - val_loss: 0.4850 - val_tp: 0.0000e+00 - val_fp: 0.0000e+00 - val_tn: 56231.0000 - val_fn: 17487.0000 - val_accuracy: 0.7628 - val_precision: 0.0000e+00 - val_recall: 0.0000e+00 - val_auc: 0.7378 - val_prc: 0.4157\n",
            "Epoch 198/200\n",
            "5376/5376 [==============================] - 15s 3ms/step - loss: 0.4938 - tp: 1530.0000 - fp: 1624.0000 - tn: 129582.0000 - fn: 39271.0000 - accuracy: 0.7622 - precision: 0.4851 - recall: 0.0375 - auc: 0.7118 - prc: 0.3911 - val_loss: 0.4844 - val_tp: 0.0000e+00 - val_fp: 0.0000e+00 - val_tn: 56231.0000 - val_fn: 17487.0000 - val_accuracy: 0.7628 - val_precision: 0.0000e+00 - val_recall: 0.0000e+00 - val_auc: 0.7368 - val_prc: 0.4146\n",
            "Epoch 199/200\n",
            "5376/5376 [==============================] - 14s 3ms/step - loss: 0.4941 - tp: 1250.0000 - fp: 1327.0000 - tn: 129879.0000 - fn: 39551.0000 - accuracy: 0.7623 - precision: 0.4851 - recall: 0.0306 - auc: 0.7107 - prc: 0.3891 - val_loss: 0.4837 - val_tp: 0.0000e+00 - val_fp: 4.0000 - val_tn: 56227.0000 - val_fn: 17487.0000 - val_accuracy: 0.7627 - val_precision: 0.0000e+00 - val_recall: 0.0000e+00 - val_auc: 0.7371 - val_prc: 0.4152\n",
            "Epoch 200/200\n",
            "5376/5376 [==============================] - 15s 3ms/step - loss: 0.4938 - tp: 1414.0000 - fp: 1471.0000 - tn: 129735.0000 - fn: 39387.0000 - accuracy: 0.7625 - precision: 0.4901 - recall: 0.0347 - auc: 0.7117 - prc: 0.3904 - val_loss: 0.4834 - val_tp: 0.0000e+00 - val_fp: 0.0000e+00 - val_tn: 56231.0000 - val_fn: 17487.0000 - val_accuracy: 0.7628 - val_precision: 0.0000e+00 - val_recall: 0.0000e+00 - val_auc: 0.7362 - val_prc: 0.4142\n"
          ],
          "name": "stdout"
        }
      ]
    },
    {
      "cell_type": "code",
      "metadata": {
        "ExecuteTime": {
          "end_time": "2021-05-28T17:21:53.463468Z",
          "start_time": "2021-05-28T17:21:09.242406Z"
        },
        "id": "0-560NkDCngM"
      },
      "source": [
        "classes = model.predict(X_test)"
      ],
      "execution_count": null,
      "outputs": []
    },
    {
      "cell_type": "code",
      "metadata": {
        "id": "3CkcnTnuCngM"
      },
      "source": [
        ""
      ],
      "execution_count": null,
      "outputs": []
    },
    {
      "cell_type": "code",
      "metadata": {
        "id": "55G20n9kCngN"
      },
      "source": [
        ""
      ],
      "execution_count": null,
      "outputs": []
    }
  ]
}